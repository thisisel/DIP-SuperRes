{
  "nbformat": 4,
  "nbformat_minor": 0,
  "metadata": {
    "colab": {
      "provenance": [],
      "gpuType": "T4"
    },
    "kernelspec": {
      "name": "python3",
      "display_name": "Python 3"
    },
    "language_info": {
      "name": "python"
    },
    "accelerator": "GPU",
    "widgets": {
      "application/vnd.jupyter.widget-state+json": {
        "80f93a2c9da74a62b721b5fed018c3da": {
          "model_module": "@jupyter-widgets/controls",
          "model_name": "HBoxModel",
          "model_module_version": "1.5.0",
          "state": {
            "_dom_classes": [],
            "_model_module": "@jupyter-widgets/controls",
            "_model_module_version": "1.5.0",
            "_model_name": "HBoxModel",
            "_view_count": null,
            "_view_module": "@jupyter-widgets/controls",
            "_view_module_version": "1.5.0",
            "_view_name": "HBoxView",
            "box_style": "",
            "children": [
              "IPY_MODEL_3a28a54d81e842438f426af3853387e4",
              "IPY_MODEL_5b5997689ad34989b7bc1145d4220866",
              "IPY_MODEL_63f5a41521844a98a980d74b838fdcc1"
            ],
            "layout": "IPY_MODEL_4173cb2680a14d119b4c1e15c1f5235c"
          }
        },
        "3a28a54d81e842438f426af3853387e4": {
          "model_module": "@jupyter-widgets/controls",
          "model_name": "HTMLModel",
          "model_module_version": "1.5.0",
          "state": {
            "_dom_classes": [],
            "_model_module": "@jupyter-widgets/controls",
            "_model_module_version": "1.5.0",
            "_model_name": "HTMLModel",
            "_view_count": null,
            "_view_module": "@jupyter-widgets/controls",
            "_view_module_version": "1.5.0",
            "_view_name": "HTMLView",
            "description": "",
            "description_tooltip": null,
            "layout": "IPY_MODEL_9ab6f3f7ed7a476aa96fe30beddfa051",
            "placeholder": "​",
            "style": "IPY_MODEL_5026a0a951284644966406dcbccba1a9",
            "value": "config.json: 100%"
          }
        },
        "5b5997689ad34989b7bc1145d4220866": {
          "model_module": "@jupyter-widgets/controls",
          "model_name": "FloatProgressModel",
          "model_module_version": "1.5.0",
          "state": {
            "_dom_classes": [],
            "_model_module": "@jupyter-widgets/controls",
            "_model_module_version": "1.5.0",
            "_model_name": "FloatProgressModel",
            "_view_count": null,
            "_view_module": "@jupyter-widgets/controls",
            "_view_module_version": "1.5.0",
            "_view_name": "ProgressView",
            "bar_style": "success",
            "description": "",
            "description_tooltip": null,
            "layout": "IPY_MODEL_62bd3bd090cf4a7a83c195159def3fe8",
            "max": 188,
            "min": 0,
            "orientation": "horizontal",
            "style": "IPY_MODEL_e894eb95cf1640409b886d654e1d1409",
            "value": 188
          }
        },
        "63f5a41521844a98a980d74b838fdcc1": {
          "model_module": "@jupyter-widgets/controls",
          "model_name": "HTMLModel",
          "model_module_version": "1.5.0",
          "state": {
            "_dom_classes": [],
            "_model_module": "@jupyter-widgets/controls",
            "_model_module_version": "1.5.0",
            "_model_name": "HTMLModel",
            "_view_count": null,
            "_view_module": "@jupyter-widgets/controls",
            "_view_module_version": "1.5.0",
            "_view_name": "HTMLView",
            "description": "",
            "description_tooltip": null,
            "layout": "IPY_MODEL_347c50213d7548f4ab9c47982c2fc908",
            "placeholder": "​",
            "style": "IPY_MODEL_4c7f49b72e65445e96e6382ee64ebeff",
            "value": " 188/188 [00:00&lt;00:00, 18.1kB/s]"
          }
        },
        "4173cb2680a14d119b4c1e15c1f5235c": {
          "model_module": "@jupyter-widgets/base",
          "model_name": "LayoutModel",
          "model_module_version": "1.2.0",
          "state": {
            "_model_module": "@jupyter-widgets/base",
            "_model_module_version": "1.2.0",
            "_model_name": "LayoutModel",
            "_view_count": null,
            "_view_module": "@jupyter-widgets/base",
            "_view_module_version": "1.2.0",
            "_view_name": "LayoutView",
            "align_content": null,
            "align_items": null,
            "align_self": null,
            "border": null,
            "bottom": null,
            "display": null,
            "flex": null,
            "flex_flow": null,
            "grid_area": null,
            "grid_auto_columns": null,
            "grid_auto_flow": null,
            "grid_auto_rows": null,
            "grid_column": null,
            "grid_gap": null,
            "grid_row": null,
            "grid_template_areas": null,
            "grid_template_columns": null,
            "grid_template_rows": null,
            "height": null,
            "justify_content": null,
            "justify_items": null,
            "left": null,
            "margin": null,
            "max_height": null,
            "max_width": null,
            "min_height": null,
            "min_width": null,
            "object_fit": null,
            "object_position": null,
            "order": null,
            "overflow": null,
            "overflow_x": null,
            "overflow_y": null,
            "padding": null,
            "right": null,
            "top": null,
            "visibility": null,
            "width": null
          }
        },
        "9ab6f3f7ed7a476aa96fe30beddfa051": {
          "model_module": "@jupyter-widgets/base",
          "model_name": "LayoutModel",
          "model_module_version": "1.2.0",
          "state": {
            "_model_module": "@jupyter-widgets/base",
            "_model_module_version": "1.2.0",
            "_model_name": "LayoutModel",
            "_view_count": null,
            "_view_module": "@jupyter-widgets/base",
            "_view_module_version": "1.2.0",
            "_view_name": "LayoutView",
            "align_content": null,
            "align_items": null,
            "align_self": null,
            "border": null,
            "bottom": null,
            "display": null,
            "flex": null,
            "flex_flow": null,
            "grid_area": null,
            "grid_auto_columns": null,
            "grid_auto_flow": null,
            "grid_auto_rows": null,
            "grid_column": null,
            "grid_gap": null,
            "grid_row": null,
            "grid_template_areas": null,
            "grid_template_columns": null,
            "grid_template_rows": null,
            "height": null,
            "justify_content": null,
            "justify_items": null,
            "left": null,
            "margin": null,
            "max_height": null,
            "max_width": null,
            "min_height": null,
            "min_width": null,
            "object_fit": null,
            "object_position": null,
            "order": null,
            "overflow": null,
            "overflow_x": null,
            "overflow_y": null,
            "padding": null,
            "right": null,
            "top": null,
            "visibility": null,
            "width": null
          }
        },
        "5026a0a951284644966406dcbccba1a9": {
          "model_module": "@jupyter-widgets/controls",
          "model_name": "DescriptionStyleModel",
          "model_module_version": "1.5.0",
          "state": {
            "_model_module": "@jupyter-widgets/controls",
            "_model_module_version": "1.5.0",
            "_model_name": "DescriptionStyleModel",
            "_view_count": null,
            "_view_module": "@jupyter-widgets/base",
            "_view_module_version": "1.2.0",
            "_view_name": "StyleView",
            "description_width": ""
          }
        },
        "62bd3bd090cf4a7a83c195159def3fe8": {
          "model_module": "@jupyter-widgets/base",
          "model_name": "LayoutModel",
          "model_module_version": "1.2.0",
          "state": {
            "_model_module": "@jupyter-widgets/base",
            "_model_module_version": "1.2.0",
            "_model_name": "LayoutModel",
            "_view_count": null,
            "_view_module": "@jupyter-widgets/base",
            "_view_module_version": "1.2.0",
            "_view_name": "LayoutView",
            "align_content": null,
            "align_items": null,
            "align_self": null,
            "border": null,
            "bottom": null,
            "display": null,
            "flex": null,
            "flex_flow": null,
            "grid_area": null,
            "grid_auto_columns": null,
            "grid_auto_flow": null,
            "grid_auto_rows": null,
            "grid_column": null,
            "grid_gap": null,
            "grid_row": null,
            "grid_template_areas": null,
            "grid_template_columns": null,
            "grid_template_rows": null,
            "height": null,
            "justify_content": null,
            "justify_items": null,
            "left": null,
            "margin": null,
            "max_height": null,
            "max_width": null,
            "min_height": null,
            "min_width": null,
            "object_fit": null,
            "object_position": null,
            "order": null,
            "overflow": null,
            "overflow_x": null,
            "overflow_y": null,
            "padding": null,
            "right": null,
            "top": null,
            "visibility": null,
            "width": null
          }
        },
        "e894eb95cf1640409b886d654e1d1409": {
          "model_module": "@jupyter-widgets/controls",
          "model_name": "ProgressStyleModel",
          "model_module_version": "1.5.0",
          "state": {
            "_model_module": "@jupyter-widgets/controls",
            "_model_module_version": "1.5.0",
            "_model_name": "ProgressStyleModel",
            "_view_count": null,
            "_view_module": "@jupyter-widgets/base",
            "_view_module_version": "1.2.0",
            "_view_name": "StyleView",
            "bar_color": null,
            "description_width": ""
          }
        },
        "347c50213d7548f4ab9c47982c2fc908": {
          "model_module": "@jupyter-widgets/base",
          "model_name": "LayoutModel",
          "model_module_version": "1.2.0",
          "state": {
            "_model_module": "@jupyter-widgets/base",
            "_model_module_version": "1.2.0",
            "_model_name": "LayoutModel",
            "_view_count": null,
            "_view_module": "@jupyter-widgets/base",
            "_view_module_version": "1.2.0",
            "_view_name": "LayoutView",
            "align_content": null,
            "align_items": null,
            "align_self": null,
            "border": null,
            "bottom": null,
            "display": null,
            "flex": null,
            "flex_flow": null,
            "grid_area": null,
            "grid_auto_columns": null,
            "grid_auto_flow": null,
            "grid_auto_rows": null,
            "grid_column": null,
            "grid_gap": null,
            "grid_row": null,
            "grid_template_areas": null,
            "grid_template_columns": null,
            "grid_template_rows": null,
            "height": null,
            "justify_content": null,
            "justify_items": null,
            "left": null,
            "margin": null,
            "max_height": null,
            "max_width": null,
            "min_height": null,
            "min_width": null,
            "object_fit": null,
            "object_position": null,
            "order": null,
            "overflow": null,
            "overflow_x": null,
            "overflow_y": null,
            "padding": null,
            "right": null,
            "top": null,
            "visibility": null,
            "width": null
          }
        },
        "4c7f49b72e65445e96e6382ee64ebeff": {
          "model_module": "@jupyter-widgets/controls",
          "model_name": "DescriptionStyleModel",
          "model_module_version": "1.5.0",
          "state": {
            "_model_module": "@jupyter-widgets/controls",
            "_model_module_version": "1.5.0",
            "_model_name": "DescriptionStyleModel",
            "_view_count": null,
            "_view_module": "@jupyter-widgets/base",
            "_view_module_version": "1.2.0",
            "_view_name": "StyleView",
            "description_width": ""
          }
        },
        "52933435e9384a49b8b62bfadf0277d8": {
          "model_module": "@jupyter-widgets/controls",
          "model_name": "HBoxModel",
          "model_module_version": "1.5.0",
          "state": {
            "_dom_classes": [],
            "_model_module": "@jupyter-widgets/controls",
            "_model_module_version": "1.5.0",
            "_model_name": "HBoxModel",
            "_view_count": null,
            "_view_module": "@jupyter-widgets/controls",
            "_view_module_version": "1.5.0",
            "_view_name": "HBoxView",
            "box_style": "",
            "children": [
              "IPY_MODEL_62a5906f035145bcab6f79b95fcadf50",
              "IPY_MODEL_0d8b00dc31044e8e9caac2c8ea77548c",
              "IPY_MODEL_f4a7a4044a7f48ce929cf3a429e73d9d"
            ],
            "layout": "IPY_MODEL_7b1050098358472281bc6fb4fd9fa231"
          }
        },
        "62a5906f035145bcab6f79b95fcadf50": {
          "model_module": "@jupyter-widgets/controls",
          "model_name": "HTMLModel",
          "model_module_version": "1.5.0",
          "state": {
            "_dom_classes": [],
            "_model_module": "@jupyter-widgets/controls",
            "_model_module_version": "1.5.0",
            "_model_name": "HTMLModel",
            "_view_count": null,
            "_view_module": "@jupyter-widgets/controls",
            "_view_module_version": "1.5.0",
            "_view_name": "HTMLView",
            "description": "",
            "description_tooltip": null,
            "layout": "IPY_MODEL_c2ab12f7190f4e17ae31f1e47650c706",
            "placeholder": "​",
            "style": "IPY_MODEL_51d484ce7ce54111bcd316f4b8c76e2c",
            "value": "pytorch_model_2x.pt: 100%"
          }
        },
        "0d8b00dc31044e8e9caac2c8ea77548c": {
          "model_module": "@jupyter-widgets/controls",
          "model_name": "FloatProgressModel",
          "model_module_version": "1.5.0",
          "state": {
            "_dom_classes": [],
            "_model_module": "@jupyter-widgets/controls",
            "_model_module_version": "1.5.0",
            "_model_name": "FloatProgressModel",
            "_view_count": null,
            "_view_module": "@jupyter-widgets/controls",
            "_view_module_version": "1.5.0",
            "_view_name": "ProgressView",
            "bar_style": "success",
            "description": "",
            "description_tooltip": null,
            "layout": "IPY_MODEL_de6ed52a0f104321a4bb990efcc3b246",
            "max": 5506753,
            "min": 0,
            "orientation": "horizontal",
            "style": "IPY_MODEL_cd4d9d713f2649b481a95bce83c516d4",
            "value": 5506753
          }
        },
        "f4a7a4044a7f48ce929cf3a429e73d9d": {
          "model_module": "@jupyter-widgets/controls",
          "model_name": "HTMLModel",
          "model_module_version": "1.5.0",
          "state": {
            "_dom_classes": [],
            "_model_module": "@jupyter-widgets/controls",
            "_model_module_version": "1.5.0",
            "_model_name": "HTMLModel",
            "_view_count": null,
            "_view_module": "@jupyter-widgets/controls",
            "_view_module_version": "1.5.0",
            "_view_name": "HTMLView",
            "description": "",
            "description_tooltip": null,
            "layout": "IPY_MODEL_09e46e1d040e47919f47269f94d7a8c4",
            "placeholder": "​",
            "style": "IPY_MODEL_61e90924aa084543924c31bec3410974",
            "value": " 5.51M/5.51M [00:00&lt;00:00, 30.4MB/s]"
          }
        },
        "7b1050098358472281bc6fb4fd9fa231": {
          "model_module": "@jupyter-widgets/base",
          "model_name": "LayoutModel",
          "model_module_version": "1.2.0",
          "state": {
            "_model_module": "@jupyter-widgets/base",
            "_model_module_version": "1.2.0",
            "_model_name": "LayoutModel",
            "_view_count": null,
            "_view_module": "@jupyter-widgets/base",
            "_view_module_version": "1.2.0",
            "_view_name": "LayoutView",
            "align_content": null,
            "align_items": null,
            "align_self": null,
            "border": null,
            "bottom": null,
            "display": null,
            "flex": null,
            "flex_flow": null,
            "grid_area": null,
            "grid_auto_columns": null,
            "grid_auto_flow": null,
            "grid_auto_rows": null,
            "grid_column": null,
            "grid_gap": null,
            "grid_row": null,
            "grid_template_areas": null,
            "grid_template_columns": null,
            "grid_template_rows": null,
            "height": null,
            "justify_content": null,
            "justify_items": null,
            "left": null,
            "margin": null,
            "max_height": null,
            "max_width": null,
            "min_height": null,
            "min_width": null,
            "object_fit": null,
            "object_position": null,
            "order": null,
            "overflow": null,
            "overflow_x": null,
            "overflow_y": null,
            "padding": null,
            "right": null,
            "top": null,
            "visibility": null,
            "width": null
          }
        },
        "c2ab12f7190f4e17ae31f1e47650c706": {
          "model_module": "@jupyter-widgets/base",
          "model_name": "LayoutModel",
          "model_module_version": "1.2.0",
          "state": {
            "_model_module": "@jupyter-widgets/base",
            "_model_module_version": "1.2.0",
            "_model_name": "LayoutModel",
            "_view_count": null,
            "_view_module": "@jupyter-widgets/base",
            "_view_module_version": "1.2.0",
            "_view_name": "LayoutView",
            "align_content": null,
            "align_items": null,
            "align_self": null,
            "border": null,
            "bottom": null,
            "display": null,
            "flex": null,
            "flex_flow": null,
            "grid_area": null,
            "grid_auto_columns": null,
            "grid_auto_flow": null,
            "grid_auto_rows": null,
            "grid_column": null,
            "grid_gap": null,
            "grid_row": null,
            "grid_template_areas": null,
            "grid_template_columns": null,
            "grid_template_rows": null,
            "height": null,
            "justify_content": null,
            "justify_items": null,
            "left": null,
            "margin": null,
            "max_height": null,
            "max_width": null,
            "min_height": null,
            "min_width": null,
            "object_fit": null,
            "object_position": null,
            "order": null,
            "overflow": null,
            "overflow_x": null,
            "overflow_y": null,
            "padding": null,
            "right": null,
            "top": null,
            "visibility": null,
            "width": null
          }
        },
        "51d484ce7ce54111bcd316f4b8c76e2c": {
          "model_module": "@jupyter-widgets/controls",
          "model_name": "DescriptionStyleModel",
          "model_module_version": "1.5.0",
          "state": {
            "_model_module": "@jupyter-widgets/controls",
            "_model_module_version": "1.5.0",
            "_model_name": "DescriptionStyleModel",
            "_view_count": null,
            "_view_module": "@jupyter-widgets/base",
            "_view_module_version": "1.2.0",
            "_view_name": "StyleView",
            "description_width": ""
          }
        },
        "de6ed52a0f104321a4bb990efcc3b246": {
          "model_module": "@jupyter-widgets/base",
          "model_name": "LayoutModel",
          "model_module_version": "1.2.0",
          "state": {
            "_model_module": "@jupyter-widgets/base",
            "_model_module_version": "1.2.0",
            "_model_name": "LayoutModel",
            "_view_count": null,
            "_view_module": "@jupyter-widgets/base",
            "_view_module_version": "1.2.0",
            "_view_name": "LayoutView",
            "align_content": null,
            "align_items": null,
            "align_self": null,
            "border": null,
            "bottom": null,
            "display": null,
            "flex": null,
            "flex_flow": null,
            "grid_area": null,
            "grid_auto_columns": null,
            "grid_auto_flow": null,
            "grid_auto_rows": null,
            "grid_column": null,
            "grid_gap": null,
            "grid_row": null,
            "grid_template_areas": null,
            "grid_template_columns": null,
            "grid_template_rows": null,
            "height": null,
            "justify_content": null,
            "justify_items": null,
            "left": null,
            "margin": null,
            "max_height": null,
            "max_width": null,
            "min_height": null,
            "min_width": null,
            "object_fit": null,
            "object_position": null,
            "order": null,
            "overflow": null,
            "overflow_x": null,
            "overflow_y": null,
            "padding": null,
            "right": null,
            "top": null,
            "visibility": null,
            "width": null
          }
        },
        "cd4d9d713f2649b481a95bce83c516d4": {
          "model_module": "@jupyter-widgets/controls",
          "model_name": "ProgressStyleModel",
          "model_module_version": "1.5.0",
          "state": {
            "_model_module": "@jupyter-widgets/controls",
            "_model_module_version": "1.5.0",
            "_model_name": "ProgressStyleModel",
            "_view_count": null,
            "_view_module": "@jupyter-widgets/base",
            "_view_module_version": "1.2.0",
            "_view_name": "StyleView",
            "bar_color": null,
            "description_width": ""
          }
        },
        "09e46e1d040e47919f47269f94d7a8c4": {
          "model_module": "@jupyter-widgets/base",
          "model_name": "LayoutModel",
          "model_module_version": "1.2.0",
          "state": {
            "_model_module": "@jupyter-widgets/base",
            "_model_module_version": "1.2.0",
            "_model_name": "LayoutModel",
            "_view_count": null,
            "_view_module": "@jupyter-widgets/base",
            "_view_module_version": "1.2.0",
            "_view_name": "LayoutView",
            "align_content": null,
            "align_items": null,
            "align_self": null,
            "border": null,
            "bottom": null,
            "display": null,
            "flex": null,
            "flex_flow": null,
            "grid_area": null,
            "grid_auto_columns": null,
            "grid_auto_flow": null,
            "grid_auto_rows": null,
            "grid_column": null,
            "grid_gap": null,
            "grid_row": null,
            "grid_template_areas": null,
            "grid_template_columns": null,
            "grid_template_rows": null,
            "height": null,
            "justify_content": null,
            "justify_items": null,
            "left": null,
            "margin": null,
            "max_height": null,
            "max_width": null,
            "min_height": null,
            "min_width": null,
            "object_fit": null,
            "object_position": null,
            "order": null,
            "overflow": null,
            "overflow_x": null,
            "overflow_y": null,
            "padding": null,
            "right": null,
            "top": null,
            "visibility": null,
            "width": null
          }
        },
        "61e90924aa084543924c31bec3410974": {
          "model_module": "@jupyter-widgets/controls",
          "model_name": "DescriptionStyleModel",
          "model_module_version": "1.5.0",
          "state": {
            "_model_module": "@jupyter-widgets/controls",
            "_model_module_version": "1.5.0",
            "_model_name": "DescriptionStyleModel",
            "_view_count": null,
            "_view_module": "@jupyter-widgets/base",
            "_view_module_version": "1.2.0",
            "_view_name": "StyleView",
            "description_width": ""
          }
        },
        "9240c7e9a1b5461bafd661bbcca9b6d3": {
          "model_module": "@jupyter-widgets/controls",
          "model_name": "HBoxModel",
          "model_module_version": "1.5.0",
          "state": {
            "_dom_classes": [],
            "_model_module": "@jupyter-widgets/controls",
            "_model_module_version": "1.5.0",
            "_model_name": "HBoxModel",
            "_view_count": null,
            "_view_module": "@jupyter-widgets/controls",
            "_view_module_version": "1.5.0",
            "_view_name": "HBoxView",
            "box_style": "",
            "children": [
              "IPY_MODEL_a79918ddcdea4d98a569d15d7cf4be2f",
              "IPY_MODEL_25b18216e28947f2b618ea40048ab467",
              "IPY_MODEL_65e008a4b89747ef8122fc74feabf42d"
            ],
            "layout": "IPY_MODEL_9dd82c0701c245119598bd58967aa826"
          }
        },
        "a79918ddcdea4d98a569d15d7cf4be2f": {
          "model_module": "@jupyter-widgets/controls",
          "model_name": "HTMLModel",
          "model_module_version": "1.5.0",
          "state": {
            "_dom_classes": [],
            "_model_module": "@jupyter-widgets/controls",
            "_model_module_version": "1.5.0",
            "_model_name": "HTMLModel",
            "_view_count": null,
            "_view_module": "@jupyter-widgets/controls",
            "_view_module_version": "1.5.0",
            "_view_name": "HTMLView",
            "description": "",
            "description_tooltip": null,
            "layout": "IPY_MODEL_cf04f54fbdde4c66b526366182ebff8c",
            "placeholder": "​",
            "style": "IPY_MODEL_c213c9b0ee344396abbfc41c117b7f7d",
            "value": "Epoch 0/0: 100%"
          }
        },
        "25b18216e28947f2b618ea40048ab467": {
          "model_module": "@jupyter-widgets/controls",
          "model_name": "FloatProgressModel",
          "model_module_version": "1.5.0",
          "state": {
            "_dom_classes": [],
            "_model_module": "@jupyter-widgets/controls",
            "_model_module_version": "1.5.0",
            "_model_name": "FloatProgressModel",
            "_view_count": null,
            "_view_module": "@jupyter-widgets/controls",
            "_view_module_version": "1.5.0",
            "_view_name": "ProgressView",
            "bar_style": "success",
            "description": "",
            "description_tooltip": null,
            "layout": "IPY_MODEL_9b25fb9673704c6198ba25f0f3c4c39c",
            "max": 4,
            "min": 0,
            "orientation": "horizontal",
            "style": "IPY_MODEL_0527ac7eabf34dde828facdc50e30837",
            "value": 4
          }
        },
        "65e008a4b89747ef8122fc74feabf42d": {
          "model_module": "@jupyter-widgets/controls",
          "model_name": "HTMLModel",
          "model_module_version": "1.5.0",
          "state": {
            "_dom_classes": [],
            "_model_module": "@jupyter-widgets/controls",
            "_model_module_version": "1.5.0",
            "_model_name": "HTMLModel",
            "_view_count": null,
            "_view_module": "@jupyter-widgets/controls",
            "_view_module_version": "1.5.0",
            "_view_name": "HTMLView",
            "description": "",
            "description_tooltip": null,
            "layout": "IPY_MODEL_54dacbf19b6c4c798bc4dded39a25a59",
            "placeholder": "​",
            "style": "IPY_MODEL_fe04033dac0b40869222c81ab03b90a5",
            "value": " 4/4 [00:01&lt;00:00,  3.23it/s, loss=0.005591, lr=1.00e-04]"
          }
        },
        "9dd82c0701c245119598bd58967aa826": {
          "model_module": "@jupyter-widgets/base",
          "model_name": "LayoutModel",
          "model_module_version": "1.2.0",
          "state": {
            "_model_module": "@jupyter-widgets/base",
            "_model_module_version": "1.2.0",
            "_model_name": "LayoutModel",
            "_view_count": null,
            "_view_module": "@jupyter-widgets/base",
            "_view_module_version": "1.2.0",
            "_view_name": "LayoutView",
            "align_content": null,
            "align_items": null,
            "align_self": null,
            "border": null,
            "bottom": null,
            "display": null,
            "flex": null,
            "flex_flow": null,
            "grid_area": null,
            "grid_auto_columns": null,
            "grid_auto_flow": null,
            "grid_auto_rows": null,
            "grid_column": null,
            "grid_gap": null,
            "grid_row": null,
            "grid_template_areas": null,
            "grid_template_columns": null,
            "grid_template_rows": null,
            "height": null,
            "justify_content": null,
            "justify_items": null,
            "left": null,
            "margin": null,
            "max_height": null,
            "max_width": null,
            "min_height": null,
            "min_width": null,
            "object_fit": null,
            "object_position": null,
            "order": null,
            "overflow": null,
            "overflow_x": null,
            "overflow_y": null,
            "padding": null,
            "right": null,
            "top": null,
            "visibility": null,
            "width": null
          }
        },
        "cf04f54fbdde4c66b526366182ebff8c": {
          "model_module": "@jupyter-widgets/base",
          "model_name": "LayoutModel",
          "model_module_version": "1.2.0",
          "state": {
            "_model_module": "@jupyter-widgets/base",
            "_model_module_version": "1.2.0",
            "_model_name": "LayoutModel",
            "_view_count": null,
            "_view_module": "@jupyter-widgets/base",
            "_view_module_version": "1.2.0",
            "_view_name": "LayoutView",
            "align_content": null,
            "align_items": null,
            "align_self": null,
            "border": null,
            "bottom": null,
            "display": null,
            "flex": null,
            "flex_flow": null,
            "grid_area": null,
            "grid_auto_columns": null,
            "grid_auto_flow": null,
            "grid_auto_rows": null,
            "grid_column": null,
            "grid_gap": null,
            "grid_row": null,
            "grid_template_areas": null,
            "grid_template_columns": null,
            "grid_template_rows": null,
            "height": null,
            "justify_content": null,
            "justify_items": null,
            "left": null,
            "margin": null,
            "max_height": null,
            "max_width": null,
            "min_height": null,
            "min_width": null,
            "object_fit": null,
            "object_position": null,
            "order": null,
            "overflow": null,
            "overflow_x": null,
            "overflow_y": null,
            "padding": null,
            "right": null,
            "top": null,
            "visibility": null,
            "width": null
          }
        },
        "c213c9b0ee344396abbfc41c117b7f7d": {
          "model_module": "@jupyter-widgets/controls",
          "model_name": "DescriptionStyleModel",
          "model_module_version": "1.5.0",
          "state": {
            "_model_module": "@jupyter-widgets/controls",
            "_model_module_version": "1.5.0",
            "_model_name": "DescriptionStyleModel",
            "_view_count": null,
            "_view_module": "@jupyter-widgets/base",
            "_view_module_version": "1.2.0",
            "_view_name": "StyleView",
            "description_width": ""
          }
        },
        "9b25fb9673704c6198ba25f0f3c4c39c": {
          "model_module": "@jupyter-widgets/base",
          "model_name": "LayoutModel",
          "model_module_version": "1.2.0",
          "state": {
            "_model_module": "@jupyter-widgets/base",
            "_model_module_version": "1.2.0",
            "_model_name": "LayoutModel",
            "_view_count": null,
            "_view_module": "@jupyter-widgets/base",
            "_view_module_version": "1.2.0",
            "_view_name": "LayoutView",
            "align_content": null,
            "align_items": null,
            "align_self": null,
            "border": null,
            "bottom": null,
            "display": null,
            "flex": null,
            "flex_flow": null,
            "grid_area": null,
            "grid_auto_columns": null,
            "grid_auto_flow": null,
            "grid_auto_rows": null,
            "grid_column": null,
            "grid_gap": null,
            "grid_row": null,
            "grid_template_areas": null,
            "grid_template_columns": null,
            "grid_template_rows": null,
            "height": null,
            "justify_content": null,
            "justify_items": null,
            "left": null,
            "margin": null,
            "max_height": null,
            "max_width": null,
            "min_height": null,
            "min_width": null,
            "object_fit": null,
            "object_position": null,
            "order": null,
            "overflow": null,
            "overflow_x": null,
            "overflow_y": null,
            "padding": null,
            "right": null,
            "top": null,
            "visibility": null,
            "width": null
          }
        },
        "0527ac7eabf34dde828facdc50e30837": {
          "model_module": "@jupyter-widgets/controls",
          "model_name": "ProgressStyleModel",
          "model_module_version": "1.5.0",
          "state": {
            "_model_module": "@jupyter-widgets/controls",
            "_model_module_version": "1.5.0",
            "_model_name": "ProgressStyleModel",
            "_view_count": null,
            "_view_module": "@jupyter-widgets/base",
            "_view_module_version": "1.2.0",
            "_view_name": "StyleView",
            "bar_color": null,
            "description_width": ""
          }
        },
        "54dacbf19b6c4c798bc4dded39a25a59": {
          "model_module": "@jupyter-widgets/base",
          "model_name": "LayoutModel",
          "model_module_version": "1.2.0",
          "state": {
            "_model_module": "@jupyter-widgets/base",
            "_model_module_version": "1.2.0",
            "_model_name": "LayoutModel",
            "_view_count": null,
            "_view_module": "@jupyter-widgets/base",
            "_view_module_version": "1.2.0",
            "_view_name": "LayoutView",
            "align_content": null,
            "align_items": null,
            "align_self": null,
            "border": null,
            "bottom": null,
            "display": null,
            "flex": null,
            "flex_flow": null,
            "grid_area": null,
            "grid_auto_columns": null,
            "grid_auto_flow": null,
            "grid_auto_rows": null,
            "grid_column": null,
            "grid_gap": null,
            "grid_row": null,
            "grid_template_areas": null,
            "grid_template_columns": null,
            "grid_template_rows": null,
            "height": null,
            "justify_content": null,
            "justify_items": null,
            "left": null,
            "margin": null,
            "max_height": null,
            "max_width": null,
            "min_height": null,
            "min_width": null,
            "object_fit": null,
            "object_position": null,
            "order": null,
            "overflow": null,
            "overflow_x": null,
            "overflow_y": null,
            "padding": null,
            "right": null,
            "top": null,
            "visibility": null,
            "width": null
          }
        },
        "fe04033dac0b40869222c81ab03b90a5": {
          "model_module": "@jupyter-widgets/controls",
          "model_name": "DescriptionStyleModel",
          "model_module_version": "1.5.0",
          "state": {
            "_model_module": "@jupyter-widgets/controls",
            "_model_module_version": "1.5.0",
            "_model_name": "DescriptionStyleModel",
            "_view_count": null,
            "_view_module": "@jupyter-widgets/base",
            "_view_module_version": "1.2.0",
            "_view_name": "StyleView",
            "description_width": ""
          }
        },
        "1b6d7d37c0eb481e853511202c309c17": {
          "model_module": "@jupyter-widgets/controls",
          "model_name": "HBoxModel",
          "model_module_version": "1.5.0",
          "state": {
            "_dom_classes": [],
            "_model_module": "@jupyter-widgets/controls",
            "_model_module_version": "1.5.0",
            "_model_name": "HBoxModel",
            "_view_count": null,
            "_view_module": "@jupyter-widgets/controls",
            "_view_module_version": "1.5.0",
            "_view_name": "HBoxView",
            "box_style": "",
            "children": [
              "IPY_MODEL_343f4cbe682a4a869e155f2c21972b86",
              "IPY_MODEL_56aa9d5b8ed14326a9e849fad983c4d8",
              "IPY_MODEL_1a3897faf9d44dcdb23c08ea5f59caa1"
            ],
            "layout": "IPY_MODEL_a32301181a5b4fc7aeb6665120db6763"
          }
        },
        "343f4cbe682a4a869e155f2c21972b86": {
          "model_module": "@jupyter-widgets/controls",
          "model_name": "HTMLModel",
          "model_module_version": "1.5.0",
          "state": {
            "_dom_classes": [],
            "_model_module": "@jupyter-widgets/controls",
            "_model_module_version": "1.5.0",
            "_model_name": "HTMLModel",
            "_view_count": null,
            "_view_module": "@jupyter-widgets/controls",
            "_view_module_version": "1.5.0",
            "_view_name": "HTMLView",
            "description": "",
            "description_tooltip": null,
            "layout": "IPY_MODEL_242ecf52fc634fb2b2f315c5a1adbb5b",
            "placeholder": "​",
            "style": "IPY_MODEL_cb3fe562bfdd4dbc83978531eb3c8054",
            "value": "Epoch 0/14: 100%"
          }
        },
        "56aa9d5b8ed14326a9e849fad983c4d8": {
          "model_module": "@jupyter-widgets/controls",
          "model_name": "FloatProgressModel",
          "model_module_version": "1.5.0",
          "state": {
            "_dom_classes": [],
            "_model_module": "@jupyter-widgets/controls",
            "_model_module_version": "1.5.0",
            "_model_name": "FloatProgressModel",
            "_view_count": null,
            "_view_module": "@jupyter-widgets/controls",
            "_view_module_version": "1.5.0",
            "_view_name": "ProgressView",
            "bar_style": "success",
            "description": "",
            "description_tooltip": null,
            "layout": "IPY_MODEL_3a640518ad6043b9a1be979e40012e6f",
            "max": 185,
            "min": 0,
            "orientation": "horizontal",
            "style": "IPY_MODEL_ded4d7f1682448a2a216d04e02a40ba9",
            "value": 185
          }
        },
        "1a3897faf9d44dcdb23c08ea5f59caa1": {
          "model_module": "@jupyter-widgets/controls",
          "model_name": "HTMLModel",
          "model_module_version": "1.5.0",
          "state": {
            "_dom_classes": [],
            "_model_module": "@jupyter-widgets/controls",
            "_model_module_version": "1.5.0",
            "_model_name": "HTMLModel",
            "_view_count": null,
            "_view_module": "@jupyter-widgets/controls",
            "_view_module_version": "1.5.0",
            "_view_name": "HTMLView",
            "description": "",
            "description_tooltip": null,
            "layout": "IPY_MODEL_2fca4a0f0e0c4c0bb1f3f97b560a755f",
            "placeholder": "​",
            "style": "IPY_MODEL_015b0befb15a448a97db2cdba4ae13af",
            "value": " 185/185 [30:05&lt;00:00,  7.55s/it, loss=0.004797, lr=3.68e-05]"
          }
        },
        "a32301181a5b4fc7aeb6665120db6763": {
          "model_module": "@jupyter-widgets/base",
          "model_name": "LayoutModel",
          "model_module_version": "1.2.0",
          "state": {
            "_model_module": "@jupyter-widgets/base",
            "_model_module_version": "1.2.0",
            "_model_name": "LayoutModel",
            "_view_count": null,
            "_view_module": "@jupyter-widgets/base",
            "_view_module_version": "1.2.0",
            "_view_name": "LayoutView",
            "align_content": null,
            "align_items": null,
            "align_self": null,
            "border": null,
            "bottom": null,
            "display": null,
            "flex": null,
            "flex_flow": null,
            "grid_area": null,
            "grid_auto_columns": null,
            "grid_auto_flow": null,
            "grid_auto_rows": null,
            "grid_column": null,
            "grid_gap": null,
            "grid_row": null,
            "grid_template_areas": null,
            "grid_template_columns": null,
            "grid_template_rows": null,
            "height": null,
            "justify_content": null,
            "justify_items": null,
            "left": null,
            "margin": null,
            "max_height": null,
            "max_width": null,
            "min_height": null,
            "min_width": null,
            "object_fit": null,
            "object_position": null,
            "order": null,
            "overflow": null,
            "overflow_x": null,
            "overflow_y": null,
            "padding": null,
            "right": null,
            "top": null,
            "visibility": null,
            "width": null
          }
        },
        "242ecf52fc634fb2b2f315c5a1adbb5b": {
          "model_module": "@jupyter-widgets/base",
          "model_name": "LayoutModel",
          "model_module_version": "1.2.0",
          "state": {
            "_model_module": "@jupyter-widgets/base",
            "_model_module_version": "1.2.0",
            "_model_name": "LayoutModel",
            "_view_count": null,
            "_view_module": "@jupyter-widgets/base",
            "_view_module_version": "1.2.0",
            "_view_name": "LayoutView",
            "align_content": null,
            "align_items": null,
            "align_self": null,
            "border": null,
            "bottom": null,
            "display": null,
            "flex": null,
            "flex_flow": null,
            "grid_area": null,
            "grid_auto_columns": null,
            "grid_auto_flow": null,
            "grid_auto_rows": null,
            "grid_column": null,
            "grid_gap": null,
            "grid_row": null,
            "grid_template_areas": null,
            "grid_template_columns": null,
            "grid_template_rows": null,
            "height": null,
            "justify_content": null,
            "justify_items": null,
            "left": null,
            "margin": null,
            "max_height": null,
            "max_width": null,
            "min_height": null,
            "min_width": null,
            "object_fit": null,
            "object_position": null,
            "order": null,
            "overflow": null,
            "overflow_x": null,
            "overflow_y": null,
            "padding": null,
            "right": null,
            "top": null,
            "visibility": null,
            "width": null
          }
        },
        "cb3fe562bfdd4dbc83978531eb3c8054": {
          "model_module": "@jupyter-widgets/controls",
          "model_name": "DescriptionStyleModel",
          "model_module_version": "1.5.0",
          "state": {
            "_model_module": "@jupyter-widgets/controls",
            "_model_module_version": "1.5.0",
            "_model_name": "DescriptionStyleModel",
            "_view_count": null,
            "_view_module": "@jupyter-widgets/base",
            "_view_module_version": "1.2.0",
            "_view_name": "StyleView",
            "description_width": ""
          }
        },
        "3a640518ad6043b9a1be979e40012e6f": {
          "model_module": "@jupyter-widgets/base",
          "model_name": "LayoutModel",
          "model_module_version": "1.2.0",
          "state": {
            "_model_module": "@jupyter-widgets/base",
            "_model_module_version": "1.2.0",
            "_model_name": "LayoutModel",
            "_view_count": null,
            "_view_module": "@jupyter-widgets/base",
            "_view_module_version": "1.2.0",
            "_view_name": "LayoutView",
            "align_content": null,
            "align_items": null,
            "align_self": null,
            "border": null,
            "bottom": null,
            "display": null,
            "flex": null,
            "flex_flow": null,
            "grid_area": null,
            "grid_auto_columns": null,
            "grid_auto_flow": null,
            "grid_auto_rows": null,
            "grid_column": null,
            "grid_gap": null,
            "grid_row": null,
            "grid_template_areas": null,
            "grid_template_columns": null,
            "grid_template_rows": null,
            "height": null,
            "justify_content": null,
            "justify_items": null,
            "left": null,
            "margin": null,
            "max_height": null,
            "max_width": null,
            "min_height": null,
            "min_width": null,
            "object_fit": null,
            "object_position": null,
            "order": null,
            "overflow": null,
            "overflow_x": null,
            "overflow_y": null,
            "padding": null,
            "right": null,
            "top": null,
            "visibility": null,
            "width": null
          }
        },
        "ded4d7f1682448a2a216d04e02a40ba9": {
          "model_module": "@jupyter-widgets/controls",
          "model_name": "ProgressStyleModel",
          "model_module_version": "1.5.0",
          "state": {
            "_model_module": "@jupyter-widgets/controls",
            "_model_module_version": "1.5.0",
            "_model_name": "ProgressStyleModel",
            "_view_count": null,
            "_view_module": "@jupyter-widgets/base",
            "_view_module_version": "1.2.0",
            "_view_name": "StyleView",
            "bar_color": null,
            "description_width": ""
          }
        },
        "2fca4a0f0e0c4c0bb1f3f97b560a755f": {
          "model_module": "@jupyter-widgets/base",
          "model_name": "LayoutModel",
          "model_module_version": "1.2.0",
          "state": {
            "_model_module": "@jupyter-widgets/base",
            "_model_module_version": "1.2.0",
            "_model_name": "LayoutModel",
            "_view_count": null,
            "_view_module": "@jupyter-widgets/base",
            "_view_module_version": "1.2.0",
            "_view_name": "LayoutView",
            "align_content": null,
            "align_items": null,
            "align_self": null,
            "border": null,
            "bottom": null,
            "display": null,
            "flex": null,
            "flex_flow": null,
            "grid_area": null,
            "grid_auto_columns": null,
            "grid_auto_flow": null,
            "grid_auto_rows": null,
            "grid_column": null,
            "grid_gap": null,
            "grid_row": null,
            "grid_template_areas": null,
            "grid_template_columns": null,
            "grid_template_rows": null,
            "height": null,
            "justify_content": null,
            "justify_items": null,
            "left": null,
            "margin": null,
            "max_height": null,
            "max_width": null,
            "min_height": null,
            "min_width": null,
            "object_fit": null,
            "object_position": null,
            "order": null,
            "overflow": null,
            "overflow_x": null,
            "overflow_y": null,
            "padding": null,
            "right": null,
            "top": null,
            "visibility": null,
            "width": null
          }
        },
        "015b0befb15a448a97db2cdba4ae13af": {
          "model_module": "@jupyter-widgets/controls",
          "model_name": "DescriptionStyleModel",
          "model_module_version": "1.5.0",
          "state": {
            "_model_module": "@jupyter-widgets/controls",
            "_model_module_version": "1.5.0",
            "_model_name": "DescriptionStyleModel",
            "_view_count": null,
            "_view_module": "@jupyter-widgets/base",
            "_view_module_version": "1.2.0",
            "_view_name": "StyleView",
            "description_width": ""
          }
        },
        "123a576f511a4f518a6ae4a95532f494": {
          "model_module": "@jupyter-widgets/controls",
          "model_name": "HBoxModel",
          "model_module_version": "1.5.0",
          "state": {
            "_dom_classes": [],
            "_model_module": "@jupyter-widgets/controls",
            "_model_module_version": "1.5.0",
            "_model_name": "HBoxModel",
            "_view_count": null,
            "_view_module": "@jupyter-widgets/controls",
            "_view_module_version": "1.5.0",
            "_view_name": "HBoxView",
            "box_style": "",
            "children": [
              "IPY_MODEL_8c85bef66c7f43a1a2f895348133a493",
              "IPY_MODEL_a2ad937ff6ad41ec8ab814aaf1aa2583",
              "IPY_MODEL_7adcd637d829459693c648a4aeab8fb1"
            ],
            "layout": "IPY_MODEL_94a65622481e4844a7467138cedc2d37"
          }
        },
        "8c85bef66c7f43a1a2f895348133a493": {
          "model_module": "@jupyter-widgets/controls",
          "model_name": "HTMLModel",
          "model_module_version": "1.5.0",
          "state": {
            "_dom_classes": [],
            "_model_module": "@jupyter-widgets/controls",
            "_model_module_version": "1.5.0",
            "_model_name": "HTMLModel",
            "_view_count": null,
            "_view_module": "@jupyter-widgets/controls",
            "_view_module_version": "1.5.0",
            "_view_name": "HTMLView",
            "description": "",
            "description_tooltip": null,
            "layout": "IPY_MODEL_b05b94e512fd4a27a3eec4c4e5e16618",
            "placeholder": "​",
            "style": "IPY_MODEL_a8b9b688c6e64f4f91ebf75e146199f8",
            "value": "Epoch 1/14:  94%"
          }
        },
        "a2ad937ff6ad41ec8ab814aaf1aa2583": {
          "model_module": "@jupyter-widgets/controls",
          "model_name": "FloatProgressModel",
          "model_module_version": "1.5.0",
          "state": {
            "_dom_classes": [],
            "_model_module": "@jupyter-widgets/controls",
            "_model_module_version": "1.5.0",
            "_model_name": "FloatProgressModel",
            "_view_count": null,
            "_view_module": "@jupyter-widgets/controls",
            "_view_module_version": "1.5.0",
            "_view_name": "ProgressView",
            "bar_style": "",
            "description": "",
            "description_tooltip": null,
            "layout": "IPY_MODEL_1343e09377c14658836f3b3ee8bf304b",
            "max": 185,
            "min": 0,
            "orientation": "horizontal",
            "style": "IPY_MODEL_17a33cf36dac4b21a67ea00a9bf597c4",
            "value": 173
          }
        },
        "7adcd637d829459693c648a4aeab8fb1": {
          "model_module": "@jupyter-widgets/controls",
          "model_name": "HTMLModel",
          "model_module_version": "1.5.0",
          "state": {
            "_dom_classes": [],
            "_model_module": "@jupyter-widgets/controls",
            "_model_module_version": "1.5.0",
            "_model_name": "HTMLModel",
            "_view_count": null,
            "_view_module": "@jupyter-widgets/controls",
            "_view_module_version": "1.5.0",
            "_view_name": "HTMLView",
            "description": "",
            "description_tooltip": null,
            "layout": "IPY_MODEL_6fdc0cdd2bbe45aa91efb9ec2d0738e1",
            "placeholder": "​",
            "style": "IPY_MODEL_c24b1efab996469290ac584a512e3311",
            "value": " 173/185 [2:38:25&lt;07:05, 35.46s/it, loss=0.004659, lr=7.14e-05]"
          }
        },
        "94a65622481e4844a7467138cedc2d37": {
          "model_module": "@jupyter-widgets/base",
          "model_name": "LayoutModel",
          "model_module_version": "1.2.0",
          "state": {
            "_model_module": "@jupyter-widgets/base",
            "_model_module_version": "1.2.0",
            "_model_name": "LayoutModel",
            "_view_count": null,
            "_view_module": "@jupyter-widgets/base",
            "_view_module_version": "1.2.0",
            "_view_name": "LayoutView",
            "align_content": null,
            "align_items": null,
            "align_self": null,
            "border": null,
            "bottom": null,
            "display": null,
            "flex": null,
            "flex_flow": null,
            "grid_area": null,
            "grid_auto_columns": null,
            "grid_auto_flow": null,
            "grid_auto_rows": null,
            "grid_column": null,
            "grid_gap": null,
            "grid_row": null,
            "grid_template_areas": null,
            "grid_template_columns": null,
            "grid_template_rows": null,
            "height": null,
            "justify_content": null,
            "justify_items": null,
            "left": null,
            "margin": null,
            "max_height": null,
            "max_width": null,
            "min_height": null,
            "min_width": null,
            "object_fit": null,
            "object_position": null,
            "order": null,
            "overflow": null,
            "overflow_x": null,
            "overflow_y": null,
            "padding": null,
            "right": null,
            "top": null,
            "visibility": null,
            "width": null
          }
        },
        "b05b94e512fd4a27a3eec4c4e5e16618": {
          "model_module": "@jupyter-widgets/base",
          "model_name": "LayoutModel",
          "model_module_version": "1.2.0",
          "state": {
            "_model_module": "@jupyter-widgets/base",
            "_model_module_version": "1.2.0",
            "_model_name": "LayoutModel",
            "_view_count": null,
            "_view_module": "@jupyter-widgets/base",
            "_view_module_version": "1.2.0",
            "_view_name": "LayoutView",
            "align_content": null,
            "align_items": null,
            "align_self": null,
            "border": null,
            "bottom": null,
            "display": null,
            "flex": null,
            "flex_flow": null,
            "grid_area": null,
            "grid_auto_columns": null,
            "grid_auto_flow": null,
            "grid_auto_rows": null,
            "grid_column": null,
            "grid_gap": null,
            "grid_row": null,
            "grid_template_areas": null,
            "grid_template_columns": null,
            "grid_template_rows": null,
            "height": null,
            "justify_content": null,
            "justify_items": null,
            "left": null,
            "margin": null,
            "max_height": null,
            "max_width": null,
            "min_height": null,
            "min_width": null,
            "object_fit": null,
            "object_position": null,
            "order": null,
            "overflow": null,
            "overflow_x": null,
            "overflow_y": null,
            "padding": null,
            "right": null,
            "top": null,
            "visibility": null,
            "width": null
          }
        },
        "a8b9b688c6e64f4f91ebf75e146199f8": {
          "model_module": "@jupyter-widgets/controls",
          "model_name": "DescriptionStyleModel",
          "model_module_version": "1.5.0",
          "state": {
            "_model_module": "@jupyter-widgets/controls",
            "_model_module_version": "1.5.0",
            "_model_name": "DescriptionStyleModel",
            "_view_count": null,
            "_view_module": "@jupyter-widgets/base",
            "_view_module_version": "1.2.0",
            "_view_name": "StyleView",
            "description_width": ""
          }
        },
        "1343e09377c14658836f3b3ee8bf304b": {
          "model_module": "@jupyter-widgets/base",
          "model_name": "LayoutModel",
          "model_module_version": "1.2.0",
          "state": {
            "_model_module": "@jupyter-widgets/base",
            "_model_module_version": "1.2.0",
            "_model_name": "LayoutModel",
            "_view_count": null,
            "_view_module": "@jupyter-widgets/base",
            "_view_module_version": "1.2.0",
            "_view_name": "LayoutView",
            "align_content": null,
            "align_items": null,
            "align_self": null,
            "border": null,
            "bottom": null,
            "display": null,
            "flex": null,
            "flex_flow": null,
            "grid_area": null,
            "grid_auto_columns": null,
            "grid_auto_flow": null,
            "grid_auto_rows": null,
            "grid_column": null,
            "grid_gap": null,
            "grid_row": null,
            "grid_template_areas": null,
            "grid_template_columns": null,
            "grid_template_rows": null,
            "height": null,
            "justify_content": null,
            "justify_items": null,
            "left": null,
            "margin": null,
            "max_height": null,
            "max_width": null,
            "min_height": null,
            "min_width": null,
            "object_fit": null,
            "object_position": null,
            "order": null,
            "overflow": null,
            "overflow_x": null,
            "overflow_y": null,
            "padding": null,
            "right": null,
            "top": null,
            "visibility": null,
            "width": null
          }
        },
        "17a33cf36dac4b21a67ea00a9bf597c4": {
          "model_module": "@jupyter-widgets/controls",
          "model_name": "ProgressStyleModel",
          "model_module_version": "1.5.0",
          "state": {
            "_model_module": "@jupyter-widgets/controls",
            "_model_module_version": "1.5.0",
            "_model_name": "ProgressStyleModel",
            "_view_count": null,
            "_view_module": "@jupyter-widgets/base",
            "_view_module_version": "1.2.0",
            "_view_name": "StyleView",
            "bar_color": null,
            "description_width": ""
          }
        },
        "6fdc0cdd2bbe45aa91efb9ec2d0738e1": {
          "model_module": "@jupyter-widgets/base",
          "model_name": "LayoutModel",
          "model_module_version": "1.2.0",
          "state": {
            "_model_module": "@jupyter-widgets/base",
            "_model_module_version": "1.2.0",
            "_model_name": "LayoutModel",
            "_view_count": null,
            "_view_module": "@jupyter-widgets/base",
            "_view_module_version": "1.2.0",
            "_view_name": "LayoutView",
            "align_content": null,
            "align_items": null,
            "align_self": null,
            "border": null,
            "bottom": null,
            "display": null,
            "flex": null,
            "flex_flow": null,
            "grid_area": null,
            "grid_auto_columns": null,
            "grid_auto_flow": null,
            "grid_auto_rows": null,
            "grid_column": null,
            "grid_gap": null,
            "grid_row": null,
            "grid_template_areas": null,
            "grid_template_columns": null,
            "grid_template_rows": null,
            "height": null,
            "justify_content": null,
            "justify_items": null,
            "left": null,
            "margin": null,
            "max_height": null,
            "max_width": null,
            "min_height": null,
            "min_width": null,
            "object_fit": null,
            "object_position": null,
            "order": null,
            "overflow": null,
            "overflow_x": null,
            "overflow_y": null,
            "padding": null,
            "right": null,
            "top": null,
            "visibility": null,
            "width": null
          }
        },
        "c24b1efab996469290ac584a512e3311": {
          "model_module": "@jupyter-widgets/controls",
          "model_name": "DescriptionStyleModel",
          "model_module_version": "1.5.0",
          "state": {
            "_model_module": "@jupyter-widgets/controls",
            "_model_module_version": "1.5.0",
            "_model_name": "DescriptionStyleModel",
            "_view_count": null,
            "_view_module": "@jupyter-widgets/base",
            "_view_module_version": "1.2.0",
            "_view_name": "StyleView",
            "description_width": ""
          }
        }
      }
    }
  },
  "cells": [
    {
      "cell_type": "markdown",
      "source": [
        "# Preparing the Enviorment\n"
      ],
      "metadata": {
        "id": "_KAzAvjKhwb4"
      }
    },
    {
      "cell_type": "markdown",
      "source": [
        "## Check out Colab Instance Region"
      ],
      "metadata": {
        "id": "CzeI3F9vjb40"
      }
    },
    {
      "cell_type": "code",
      "source": [
        "!curl ipinfo.io"
      ],
      "metadata": {
        "colab": {
          "base_uri": "https://localhost:8080/"
        },
        "id": "o7YxlFf-jXTb",
        "outputId": "32a3831e-b42f-467c-fbf6-e02ae72c70b2"
      },
      "execution_count": 5,
      "outputs": [
        {
          "output_type": "stream",
          "name": "stdout",
          "text": [
            "{\n",
            "  \"ip\": \"34.169.139.106\",\n",
            "  \"hostname\": \"106.139.169.34.bc.googleusercontent.com\",\n",
            "  \"city\": \"The Dalles\",\n",
            "  \"region\": \"Oregon\",\n",
            "  \"country\": \"US\",\n",
            "  \"loc\": \"45.5946,-121.1787\",\n",
            "  \"org\": \"AS396982 Google LLC\",\n",
            "  \"postal\": \"97058\",\n",
            "  \"timezone\": \"America/Los_Angeles\",\n",
            "  \"readme\": \"https://ipinfo.io/missingauth\"\n",
            "}"
          ]
        }
      ]
    },
    {
      "cell_type": "code",
      "source": [
        "!nvidia-smi"
      ],
      "metadata": {
        "colab": {
          "base_uri": "https://localhost:8080/"
        },
        "id": "SPNJVYlvvEd2",
        "outputId": "1523da08-7681-41e3-f612-ffa88e4a2b0c"
      },
      "execution_count": null,
      "outputs": [
        {
          "output_type": "stream",
          "name": "stdout",
          "text": [
            "Sat Aug  9 18:48:20 2025       \n",
            "+-----------------------------------------------------------------------------------------+\n",
            "| NVIDIA-SMI 550.54.15              Driver Version: 550.54.15      CUDA Version: 12.4     |\n",
            "|-----------------------------------------+------------------------+----------------------+\n",
            "| GPU  Name                 Persistence-M | Bus-Id          Disp.A | Volatile Uncorr. ECC |\n",
            "| Fan  Temp   Perf          Pwr:Usage/Cap |           Memory-Usage | GPU-Util  Compute M. |\n",
            "|                                         |                        |               MIG M. |\n",
            "|=========================================+========================+======================|\n",
            "|   0  Tesla T4                       Off |   00000000:00:04.0 Off |                    0 |\n",
            "| N/A   77C    P0             30W /   70W |    4382MiB /  15360MiB |      0%      Default |\n",
            "|                                         |                        |                  N/A |\n",
            "+-----------------------------------------+------------------------+----------------------+\n",
            "                                                                                         \n",
            "+-----------------------------------------------------------------------------------------+\n",
            "| Processes:                                                                              |\n",
            "|  GPU   GI   CI        PID   Type   Process name                              GPU Memory |\n",
            "|        ID   ID                                                               Usage      |\n",
            "|=========================================================================================|\n",
            "+-----------------------------------------------------------------------------------------+\n"
          ]
        }
      ]
    },
    {
      "cell_type": "markdown",
      "source": [
        "## Intsall Essential Packaeges\n",
        "\n",
        "`super-image` library is built on top of **Hugging Face**'s `transformers` and `datasets`"
      ],
      "metadata": {
        "id": "53oNfTDU4aOj"
      }
    },
    {
      "cell_type": "code",
      "source": [
        "!pip install super-image -q"
      ],
      "metadata": {
        "id": "zFprZGbb4ak8",
        "outputId": "9a26e894-e4e0-4480-900f-c9090091711b",
        "colab": {
          "base_uri": "https://localhost:8080/"
        }
      },
      "execution_count": 6,
      "outputs": [
        {
          "output_type": "stream",
          "name": "stdout",
          "text": [
            "\u001b[2K   \u001b[90m━━━━━━━━━━━━━━━━━━━━━━━━━━━━━━━━━━━━━━━━\u001b[0m \u001b[32m95.9/95.9 kB\u001b[0m \u001b[31m5.3 MB/s\u001b[0m eta \u001b[36m0:00:00\u001b[0m\n",
            "\u001b[2K   \u001b[90m━━━━━━━━━━━━━━━━━━━━━━━━━━━━━━━━━━━━━━━━\u001b[0m \u001b[32m363.4/363.4 MB\u001b[0m \u001b[31m4.6 MB/s\u001b[0m eta \u001b[36m0:00:00\u001b[0m\n",
            "\u001b[2K   \u001b[90m━━━━━━━━━━━━━━━━━━━━━━━━━━━━━━━━━━━━━━━━\u001b[0m \u001b[32m13.8/13.8 MB\u001b[0m \u001b[31m52.2 MB/s\u001b[0m eta \u001b[36m0:00:00\u001b[0m\n",
            "\u001b[2K   \u001b[90m━━━━━━━━━━━━━━━━━━━━━━━━━━━━━━━━━━━━━━━━\u001b[0m \u001b[32m24.6/24.6 MB\u001b[0m \u001b[31m31.3 MB/s\u001b[0m eta \u001b[36m0:00:00\u001b[0m\n",
            "\u001b[2K   \u001b[90m━━━━━━━━━━━━━━━━━━━━━━━━━━━━━━━━━━━━━━━━\u001b[0m \u001b[32m883.7/883.7 kB\u001b[0m \u001b[31m43.6 MB/s\u001b[0m eta \u001b[36m0:00:00\u001b[0m\n",
            "\u001b[2K   \u001b[90m━━━━━━━━━━━━━━━━━━━━━━━━━━━━━━━━━━━━━━━━\u001b[0m \u001b[32m664.8/664.8 MB\u001b[0m \u001b[31m2.2 MB/s\u001b[0m eta \u001b[36m0:00:00\u001b[0m\n",
            "\u001b[2K   \u001b[90m━━━━━━━━━━━━━━━━━━━━━━━━━━━━━━━━━━━━━━━━\u001b[0m \u001b[32m211.5/211.5 MB\u001b[0m \u001b[31m5.6 MB/s\u001b[0m eta \u001b[36m0:00:00\u001b[0m\n",
            "\u001b[2K   \u001b[90m━━━━━━━━━━━━━━━━━━━━━━━━━━━━━━━━━━━━━━━━\u001b[0m \u001b[32m56.3/56.3 MB\u001b[0m \u001b[31m12.3 MB/s\u001b[0m eta \u001b[36m0:00:00\u001b[0m\n",
            "\u001b[2K   \u001b[90m━━━━━━━━━━━━━━━━━━━━━━━━━━━━━━━━━━━━━━━━\u001b[0m \u001b[32m127.9/127.9 MB\u001b[0m \u001b[31m8.9 MB/s\u001b[0m eta \u001b[36m0:00:00\u001b[0m\n",
            "\u001b[2K   \u001b[90m━━━━━━━━━━━━━━━━━━━━━━━━━━━━━━━━━━━━━━━━\u001b[0m \u001b[32m207.5/207.5 MB\u001b[0m \u001b[31m6.3 MB/s\u001b[0m eta \u001b[36m0:00:00\u001b[0m\n",
            "\u001b[2K   \u001b[90m━━━━━━━━━━━━━━━━━━━━━━━━━━━━━━━━━━━━━━━━\u001b[0m \u001b[32m188.7/188.7 MB\u001b[0m \u001b[31m6.2 MB/s\u001b[0m eta \u001b[36m0:00:00\u001b[0m\n",
            "\u001b[2K   \u001b[90m━━━━━━━━━━━━━━━━━━━━━━━━━━━━━━━━━━━━━━━━\u001b[0m \u001b[32m21.1/21.1 MB\u001b[0m \u001b[31m40.7 MB/s\u001b[0m eta \u001b[36m0:00:00\u001b[0m\n",
            "\u001b[?25h"
          ]
        }
      ]
    },
    {
      "cell_type": "markdown",
      "source": [
        "## Imports"
      ],
      "metadata": {
        "id": "XNClEaWBiATD"
      }
    },
    {
      "cell_type": "code",
      "source": [
        "import torch\n",
        "from torch.utils.data import Dataset, DataLoader\n",
        "from torch.optim import Adam, lr_scheduler\n",
        "\n",
        "\n",
        "from super_image import Trainer, PreTrainedModel, TrainingArguments\n",
        "from super_image.models import EdsrModel\n",
        "from super_image.trainer import Trainer, logger\n",
        "from super_image.utils.metrics import AverageMeter"
      ],
      "metadata": {
        "id": "qpjGAr7whwyC"
      },
      "execution_count": 7,
      "outputs": []
    },
    {
      "cell_type": "code",
      "source": [
        "import os\n",
        "from pathlib import Path\n",
        "from typing import List, Union, Dict\n",
        "from dataclasses import dataclass\n",
        "\n",
        "from tqdm.auto import tqdm\n",
        "import numpy as np"
      ],
      "metadata": {
        "id": "4u4KLpJbuw7x"
      },
      "execution_count": 8,
      "outputs": []
    },
    {
      "cell_type": "markdown",
      "source": [
        "## Paths and Directories"
      ],
      "metadata": {
        "id": "y80KYwyIiJdv"
      }
    },
    {
      "cell_type": "code",
      "source": [
        "from google.colab import drive\n",
        "\n",
        "drive.mount('/content/drive')"
      ],
      "metadata": {
        "colab": {
          "base_uri": "https://localhost:8080/"
        },
        "id": "ZFoBo8t5iKS1",
        "outputId": "4ae116c0-af8c-489c-d7d2-5c7b7ff60af0"
      },
      "execution_count": 9,
      "outputs": [
        {
          "output_type": "stream",
          "name": "stdout",
          "text": [
            "Mounted at /content/drive\n"
          ]
        }
      ]
    },
    {
      "cell_type": "code",
      "source": [
        "BASE_DIR = Path('/content/drive/MyDrive/datasets/sen2venus')\n",
        "\n",
        "TACO_RAW_DIR = BASE_DIR / 'TACO_raw_data'\n",
        "os.makedirs(TACO_RAW_DIR, exist_ok=True)\n",
        "print(f\"Data will be saved to: {TACO_RAW_DIR}\")\n",
        "\n",
        "SELECTED_SUBSETS = [\n",
        "    \"SUDOUE-4\",\n",
        "    \"SUDOUE-5\",\n",
        "    \"SUDOUE-6\"\n",
        "]\n",
        "TACO_FILE_PATHS = [TACO_RAW_DIR / f\"{site_name}.taco\" for site_name in SELECTED_SUBSETS]\n",
        "\n",
        "\n",
        "NORMALIZED_SETS_DIR = BASE_DIR / 'normalized_sets'\n",
        "os.makedirs(NORMALIZED_SETS_DIR, exist_ok=True)\n",
        "print(f\"Normalaized sets are retrieved from:\\n\\t {NORMALIZED_SETS_DIR}\")\n",
        "\n",
        "# TRAIN_SAVE_DIR = NORMALIZED_SETS_DIR / 'train'\n",
        "# os.makedirs(TRAIN_SAVE_DIR, exist_ok=True)\n",
        "# print(f\"Train data will be saved to:\\n\\t {TRAIN_SAVE_DIR}\")\n",
        "\n",
        "# VAL_SAVE_DIR = NORMALIZED_SETS_DIR / 'val'\n",
        "# os.makedirs(VAL_SAVE_DIR, exist_ok=True)\n",
        "# print(f\"Validation data will be saved to:\\n\\t {VAL_SAVE_DIR}\")\n",
        "\n",
        "# TEST_SAVE_DIR = NORMALIZED_SETS_DIR / 'test'\n",
        "# os.makedirs(TEST_SAVE_DIR, exist_ok=True)\n",
        "# print(f\"Test data will be saved to:\\n\\t {TEST_SAVE_DIR}\")\n",
        "\n",
        "# essential for resuming training and saving final model.\n",
        "FINETUNR_SAVE_DIR = BASE_DIR / 'edsr_finetune'\n",
        "os.makedirs(FINETUNR_SAVE_DIR, exist_ok=True)\n",
        "print(f\"Finetuning data including checkpoints and logs will be saved to:\\n\\t{FINETUNR_SAVE_DIR}\")"
      ],
      "metadata": {
        "colab": {
          "base_uri": "https://localhost:8080/"
        },
        "id": "o-EoaWOvpdsx",
        "outputId": "9462d2dc-1483-41c6-ddbc-403c6b212e4d"
      },
      "execution_count": 10,
      "outputs": [
        {
          "output_type": "stream",
          "name": "stdout",
          "text": [
            "Data will be saved to: /content/drive/MyDrive/datasets/sen2venus/TACO_raw_data\n",
            "Normalaized sets are retrieved from:\n",
            "\t /content/drive/MyDrive/datasets/sen2venus/normalized_sets\n",
            "Finetuning data including checkpoints and logs will be saved to:\n",
            "\t/content/drive/MyDrive/datasets/sen2venus/edsr_finetune\n"
          ]
        }
      ]
    },
    {
      "cell_type": "code",
      "source": [
        "VM_DIR = '/content/TACO_Normalized'\n",
        "\n",
        "print(\"--- Starting Data Transfer ---\")\n",
        "# Create the local directory if it doesn't exist\n",
        "if not os.path.exists(VM_DIR):\n",
        "    print(f\"Copying data from {NORMALIZED_SETS_DIR} to {VM_DIR}...\")\n",
        "    # Use the -q flag for a quiet copy to avoid flooding your output\n",
        "    !cp -r \"{NORMALIZED_SETS_DIR}\" \"{VM_DIR}\"\n",
        "    print(\"Data transfer complete.\")\n",
        "else:\n",
        "    print(\"Data already exists locally.\")\n",
        "\n",
        "\n",
        "VM_DIR = Path(VM_DIR)\n",
        "TRAIN_VM_DIR = VM_DIR / 'train'\n",
        "VAL_VM_DIR = VM_DIR / 'val'\n",
        "TEST_VM_DIR = VM_DIR / 'test'"
      ],
      "metadata": {
        "colab": {
          "base_uri": "https://localhost:8080/"
        },
        "id": "Bi2HE0q8xOr6",
        "outputId": "6f1435a4-676f-4ec5-9d67-a30811ac7f3f"
      },
      "execution_count": 11,
      "outputs": [
        {
          "output_type": "stream",
          "name": "stdout",
          "text": [
            "--- Starting Data Transfer ---\n",
            "Copying data from /content/drive/MyDrive/datasets/sen2venus/normalized_sets to /content/TACO_Normalized...\n",
            "Data transfer complete.\n"
          ]
        }
      ]
    },
    {
      "cell_type": "markdown",
      "source": [
        "# Step 1: Define PyTorch Datasets & Dataloaders"
      ],
      "metadata": {
        "id": "ClVyKPm_peAg"
      }
    },
    {
      "cell_type": "code",
      "execution_count": 12,
      "metadata": {
        "id": "_vV2B_ZtT6oW"
      },
      "outputs": [],
      "source": [
        "class PreNormalizedDataset(Dataset):\n",
        "    \"\"\"\n",
        "    Efficiently reads pre-processed, sharded tensor files from disk.\n",
        "    \"\"\"\n",
        "    def __init__(self, shard_dir: Union[str, Path]):\n",
        "        self.shard_dir = Path(shard_dir)\n",
        "        self.shard_paths: List[Path] = sorted(self.shard_dir.glob(\"*.pt\"))\n",
        "\n",
        "        if not self.shard_paths:\n",
        "            raise ValueError(f\"No shard files ('*.pt') found in {self.shard_dir}\")\n",
        "\n",
        "        # To calculate length, we check the size of the first shard and assume\n",
        "        # all but the last are the same size.\n",
        "        first_shard = torch.load(self.shard_paths[0])\n",
        "        self.shard_size = len(first_shard)\n",
        "        last_shard = torch.load(self.shard_paths[-1])\n",
        "        self.length = (len(self.shard_paths) - 1) * self.shard_size + len(last_shard)\n",
        "\n",
        "        # Simple cache to avoid re-loading the same shard consecutively\n",
        "        self._cache = {}\n",
        "        self._cached_shard_index = -1\n",
        "        print(f\"Initialized dataset from {self.shard_dir} with {self.length} samples across {len(self.shard_paths)} shards.\")\n",
        "\n",
        "\n",
        "    def __len__(self):\n",
        "        return self.length\n",
        "\n",
        "    def __getitem__(self, idx)->Dict[str, np.ndarray]:\n",
        "        shard_index = idx // self.shard_size\n",
        "        index_in_shard = idx % self.shard_size\n",
        "\n",
        "        if shard_index != self._cached_shard_index:\n",
        "            self._cache = torch.load(self.shard_paths[shard_index])\n",
        "            self._cached_shard_index = shard_index\n",
        "\n",
        "        # coupled with TACORGBDataset dataset class\n",
        "        # each item in the shard is a squeezed dictionary with keys lr and hr\n",
        "        squeezed_sample = self._cache[index_in_shard]\n",
        "        return squeezed_sample['lr'], squeezed_sample['hr']\n"
      ]
    },
    {
      "cell_type": "markdown",
      "source": [
        "## Dataloader Instantiation"
      ],
      "metadata": {
        "id": "Iw7l7AuU5IUZ"
      }
    },
    {
      "cell_type": "code",
      "source": [
        "train_dataset = PreNormalizedDataset(TRAIN_VM_DIR)\n",
        "train_loader = DataLoader(train_dataset, batch_size=16, shuffle=True)"
      ],
      "metadata": {
        "colab": {
          "base_uri": "https://localhost:8080/"
        },
        "id": "TINjQ7ZN5MZf",
        "outputId": "44f658eb-838d-4ee5-c5f6-66b9e089e5b5"
      },
      "execution_count": 13,
      "outputs": [
        {
          "output_type": "stream",
          "name": "stdout",
          "text": [
            "Initialized dataset from /content/TACO_Normalized/train with 4436 samples across 5 shards.\n"
          ]
        }
      ]
    },
    {
      "cell_type": "code",
      "source": [
        "print(\"---Verifying  batch shape:\")\n",
        "\n",
        "lr_batch, hr_batch = next(iter(train_loader))\n",
        "\n",
        "print(f\"Verification successful!\")\n",
        "print(f\"LR batch shape: {lr_batch.shape}\")\n",
        "print(f\"HR batch shape: {hr_batch.shape}\")\n",
        "print(f\"LR batch dtype: {lr_batch.dtype}\")\n",
        "print(f\"HR batch dtype: {hr_batch.dtype}\")"
      ],
      "metadata": {
        "id": "PI4v6MuK5mgG",
        "outputId": "db98c11b-e600-4f83-af17-060afa7af788",
        "colab": {
          "base_uri": "https://localhost:8080/"
        }
      },
      "execution_count": null,
      "outputs": [
        {
          "output_type": "stream",
          "name": "stdout",
          "text": [
            "---Verifying  dataset output format:\n",
            "dict_keys(['pixel_values', 'labels'])\n",
            "LR shape: torch.Size([3, 128, 128])\n",
            "HR shape: torch.Size([3, 256, 256])\n",
            "---Verifying  batch shape:\n",
            "Verification successful!\n",
            "LR batch shape: torch.Size([16, 3, 128, 128])\n",
            "HR batch shape: torch.Size([16, 3, 256, 256])\n",
            "LR batch dtype: torch.float32\n",
            "HR batch dtype: torch.float32\n"
          ]
        }
      ]
    },
    {
      "cell_type": "code",
      "source": [
        "val_dataset = PreNormalizedDataset(VAL_VM_DIR)\n",
        "val_loader = DataLoader(val_dataset, batch_size=16, shuffle=False)"
      ],
      "metadata": {
        "id": "2-xBNDU35Tcg",
        "outputId": "ce3985e1-b05e-4f45-b091-8764cea1fa76",
        "colab": {
          "base_uri": "https://localhost:8080/"
        }
      },
      "execution_count": 14,
      "outputs": [
        {
          "output_type": "stream",
          "name": "stdout",
          "text": [
            "Initialized dataset from /content/TACO_Normalized/val with 554 samples across 1 shards.\n"
          ]
        }
      ]
    },
    {
      "cell_type": "code",
      "source": [
        "test_dataset = PreNormalizedDataset(TEST_SAVE_DIR)\n",
        "test_loader = DataLoader(test_dataset, batch_size=16, shuffle=False)"
      ],
      "metadata": {
        "colab": {
          "base_uri": "https://localhost:8080/"
        },
        "id": "bfwFUqvdvWSQ",
        "outputId": "114f2261-37e8-4d98-d5b6-a8d17033fa29"
      },
      "execution_count": null,
      "outputs": [
        {
          "output_type": "stream",
          "name": "stdout",
          "text": [
            "Initialized dataset from /content/drive/MyDrive/datasets/sen2venus/normalized_sets/test with 556 samples across 1 shards.\n",
            "Loaded 556 test samples.\n"
          ]
        }
      ]
    },
    {
      "cell_type": "markdown",
      "source": [
        "# Step 2: Load the Pre-trained EDSR Model"
      ],
      "metadata": {
        "id": "YUwwsMCp7JIU"
      }
    },
    {
      "cell_type": "markdown",
      "source": [
        "**Objectives**:\n",
        "\n",
        "\n",
        "\n",
        "1.   Loading a well-known, **pre-trained** architecture (edsr-base) specifically configured for **2x super-resolution**.\n",
        "2.   Confirming that the model accepts data batches and produces outputs of the correct shape ([16, 3, 256, 256])."
      ],
      "metadata": {
        "id": "B92rUzqB_F-T"
      }
    },
    {
      "cell_type": "markdown",
      "source": [
        "## 2.1 Instantiate and Inspect the pre-trained EDSR model"
      ],
      "metadata": {
        "id": "DSU_eKfZ8RUH"
      }
    },
    {
      "cell_type": "code",
      "source": [
        "# The 'from_pretrained' method downloads the model configuration and weights.\n",
        "# We must specify our desired scale factor.\n",
        "# (LR: 128x128, HR: 256x256), -> scale is 2.\n",
        "scale = 2\n",
        "model_id = 'eugenesiow/edsr-base'\n",
        "model = EdsrModel.from_pretrained(model_id, scale=scale)\n",
        "\n",
        "# Inspect the model architecture\n",
        "print(\"Model architecture loaded successfully:\")\n",
        "print(model)"
      ],
      "metadata": {
        "colab": {
          "base_uri": "https://localhost:8080/",
          "height": 1000,
          "referenced_widgets": [
            "80f93a2c9da74a62b721b5fed018c3da",
            "3a28a54d81e842438f426af3853387e4",
            "5b5997689ad34989b7bc1145d4220866",
            "63f5a41521844a98a980d74b838fdcc1",
            "4173cb2680a14d119b4c1e15c1f5235c",
            "9ab6f3f7ed7a476aa96fe30beddfa051",
            "5026a0a951284644966406dcbccba1a9",
            "62bd3bd090cf4a7a83c195159def3fe8",
            "e894eb95cf1640409b886d654e1d1409",
            "347c50213d7548f4ab9c47982c2fc908",
            "4c7f49b72e65445e96e6382ee64ebeff",
            "52933435e9384a49b8b62bfadf0277d8",
            "62a5906f035145bcab6f79b95fcadf50",
            "0d8b00dc31044e8e9caac2c8ea77548c",
            "f4a7a4044a7f48ce929cf3a429e73d9d",
            "7b1050098358472281bc6fb4fd9fa231",
            "c2ab12f7190f4e17ae31f1e47650c706",
            "51d484ce7ce54111bcd316f4b8c76e2c",
            "de6ed52a0f104321a4bb990efcc3b246",
            "cd4d9d713f2649b481a95bce83c516d4",
            "09e46e1d040e47919f47269f94d7a8c4",
            "61e90924aa084543924c31bec3410974"
          ]
        },
        "id": "6d8c5mkF7jh0",
        "outputId": "4ebe1f8d-4e37-40a6-e8a9-2098719819bd"
      },
      "execution_count": 15,
      "outputs": [
        {
          "output_type": "stream",
          "name": "stderr",
          "text": [
            "/usr/local/lib/python3.11/dist-packages/huggingface_hub/utils/_auth.py:94: UserWarning: \n",
            "The secret `HF_TOKEN` does not exist in your Colab secrets.\n",
            "To authenticate with the Hugging Face Hub, create a token in your settings tab (https://huggingface.co/settings/tokens), set it as secret in your Google Colab and restart your session.\n",
            "You will be able to reuse this secret in all of your notebooks.\n",
            "Please note that authentication is recommended but still optional to access public models or datasets.\n",
            "  warnings.warn(\n"
          ]
        },
        {
          "output_type": "display_data",
          "data": {
            "text/plain": [
              "config.json:   0%|          | 0.00/188 [00:00<?, ?B/s]"
            ],
            "application/vnd.jupyter.widget-view+json": {
              "version_major": 2,
              "version_minor": 0,
              "model_id": "80f93a2c9da74a62b721b5fed018c3da"
            }
          },
          "metadata": {}
        },
        {
          "output_type": "display_data",
          "data": {
            "text/plain": [
              "pytorch_model_2x.pt:   0%|          | 0.00/5.51M [00:00<?, ?B/s]"
            ],
            "application/vnd.jupyter.widget-view+json": {
              "version_major": 2,
              "version_minor": 0,
              "model_id": "52933435e9384a49b8b62bfadf0277d8"
            }
          },
          "metadata": {}
        },
        {
          "output_type": "stream",
          "name": "stdout",
          "text": [
            "https://huggingface.co/eugenesiow/edsr-base/resolve/main/pytorch_model_2x.pt\n",
            "Model architecture loaded successfully:\n",
            "DataParallel(\n",
            "  (module): EdsrModel(\n",
            "    (sub_mean): MeanShift(3, 3, kernel_size=(1, 1), stride=(1, 1))\n",
            "    (add_mean): MeanShift(3, 3, kernel_size=(1, 1), stride=(1, 1))\n",
            "    (head): Sequential(\n",
            "      (0): Conv2d(3, 64, kernel_size=(3, 3), stride=(1, 1), padding=(1, 1))\n",
            "    )\n",
            "    (body): Sequential(\n",
            "      (0): ResBlock(\n",
            "        (body): Sequential(\n",
            "          (0): Conv2d(64, 64, kernel_size=(3, 3), stride=(1, 1), padding=(1, 1))\n",
            "          (1): ReLU(inplace=True)\n",
            "          (2): Conv2d(64, 64, kernel_size=(3, 3), stride=(1, 1), padding=(1, 1))\n",
            "        )\n",
            "      )\n",
            "      (1): ResBlock(\n",
            "        (body): Sequential(\n",
            "          (0): Conv2d(64, 64, kernel_size=(3, 3), stride=(1, 1), padding=(1, 1))\n",
            "          (1): ReLU(inplace=True)\n",
            "          (2): Conv2d(64, 64, kernel_size=(3, 3), stride=(1, 1), padding=(1, 1))\n",
            "        )\n",
            "      )\n",
            "      (2): ResBlock(\n",
            "        (body): Sequential(\n",
            "          (0): Conv2d(64, 64, kernel_size=(3, 3), stride=(1, 1), padding=(1, 1))\n",
            "          (1): ReLU(inplace=True)\n",
            "          (2): Conv2d(64, 64, kernel_size=(3, 3), stride=(1, 1), padding=(1, 1))\n",
            "        )\n",
            "      )\n",
            "      (3): ResBlock(\n",
            "        (body): Sequential(\n",
            "          (0): Conv2d(64, 64, kernel_size=(3, 3), stride=(1, 1), padding=(1, 1))\n",
            "          (1): ReLU(inplace=True)\n",
            "          (2): Conv2d(64, 64, kernel_size=(3, 3), stride=(1, 1), padding=(1, 1))\n",
            "        )\n",
            "      )\n",
            "      (4): ResBlock(\n",
            "        (body): Sequential(\n",
            "          (0): Conv2d(64, 64, kernel_size=(3, 3), stride=(1, 1), padding=(1, 1))\n",
            "          (1): ReLU(inplace=True)\n",
            "          (2): Conv2d(64, 64, kernel_size=(3, 3), stride=(1, 1), padding=(1, 1))\n",
            "        )\n",
            "      )\n",
            "      (5): ResBlock(\n",
            "        (body): Sequential(\n",
            "          (0): Conv2d(64, 64, kernel_size=(3, 3), stride=(1, 1), padding=(1, 1))\n",
            "          (1): ReLU(inplace=True)\n",
            "          (2): Conv2d(64, 64, kernel_size=(3, 3), stride=(1, 1), padding=(1, 1))\n",
            "        )\n",
            "      )\n",
            "      (6): ResBlock(\n",
            "        (body): Sequential(\n",
            "          (0): Conv2d(64, 64, kernel_size=(3, 3), stride=(1, 1), padding=(1, 1))\n",
            "          (1): ReLU(inplace=True)\n",
            "          (2): Conv2d(64, 64, kernel_size=(3, 3), stride=(1, 1), padding=(1, 1))\n",
            "        )\n",
            "      )\n",
            "      (7): ResBlock(\n",
            "        (body): Sequential(\n",
            "          (0): Conv2d(64, 64, kernel_size=(3, 3), stride=(1, 1), padding=(1, 1))\n",
            "          (1): ReLU(inplace=True)\n",
            "          (2): Conv2d(64, 64, kernel_size=(3, 3), stride=(1, 1), padding=(1, 1))\n",
            "        )\n",
            "      )\n",
            "      (8): ResBlock(\n",
            "        (body): Sequential(\n",
            "          (0): Conv2d(64, 64, kernel_size=(3, 3), stride=(1, 1), padding=(1, 1))\n",
            "          (1): ReLU(inplace=True)\n",
            "          (2): Conv2d(64, 64, kernel_size=(3, 3), stride=(1, 1), padding=(1, 1))\n",
            "        )\n",
            "      )\n",
            "      (9): ResBlock(\n",
            "        (body): Sequential(\n",
            "          (0): Conv2d(64, 64, kernel_size=(3, 3), stride=(1, 1), padding=(1, 1))\n",
            "          (1): ReLU(inplace=True)\n",
            "          (2): Conv2d(64, 64, kernel_size=(3, 3), stride=(1, 1), padding=(1, 1))\n",
            "        )\n",
            "      )\n",
            "      (10): ResBlock(\n",
            "        (body): Sequential(\n",
            "          (0): Conv2d(64, 64, kernel_size=(3, 3), stride=(1, 1), padding=(1, 1))\n",
            "          (1): ReLU(inplace=True)\n",
            "          (2): Conv2d(64, 64, kernel_size=(3, 3), stride=(1, 1), padding=(1, 1))\n",
            "        )\n",
            "      )\n",
            "      (11): ResBlock(\n",
            "        (body): Sequential(\n",
            "          (0): Conv2d(64, 64, kernel_size=(3, 3), stride=(1, 1), padding=(1, 1))\n",
            "          (1): ReLU(inplace=True)\n",
            "          (2): Conv2d(64, 64, kernel_size=(3, 3), stride=(1, 1), padding=(1, 1))\n",
            "        )\n",
            "      )\n",
            "      (12): ResBlock(\n",
            "        (body): Sequential(\n",
            "          (0): Conv2d(64, 64, kernel_size=(3, 3), stride=(1, 1), padding=(1, 1))\n",
            "          (1): ReLU(inplace=True)\n",
            "          (2): Conv2d(64, 64, kernel_size=(3, 3), stride=(1, 1), padding=(1, 1))\n",
            "        )\n",
            "      )\n",
            "      (13): ResBlock(\n",
            "        (body): Sequential(\n",
            "          (0): Conv2d(64, 64, kernel_size=(3, 3), stride=(1, 1), padding=(1, 1))\n",
            "          (1): ReLU(inplace=True)\n",
            "          (2): Conv2d(64, 64, kernel_size=(3, 3), stride=(1, 1), padding=(1, 1))\n",
            "        )\n",
            "      )\n",
            "      (14): ResBlock(\n",
            "        (body): Sequential(\n",
            "          (0): Conv2d(64, 64, kernel_size=(3, 3), stride=(1, 1), padding=(1, 1))\n",
            "          (1): ReLU(inplace=True)\n",
            "          (2): Conv2d(64, 64, kernel_size=(3, 3), stride=(1, 1), padding=(1, 1))\n",
            "        )\n",
            "      )\n",
            "      (15): ResBlock(\n",
            "        (body): Sequential(\n",
            "          (0): Conv2d(64, 64, kernel_size=(3, 3), stride=(1, 1), padding=(1, 1))\n",
            "          (1): ReLU(inplace=True)\n",
            "          (2): Conv2d(64, 64, kernel_size=(3, 3), stride=(1, 1), padding=(1, 1))\n",
            "        )\n",
            "      )\n",
            "      (16): Conv2d(64, 64, kernel_size=(3, 3), stride=(1, 1), padding=(1, 1))\n",
            "    )\n",
            "    (tail): Sequential(\n",
            "      (0): Upsampler(\n",
            "        (0): Conv2d(64, 256, kernel_size=(3, 3), stride=(1, 1), padding=(1, 1))\n",
            "        (1): PixelShuffle(upscale_factor=2)\n",
            "      )\n",
            "      (1): Conv2d(64, 3, kernel_size=(3, 3), stride=(1, 1), padding=(1, 1))\n",
            "    )\n",
            "  )\n",
            ")\n"
          ]
        }
      ]
    },
    {
      "cell_type": "markdown",
      "source": [
        "## 2.2 Sanity Check: Pass one batch of data through the model"
      ],
      "metadata": {
        "id": "z-QbcXpS8ae2"
      }
    },
    {
      "cell_type": "code",
      "source": [
        "# a crucial test to ensure the input/output dimensions are compatible.\n",
        "print(\"\\nPerforming a forward pass sanity check...\")\n",
        "device = torch.device(\"cuda\" if torch.cuda.is_available() else \"cpu\")\n",
        "model.to(device)\n",
        "model.eval()  # Set to evaluation mode for this check\n",
        "\n",
        "with torch.no_grad():\n",
        "    # Get a single batch from our dataloader\n",
        "    lr_batch, hr_batch = next(iter(train_loader))\n",
        "\n",
        "    # Move the batch to the same device as the model\n",
        "    lr_batch = lr_batch.to(device)\n",
        "\n",
        "    # Perform a forward pass\n",
        "    predictions = model(lr_batch)\n",
        "\n",
        "    print(f\"Sanity check successful!\")\n",
        "    print(f\"Running on device: {device}\")\n",
        "    print(f\"Model Input Shape (LR): {lr_batch.shape}\")\n",
        "    print(f\"Model Output Shape (Predictions): {predictions.shape}\")\n",
        "    print(f\"Target Shape (HR): {hr_batch.shape}\")\n",
        "\n",
        "# Compare output shape with the target High-Resolution shape\n",
        "assert predictions.shape == hr_batch.shape, \"Model output shape does not match target HR shape!\"\n",
        "print(\"Output shape matches target shape. Ready for training.\")"
      ],
      "metadata": {
        "colab": {
          "base_uri": "https://localhost:8080/"
        },
        "id": "CgnXeFZE8QJQ",
        "outputId": "72fe37cd-983a-4c4a-9e2a-54c3147077c4"
      },
      "execution_count": null,
      "outputs": [
        {
          "output_type": "stream",
          "name": "stdout",
          "text": [
            "\n",
            "Performing a forward pass sanity check...\n",
            "Sanity check successful!\n",
            "Running on device: cuda\n",
            "Model Input Shape (LR): torch.Size([16, 3, 128, 128])\n",
            "Model Output Shape (Predictions): torch.Size([16, 3, 256, 256])\n",
            "Target Shape (HR): torch.Size([16, 3, 256, 256])\n",
            "Output shape matches target shape. Ready for training.\n"
          ]
        }
      ]
    },
    {
      "cell_type": "markdown",
      "source": [
        "# Step 3: Configure and Launch the Trainer"
      ],
      "metadata": {
        "id": "csIBPYQpNALf"
      }
    },
    {
      "cell_type": "markdown",
      "source": [
        "## Custum Trainer with Checkpoints"
      ],
      "metadata": {
        "id": "8NRbqBcmcRXC"
      }
    },
    {
      "cell_type": "code",
      "source": [
        "import copy\n",
        "from super_image.file_utils import WEIGHTS_NAME, WEIGHTS_NAME_SCALE\n",
        "\n",
        "\n",
        "class CustomResumableTrainer(Trainer):\n",
        "    def __init__(self, *args, **kwargs):\n",
        "        super().__init__(*args, **kwargs)\n",
        "        self.optimizer = None\n",
        "        self.scheduler = None\n",
        "\n",
        "    def save_checkpoint(self, epoch, is_best=False):\n",
        "        \"\"\"Saves a complete training state checkpoint.\"\"\"\n",
        "        output_dir = self.args.output_dir\n",
        "        os.makedirs(output_dir, exist_ok=True)\n",
        "\n",
        "        # Determine the filename\n",
        "        if is_best:\n",
        "            filename = 'best_model_checkpoint.pt'\n",
        "        else:\n",
        "            filename = 'latest_step_checkpoint.pt'\n",
        "\n",
        "        checkpoint_path = os.path.join(output_dir, filename)\n",
        "\n",
        "        state = {\n",
        "            'epoch': epoch, 'best_metric': self.best_metric,\n",
        "            'model_state_dict': self.model.state_dict(),\n",
        "            'optimizer_state_dict': self.optimizer.state_dict(),\n",
        "            'scheduler_state_dict': self.scheduler.state_dict(),\n",
        "        }\n",
        "        torch.save(state, checkpoint_path)\n",
        "        logger.info(f\"Saved checkpoint to {checkpoint_path}\")\n",
        "\n",
        "    def save_model(self, output_dir: str = None):\n",
        "      \"\"\"\n",
        "      Overrides the faulty base save_model method to correctly handle\n",
        "      models wrapped in nn.DataParallel.\n",
        "      \"\"\"\n",
        "      output_dir = output_dir if output_dir is not None else self.args.output_dir\n",
        "      os.makedirs(output_dir, exist_ok=True)\n",
        "\n",
        "      # Determine if the model is the raw model or a wrapped one\n",
        "      model_to_save = self.model.module if isinstance(self.model, torch.nn.DataParallel) else self.model\n",
        "\n",
        "      # Now, we can safely call save_pretrained on the actual model\n",
        "      if isinstance(model_to_save, PreTrainedModel):\n",
        "          model_to_save.save_pretrained(output_dir)\n",
        "      else:\n",
        "          # Fallback for non-PreTrainedModel, though EDSR is one.\n",
        "          # This part is for full compatibility with the original's logic.\n",
        "          logger.warning(\"Saving a model that is not a PreTrainedModel.\")\n",
        "          scale = model_to_save.config.scale\n",
        "          if scale is not None:\n",
        "              weights_name = WEIGHTS_NAME_SCALE.format(scale=scale)\n",
        "          else:\n",
        "              weights_name = WEIGHTS_NAME\n",
        "          weights = copy.deepcopy(model_to_save.state_dict())\n",
        "          torch.save(weights, os.path.join(output_dir, weights_name))\n",
        "\n",
        "    def load_checkpoint(self):\n",
        "        \"\"\"Loads the most recent checkpoint available.\"\"\"\n",
        "        output_dir = self.args.output_dir\n",
        "        step_checkpoint_path = os.path.join(output_dir, 'latest_step_checkpoint.pt')\n",
        "        best_checkpoint_path = os.path.join(output_dir, 'best_model_checkpoint.pt')\n",
        "        start_epoch = 0\n",
        "\n",
        "        # Prioritize the very latest step-based checkpoint for resumption\n",
        "        checkpoint_path = None\n",
        "        if os.path.exists(step_checkpoint_path):\n",
        "            checkpoint_path = step_checkpoint_path\n",
        "        elif os.path.exists(best_checkpoint_path):\n",
        "            checkpoint_path = best_checkpoint_path\n",
        "\n",
        "        if checkpoint_path is None:\n",
        "            logger.warning(\"No checkpoint found. Starting from scratch.\")\n",
        "            return start_epoch\n",
        "\n",
        "        try:\n",
        "            state = torch.load(checkpoint_path, map_location=self.args.device)\n",
        "            self.model.load_state_dict(state['model_state_dict'])\n",
        "            if self.optimizer is None: self._create_optimizer_and_scheduler()\n",
        "            self.optimizer.load_state_dict(state['optimizer_state_dict'])\n",
        "            self.scheduler.load_state_dict(state['scheduler_state_dict'])\n",
        "            self.best_metric = state.get('best_metric', 0.0)\n",
        "            start_epoch = state['epoch'] # Resume from the same epoch\n",
        "            logger.info(f\"Successfully loaded checkpoint '{os.path.basename(checkpoint_path)}'. Resuming from epoch {start_epoch}.\")\n",
        "        except Exception as e:\n",
        "            logger.error(f\"Failed to load checkpoint: {e}. Starting from scratch.\")\n",
        "            start_epoch = 0\n",
        "        return start_epoch\n",
        "\n",
        "    def _create_optimizer_and_scheduler(self):\n",
        "        self.optimizer = Adam(self.model.parameters(), lr=self.args.learning_rate)\n",
        "        self.scheduler = lr_scheduler.StepLR(self.optimizer, step_size=999999, gamma=1.0) # Dummy scheduler, we control LR manually\n",
        "\n",
        "    def train(self, **kwargs):\n",
        "        \"\"\"Complete, resumable training loop with warm-up and step-based saving.\"\"\"\n",
        "        self._create_optimizer_and_scheduler()\n",
        "        start_epoch = self.load_checkpoint()\n",
        "        train_dataloader = self.get_train_dataloader()\n",
        "\n",
        "        # Correctly initialize global_step based on the loaded epoch\n",
        "        global_step = start_epoch * len(train_dataloader)\n",
        "\n",
        "        for epoch in range(start_epoch, self.args.num_train_epochs):\n",
        "            self.model.train()\n",
        "            epoch_losses = AverageMeter()\n",
        "            # Reset the tqdm progress bar for each epoch\n",
        "            with tqdm(total=len(train_dataloader), desc=f'Epoch {epoch}/{self.args.num_train_epochs - 1}') as t:\n",
        "                for data in train_dataloader:\n",
        "                    # --- Learning Rate Scheduling (Warm-up + Decay) ---\n",
        "                    if global_step < self.args.warmup_steps:\n",
        "                        # Warm-up phase\n",
        "                        lr_scale = float(global_step) / float(self.args.warmup_steps) if self.args.warmup_steps > 0 else 1.0\n",
        "                        new_lr = self.args.learning_rate * lr_scale\n",
        "                    else:\n",
        "                        # Post-warm-up decay phase\n",
        "                        # --- THIS IS THE CORRECTED LINE ---\n",
        "                        divisor = max(1, int(self.args.num_train_epochs * 0.8))\n",
        "                        new_lr = self.args.learning_rate * (0.1 ** (epoch // divisor))\n",
        "\n",
        "                    for param_group in self.optimizer.param_groups:\n",
        "                        param_group['lr'] = new_lr\n",
        "\n",
        "                    inputs, labels = data\n",
        "                    inputs, labels = inputs.to(self.args.device), labels.to(self.args.device)\n",
        "                    preds = self.model(inputs)\n",
        "                    loss = torch.nn.L1Loss()(preds, labels)\n",
        "                    epoch_losses.update(loss.item(), len(inputs))\n",
        "                    self.optimizer.zero_grad()\n",
        "                    loss.backward()\n",
        "                    self.optimizer.step()\n",
        "\n",
        "                    global_step += 1\n",
        "                    t.set_postfix(loss=f'{epoch_losses.avg:.6f}', lr=f'{new_lr:.2e}')\n",
        "                    t.update(1)\n",
        "\n",
        "                    # --- Step-Based Checkpointing ---\n",
        "                    if global_step > 0 and global_step % self.args.save_steps == 0:\n",
        "                        self.save_checkpoint(epoch, is_best=False)\n",
        "\n",
        "            # --- Epoch-Based Evaluation and Best Model Saving ---\n",
        "            self.eval(epoch)\n"
      ],
      "metadata": {
        "id": "qDbYjaEhKhW7"
      },
      "execution_count": 20,
      "outputs": []
    },
    {
      "cell_type": "markdown",
      "source": [
        "## Trainer Config"
      ],
      "metadata": {
        "id": "5d8uiyuW4UWJ"
      }
    },
    {
      "cell_type": "code",
      "source": [
        "@dataclass\n",
        "class CustomTrainingArguments(TrainingArguments):\n",
        "    warmup_steps: int = 0\n",
        "    save_steps: int = 100 # Default to saving every 100 steps\n"
      ],
      "metadata": {
        "id": "qVJ9sh50Lpbc"
      },
      "execution_count": 21,
      "outputs": []
    },
    {
      "cell_type": "markdown",
      "source": [
        "## Dry Run Test"
      ],
      "metadata": {
        "id": "gN34B1SB7a-Y"
      }
    },
    {
      "cell_type": "markdown",
      "source": [
        "**What this accomplishes:**\n",
        "\n",
        "*   The training loop will run on only 32 images.\n",
        "*   The `save_checkpoint` method will be called multiple times (for `is_best=False`).\n",
        "*   The `eval` loop will run after the tiny epoch.\n",
        "*   The overridden `save_model` will be called.\n",
        "*   The entire process should take **less than a minute**, giving you immediate feedback on whether your fix worked."
      ],
      "metadata": {
        "id": "4AYYpBc97ksz"
      }
    },
    {
      "cell_type": "code",
      "source": [
        "from torch.utils.data import Subset\n",
        "\n",
        "print(\"--- Performing a quick Dry Run to verify the fix ---\")\n",
        "\n",
        "# 1. Create a tiny subset of your training and validation data\n",
        "#    This will only use the first 32 samples.\n",
        "dry_run_train_dataset = Subset(train_dataset, range(32))\n",
        "dry_run_val_dataset = Subset(val_dataset, range(32))\n",
        "\n",
        "# 2. Create special \"dry run\" training arguments\n",
        "dry_run_args = CustomTrainingArguments(\n",
        "    output_dir=BASE_DIR /'edsr_dry_run_test', # Use a separate test directory\n",
        "    learning_rate=1e-4,\n",
        "    num_train_epochs=1,          # We only need one epoch to test the save logic\n",
        "    per_device_train_batch_size=8, # Use a small batch size\n",
        "    save_steps=2,                # Save a checkpoint every 2 steps to test this logic\n",
        "    warmup_steps=1               # Test the warm-up logic\n",
        ")\n",
        "\n",
        "# 3. Instantiate your trainer with the dry run data and args\n",
        "dry_run_trainer = CustomResumableTrainer(\n",
        "    model=model,  # Use the same model\n",
        "    args=dry_run_args,\n",
        "    train_dataset=dry_run_train_dataset,\n",
        "    eval_dataset=dry_run_val_dataset\n",
        ")\n",
        "\n",
        "# 4. Run the training. This should be very fast!\n",
        "try:\n",
        "    dry_run_trainer.train()\n",
        "    print(\"\\n✅ Dry Run Successful! Proceed with full training.\")\n",
        "except Exception as e:\n",
        "    print(f\"\\n❌ Dry Run Failed: {e}\")\n",
        "\n",
        "# --- END OF DRY RUN ---```\n"
      ],
      "metadata": {
        "id": "Jp1Xgffr7dPU",
        "outputId": "a8393661-91a8-4689-d27e-b653268db93a",
        "colab": {
          "base_uri": "https://localhost:8080/",
          "height": 137,
          "referenced_widgets": [
            "9240c7e9a1b5461bafd661bbcca9b6d3",
            "a79918ddcdea4d98a569d15d7cf4be2f",
            "25b18216e28947f2b618ea40048ab467",
            "65e008a4b89747ef8122fc74feabf42d",
            "9dd82c0701c245119598bd58967aa826",
            "cf04f54fbdde4c66b526366182ebff8c",
            "c213c9b0ee344396abbfc41c117b7f7d",
            "9b25fb9673704c6198ba25f0f3c4c39c",
            "0527ac7eabf34dde828facdc50e30837",
            "54dacbf19b6c4c798bc4dded39a25a59",
            "fe04033dac0b40869222c81ab03b90a5"
          ]
        }
      },
      "execution_count": 24,
      "outputs": [
        {
          "output_type": "stream",
          "name": "stdout",
          "text": [
            "--- Performing a quick Dry Run to verify the fix ---\n"
          ]
        },
        {
          "output_type": "display_data",
          "data": {
            "text/plain": [
              "Epoch 0/0:   0%|          | 0/4 [00:00<?, ?it/s]"
            ],
            "application/vnd.jupyter.widget-view+json": {
              "version_major": 2,
              "version_minor": 0,
              "model_id": "9240c7e9a1b5461bafd661bbcca9b6d3"
            }
          },
          "metadata": {}
        },
        {
          "output_type": "stream",
          "name": "stdout",
          "text": [
            "scale:2      eval psnr: 44.31     ssim: 0.9851\n",
            "best epoch: 0, psnr: 44.310272, ssim: 0.985123\n",
            "\n",
            "✅ Dry Run Successful! Proceed with full training.\n"
          ]
        }
      ]
    },
    {
      "cell_type": "markdown",
      "source": [
        "## Start Training"
      ],
      "metadata": {
        "id": "NDzl-_Nz4g5X"
      }
    },
    {
      "cell_type": "code",
      "source": [
        "training_args = CustomTrainingArguments(\n",
        "    output_dir=FINETUNR_SAVE_DIR,\n",
        "\n",
        "    # --- Core parameters that are fully functional ---\n",
        "    num_train_epochs=15,          # Controls training length and the hardcoded LR decay\n",
        "    learning_rate=1e-4,           # Sets the initial learning rate\n",
        "    per_device_train_batch_size=24, # Controls training batch size\n",
        "\n",
        "    # --- Technical parameters that are functional ---\n",
        "    seed=42,                      # For reproducibility\n",
        "    fp16=torch.cuda.is_available(),\n",
        "    dataloader_num_workers=2,\n",
        "    save_steps=100,      # Save a recovery checkpoint every 100 steps\n",
        "    warmup_steps=500     # Use a 500-step learning rate warm-up\n",
        ")"
      ],
      "metadata": {
        "id": "L3mw9OL7iOxs"
      },
      "execution_count": 25,
      "outputs": []
    },
    {
      "cell_type": "code",
      "source": [
        "trainer = CustomResumableTrainer(\n",
        "    model=model,\n",
        "    args=training_args,\n",
        "    train_dataset=train_dataset,\n",
        "    eval_dataset=val_dataset,\n",
        ")"
      ],
      "metadata": {
        "id": "Du4n51ivdOjU"
      },
      "execution_count": 26,
      "outputs": []
    },
    {
      "cell_type": "code",
      "source": [
        "# Start Training with full confidence in the underlying process.\n",
        "print(\"Starting model fine-tuning \")\n",
        "trainer.train()\n",
        "\n",
        "print(f\"\\nTraining complete. The best model was found at epoch {trainer.best_epoch} \"\n",
        "      f\"with a PSNR of {trainer.best_metric:.2f}.\")\n",
        "print(f\"The best model has been saved in: {FINETUNR_SAVE_DIR}\")"
      ],
      "metadata": {
        "id": "fKxQxP2f4Nsr",
        "colab": {
          "base_uri": "https://localhost:8080/",
          "height": 134,
          "referenced_widgets": [
            "1b6d7d37c0eb481e853511202c309c17",
            "343f4cbe682a4a869e155f2c21972b86",
            "56aa9d5b8ed14326a9e849fad983c4d8",
            "1a3897faf9d44dcdb23c08ea5f59caa1",
            "a32301181a5b4fc7aeb6665120db6763",
            "242ecf52fc634fb2b2f315c5a1adbb5b",
            "cb3fe562bfdd4dbc83978531eb3c8054",
            "3a640518ad6043b9a1be979e40012e6f",
            "ded4d7f1682448a2a216d04e02a40ba9",
            "2fca4a0f0e0c4c0bb1f3f97b560a755f",
            "015b0befb15a448a97db2cdba4ae13af",
            "123a576f511a4f518a6ae4a95532f494",
            "8c85bef66c7f43a1a2f895348133a493",
            "a2ad937ff6ad41ec8ab814aaf1aa2583",
            "7adcd637d829459693c648a4aeab8fb1",
            "94a65622481e4844a7467138cedc2d37",
            "b05b94e512fd4a27a3eec4c4e5e16618",
            "a8b9b688c6e64f4f91ebf75e146199f8",
            "1343e09377c14658836f3b3ee8bf304b",
            "17a33cf36dac4b21a67ea00a9bf597c4",
            "6fdc0cdd2bbe45aa91efb9ec2d0738e1",
            "c24b1efab996469290ac584a512e3311"
          ]
        },
        "outputId": "9b9e69c8-5e29-40ac-b0c3-ebdeea4eb4e7"
      },
      "execution_count": null,
      "outputs": [
        {
          "metadata": {
            "tags": null
          },
          "name": "stdout",
          "output_type": "stream",
          "text": [
            "Starting model fine-tuning \n"
          ]
        },
        {
          "data": {
            "application/vnd.jupyter.widget-view+json": {
              "model_id": "1b6d7d37c0eb481e853511202c309c17",
              "version_major": 2,
              "version_minor": 0
            },
            "text/plain": [
              "Epoch 0/14:   0%|          | 0/185 [00:00<?, ?it/s]"
            ]
          },
          "metadata": {},
          "output_type": "display_data"
        },
        {
          "metadata": {
            "tags": null
          },
          "name": "stdout",
          "output_type": "stream",
          "text": [
            "scale:2      eval psnr: 46.13     ssim: 0.9883\n",
            "best epoch: 0, psnr: 46.130249, ssim: 0.988280\n"
          ]
        },
        {
          "data": {
            "application/vnd.jupyter.widget-view+json": {
              "model_id": "123a576f511a4f518a6ae4a95532f494",
              "version_major": 2,
              "version_minor": 0
            },
            "text/plain": [
              "Epoch 1/14:   0%|          | 0/185 [00:00<?, ?it/s]"
            ]
          },
          "metadata": {},
          "output_type": "display_data"
        }
      ]
    }
  ]
}