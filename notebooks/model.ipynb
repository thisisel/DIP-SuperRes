{
  "nbformat": 4,
  "nbformat_minor": 0,
  "metadata": {
    "colab": {
      "provenance": [],
      "gpuType": "T4"
    },
    "kernelspec": {
      "name": "python3",
      "display_name": "Python 3"
    },
    "language_info": {
      "name": "python"
    },
    "accelerator": "GPU",
    "widgets": {
      "application/vnd.jupyter.widget-state+json": {
        "9240c7e9a1b5461bafd661bbcca9b6d3": {
          "model_module": "@jupyter-widgets/controls",
          "model_name": "HBoxModel",
          "model_module_version": "1.5.0",
          "state": {
            "_dom_classes": [],
            "_model_module": "@jupyter-widgets/controls",
            "_model_module_version": "1.5.0",
            "_model_name": "HBoxModel",
            "_view_count": null,
            "_view_module": "@jupyter-widgets/controls",
            "_view_module_version": "1.5.0",
            "_view_name": "HBoxView",
            "box_style": "",
            "children": [
              "IPY_MODEL_a79918ddcdea4d98a569d15d7cf4be2f",
              "IPY_MODEL_25b18216e28947f2b618ea40048ab467",
              "IPY_MODEL_65e008a4b89747ef8122fc74feabf42d"
            ],
            "layout": "IPY_MODEL_9dd82c0701c245119598bd58967aa826"
          }
        },
        "a79918ddcdea4d98a569d15d7cf4be2f": {
          "model_module": "@jupyter-widgets/controls",
          "model_name": "HTMLModel",
          "model_module_version": "1.5.0",
          "state": {
            "_dom_classes": [],
            "_model_module": "@jupyter-widgets/controls",
            "_model_module_version": "1.5.0",
            "_model_name": "HTMLModel",
            "_view_count": null,
            "_view_module": "@jupyter-widgets/controls",
            "_view_module_version": "1.5.0",
            "_view_name": "HTMLView",
            "description": "",
            "description_tooltip": null,
            "layout": "IPY_MODEL_cf04f54fbdde4c66b526366182ebff8c",
            "placeholder": "​",
            "style": "IPY_MODEL_c213c9b0ee344396abbfc41c117b7f7d",
            "value": "Epoch 0/0: 100%"
          }
        },
        "25b18216e28947f2b618ea40048ab467": {
          "model_module": "@jupyter-widgets/controls",
          "model_name": "FloatProgressModel",
          "model_module_version": "1.5.0",
          "state": {
            "_dom_classes": [],
            "_model_module": "@jupyter-widgets/controls",
            "_model_module_version": "1.5.0",
            "_model_name": "FloatProgressModel",
            "_view_count": null,
            "_view_module": "@jupyter-widgets/controls",
            "_view_module_version": "1.5.0",
            "_view_name": "ProgressView",
            "bar_style": "success",
            "description": "",
            "description_tooltip": null,
            "layout": "IPY_MODEL_9b25fb9673704c6198ba25f0f3c4c39c",
            "max": 4,
            "min": 0,
            "orientation": "horizontal",
            "style": "IPY_MODEL_0527ac7eabf34dde828facdc50e30837",
            "value": 4
          }
        },
        "65e008a4b89747ef8122fc74feabf42d": {
          "model_module": "@jupyter-widgets/controls",
          "model_name": "HTMLModel",
          "model_module_version": "1.5.0",
          "state": {
            "_dom_classes": [],
            "_model_module": "@jupyter-widgets/controls",
            "_model_module_version": "1.5.0",
            "_model_name": "HTMLModel",
            "_view_count": null,
            "_view_module": "@jupyter-widgets/controls",
            "_view_module_version": "1.5.0",
            "_view_name": "HTMLView",
            "description": "",
            "description_tooltip": null,
            "layout": "IPY_MODEL_54dacbf19b6c4c798bc4dded39a25a59",
            "placeholder": "​",
            "style": "IPY_MODEL_fe04033dac0b40869222c81ab03b90a5",
            "value": " 4/4 [00:01&lt;00:00,  3.23it/s, loss=0.005591, lr=1.00e-04]"
          }
        },
        "9dd82c0701c245119598bd58967aa826": {
          "model_module": "@jupyter-widgets/base",
          "model_name": "LayoutModel",
          "model_module_version": "1.2.0",
          "state": {
            "_model_module": "@jupyter-widgets/base",
            "_model_module_version": "1.2.0",
            "_model_name": "LayoutModel",
            "_view_count": null,
            "_view_module": "@jupyter-widgets/base",
            "_view_module_version": "1.2.0",
            "_view_name": "LayoutView",
            "align_content": null,
            "align_items": null,
            "align_self": null,
            "border": null,
            "bottom": null,
            "display": null,
            "flex": null,
            "flex_flow": null,
            "grid_area": null,
            "grid_auto_columns": null,
            "grid_auto_flow": null,
            "grid_auto_rows": null,
            "grid_column": null,
            "grid_gap": null,
            "grid_row": null,
            "grid_template_areas": null,
            "grid_template_columns": null,
            "grid_template_rows": null,
            "height": null,
            "justify_content": null,
            "justify_items": null,
            "left": null,
            "margin": null,
            "max_height": null,
            "max_width": null,
            "min_height": null,
            "min_width": null,
            "object_fit": null,
            "object_position": null,
            "order": null,
            "overflow": null,
            "overflow_x": null,
            "overflow_y": null,
            "padding": null,
            "right": null,
            "top": null,
            "visibility": null,
            "width": null
          }
        },
        "cf04f54fbdde4c66b526366182ebff8c": {
          "model_module": "@jupyter-widgets/base",
          "model_name": "LayoutModel",
          "model_module_version": "1.2.0",
          "state": {
            "_model_module": "@jupyter-widgets/base",
            "_model_module_version": "1.2.0",
            "_model_name": "LayoutModel",
            "_view_count": null,
            "_view_module": "@jupyter-widgets/base",
            "_view_module_version": "1.2.0",
            "_view_name": "LayoutView",
            "align_content": null,
            "align_items": null,
            "align_self": null,
            "border": null,
            "bottom": null,
            "display": null,
            "flex": null,
            "flex_flow": null,
            "grid_area": null,
            "grid_auto_columns": null,
            "grid_auto_flow": null,
            "grid_auto_rows": null,
            "grid_column": null,
            "grid_gap": null,
            "grid_row": null,
            "grid_template_areas": null,
            "grid_template_columns": null,
            "grid_template_rows": null,
            "height": null,
            "justify_content": null,
            "justify_items": null,
            "left": null,
            "margin": null,
            "max_height": null,
            "max_width": null,
            "min_height": null,
            "min_width": null,
            "object_fit": null,
            "object_position": null,
            "order": null,
            "overflow": null,
            "overflow_x": null,
            "overflow_y": null,
            "padding": null,
            "right": null,
            "top": null,
            "visibility": null,
            "width": null
          }
        },
        "c213c9b0ee344396abbfc41c117b7f7d": {
          "model_module": "@jupyter-widgets/controls",
          "model_name": "DescriptionStyleModel",
          "model_module_version": "1.5.0",
          "state": {
            "_model_module": "@jupyter-widgets/controls",
            "_model_module_version": "1.5.0",
            "_model_name": "DescriptionStyleModel",
            "_view_count": null,
            "_view_module": "@jupyter-widgets/base",
            "_view_module_version": "1.2.0",
            "_view_name": "StyleView",
            "description_width": ""
          }
        },
        "9b25fb9673704c6198ba25f0f3c4c39c": {
          "model_module": "@jupyter-widgets/base",
          "model_name": "LayoutModel",
          "model_module_version": "1.2.0",
          "state": {
            "_model_module": "@jupyter-widgets/base",
            "_model_module_version": "1.2.0",
            "_model_name": "LayoutModel",
            "_view_count": null,
            "_view_module": "@jupyter-widgets/base",
            "_view_module_version": "1.2.0",
            "_view_name": "LayoutView",
            "align_content": null,
            "align_items": null,
            "align_self": null,
            "border": null,
            "bottom": null,
            "display": null,
            "flex": null,
            "flex_flow": null,
            "grid_area": null,
            "grid_auto_columns": null,
            "grid_auto_flow": null,
            "grid_auto_rows": null,
            "grid_column": null,
            "grid_gap": null,
            "grid_row": null,
            "grid_template_areas": null,
            "grid_template_columns": null,
            "grid_template_rows": null,
            "height": null,
            "justify_content": null,
            "justify_items": null,
            "left": null,
            "margin": null,
            "max_height": null,
            "max_width": null,
            "min_height": null,
            "min_width": null,
            "object_fit": null,
            "object_position": null,
            "order": null,
            "overflow": null,
            "overflow_x": null,
            "overflow_y": null,
            "padding": null,
            "right": null,
            "top": null,
            "visibility": null,
            "width": null
          }
        },
        "0527ac7eabf34dde828facdc50e30837": {
          "model_module": "@jupyter-widgets/controls",
          "model_name": "ProgressStyleModel",
          "model_module_version": "1.5.0",
          "state": {
            "_model_module": "@jupyter-widgets/controls",
            "_model_module_version": "1.5.0",
            "_model_name": "ProgressStyleModel",
            "_view_count": null,
            "_view_module": "@jupyter-widgets/base",
            "_view_module_version": "1.2.0",
            "_view_name": "StyleView",
            "bar_color": null,
            "description_width": ""
          }
        },
        "54dacbf19b6c4c798bc4dded39a25a59": {
          "model_module": "@jupyter-widgets/base",
          "model_name": "LayoutModel",
          "model_module_version": "1.2.0",
          "state": {
            "_model_module": "@jupyter-widgets/base",
            "_model_module_version": "1.2.0",
            "_model_name": "LayoutModel",
            "_view_count": null,
            "_view_module": "@jupyter-widgets/base",
            "_view_module_version": "1.2.0",
            "_view_name": "LayoutView",
            "align_content": null,
            "align_items": null,
            "align_self": null,
            "border": null,
            "bottom": null,
            "display": null,
            "flex": null,
            "flex_flow": null,
            "grid_area": null,
            "grid_auto_columns": null,
            "grid_auto_flow": null,
            "grid_auto_rows": null,
            "grid_column": null,
            "grid_gap": null,
            "grid_row": null,
            "grid_template_areas": null,
            "grid_template_columns": null,
            "grid_template_rows": null,
            "height": null,
            "justify_content": null,
            "justify_items": null,
            "left": null,
            "margin": null,
            "max_height": null,
            "max_width": null,
            "min_height": null,
            "min_width": null,
            "object_fit": null,
            "object_position": null,
            "order": null,
            "overflow": null,
            "overflow_x": null,
            "overflow_y": null,
            "padding": null,
            "right": null,
            "top": null,
            "visibility": null,
            "width": null
          }
        },
        "fe04033dac0b40869222c81ab03b90a5": {
          "model_module": "@jupyter-widgets/controls",
          "model_name": "DescriptionStyleModel",
          "model_module_version": "1.5.0",
          "state": {
            "_model_module": "@jupyter-widgets/controls",
            "_model_module_version": "1.5.0",
            "_model_name": "DescriptionStyleModel",
            "_view_count": null,
            "_view_module": "@jupyter-widgets/base",
            "_view_module_version": "1.2.0",
            "_view_name": "StyleView",
            "description_width": ""
          }
        },
        "f457826df95b4a059a5fa3ebf86f3e8f": {
          "model_module": "@jupyter-widgets/controls",
          "model_name": "HBoxModel",
          "model_module_version": "1.5.0",
          "state": {
            "_dom_classes": [],
            "_model_module": "@jupyter-widgets/controls",
            "_model_module_version": "1.5.0",
            "_model_name": "HBoxModel",
            "_view_count": null,
            "_view_module": "@jupyter-widgets/controls",
            "_view_module_version": "1.5.0",
            "_view_name": "HBoxView",
            "box_style": "",
            "children": [
              "IPY_MODEL_903e5d9a55ac46ed821b1a2dfcd67877",
              "IPY_MODEL_9c99668ed67042898688e454b1ba257f",
              "IPY_MODEL_9528a8da0edf4c0dbe4ab167f33e41b4"
            ],
            "layout": "IPY_MODEL_07b46f4dc77c4adeae5ed6c2c824361d"
          }
        },
        "903e5d9a55ac46ed821b1a2dfcd67877": {
          "model_module": "@jupyter-widgets/controls",
          "model_name": "HTMLModel",
          "model_module_version": "1.5.0",
          "state": {
            "_dom_classes": [],
            "_model_module": "@jupyter-widgets/controls",
            "_model_module_version": "1.5.0",
            "_model_name": "HTMLModel",
            "_view_count": null,
            "_view_module": "@jupyter-widgets/controls",
            "_view_module_version": "1.5.0",
            "_view_name": "HTMLView",
            "description": "",
            "description_tooltip": null,
            "layout": "IPY_MODEL_7e1ab5ec708a4ebbaa3dda069c01e4c5",
            "placeholder": "​",
            "style": "IPY_MODEL_182bc77a1a4f4c28bceef547525eca2e",
            "value": "config.json: 100%"
          }
        },
        "9c99668ed67042898688e454b1ba257f": {
          "model_module": "@jupyter-widgets/controls",
          "model_name": "FloatProgressModel",
          "model_module_version": "1.5.0",
          "state": {
            "_dom_classes": [],
            "_model_module": "@jupyter-widgets/controls",
            "_model_module_version": "1.5.0",
            "_model_name": "FloatProgressModel",
            "_view_count": null,
            "_view_module": "@jupyter-widgets/controls",
            "_view_module_version": "1.5.0",
            "_view_name": "ProgressView",
            "bar_style": "success",
            "description": "",
            "description_tooltip": null,
            "layout": "IPY_MODEL_faecee24a7d3448ea0ad83c677e0ffa8",
            "max": 188,
            "min": 0,
            "orientation": "horizontal",
            "style": "IPY_MODEL_dae6b6e0226943adb5928cdf5502bf17",
            "value": 188
          }
        },
        "9528a8da0edf4c0dbe4ab167f33e41b4": {
          "model_module": "@jupyter-widgets/controls",
          "model_name": "HTMLModel",
          "model_module_version": "1.5.0",
          "state": {
            "_dom_classes": [],
            "_model_module": "@jupyter-widgets/controls",
            "_model_module_version": "1.5.0",
            "_model_name": "HTMLModel",
            "_view_count": null,
            "_view_module": "@jupyter-widgets/controls",
            "_view_module_version": "1.5.0",
            "_view_name": "HTMLView",
            "description": "",
            "description_tooltip": null,
            "layout": "IPY_MODEL_b941fc868c474c1eb1914cb6f4ac787c",
            "placeholder": "​",
            "style": "IPY_MODEL_8694d7f9df38458ea74faa80ff801ed4",
            "value": " 188/188 [00:00&lt;00:00, 18.9kB/s]"
          }
        },
        "07b46f4dc77c4adeae5ed6c2c824361d": {
          "model_module": "@jupyter-widgets/base",
          "model_name": "LayoutModel",
          "model_module_version": "1.2.0",
          "state": {
            "_model_module": "@jupyter-widgets/base",
            "_model_module_version": "1.2.0",
            "_model_name": "LayoutModel",
            "_view_count": null,
            "_view_module": "@jupyter-widgets/base",
            "_view_module_version": "1.2.0",
            "_view_name": "LayoutView",
            "align_content": null,
            "align_items": null,
            "align_self": null,
            "border": null,
            "bottom": null,
            "display": null,
            "flex": null,
            "flex_flow": null,
            "grid_area": null,
            "grid_auto_columns": null,
            "grid_auto_flow": null,
            "grid_auto_rows": null,
            "grid_column": null,
            "grid_gap": null,
            "grid_row": null,
            "grid_template_areas": null,
            "grid_template_columns": null,
            "grid_template_rows": null,
            "height": null,
            "justify_content": null,
            "justify_items": null,
            "left": null,
            "margin": null,
            "max_height": null,
            "max_width": null,
            "min_height": null,
            "min_width": null,
            "object_fit": null,
            "object_position": null,
            "order": null,
            "overflow": null,
            "overflow_x": null,
            "overflow_y": null,
            "padding": null,
            "right": null,
            "top": null,
            "visibility": null,
            "width": null
          }
        },
        "7e1ab5ec708a4ebbaa3dda069c01e4c5": {
          "model_module": "@jupyter-widgets/base",
          "model_name": "LayoutModel",
          "model_module_version": "1.2.0",
          "state": {
            "_model_module": "@jupyter-widgets/base",
            "_model_module_version": "1.2.0",
            "_model_name": "LayoutModel",
            "_view_count": null,
            "_view_module": "@jupyter-widgets/base",
            "_view_module_version": "1.2.0",
            "_view_name": "LayoutView",
            "align_content": null,
            "align_items": null,
            "align_self": null,
            "border": null,
            "bottom": null,
            "display": null,
            "flex": null,
            "flex_flow": null,
            "grid_area": null,
            "grid_auto_columns": null,
            "grid_auto_flow": null,
            "grid_auto_rows": null,
            "grid_column": null,
            "grid_gap": null,
            "grid_row": null,
            "grid_template_areas": null,
            "grid_template_columns": null,
            "grid_template_rows": null,
            "height": null,
            "justify_content": null,
            "justify_items": null,
            "left": null,
            "margin": null,
            "max_height": null,
            "max_width": null,
            "min_height": null,
            "min_width": null,
            "object_fit": null,
            "object_position": null,
            "order": null,
            "overflow": null,
            "overflow_x": null,
            "overflow_y": null,
            "padding": null,
            "right": null,
            "top": null,
            "visibility": null,
            "width": null
          }
        },
        "182bc77a1a4f4c28bceef547525eca2e": {
          "model_module": "@jupyter-widgets/controls",
          "model_name": "DescriptionStyleModel",
          "model_module_version": "1.5.0",
          "state": {
            "_model_module": "@jupyter-widgets/controls",
            "_model_module_version": "1.5.0",
            "_model_name": "DescriptionStyleModel",
            "_view_count": null,
            "_view_module": "@jupyter-widgets/base",
            "_view_module_version": "1.2.0",
            "_view_name": "StyleView",
            "description_width": ""
          }
        },
        "faecee24a7d3448ea0ad83c677e0ffa8": {
          "model_module": "@jupyter-widgets/base",
          "model_name": "LayoutModel",
          "model_module_version": "1.2.0",
          "state": {
            "_model_module": "@jupyter-widgets/base",
            "_model_module_version": "1.2.0",
            "_model_name": "LayoutModel",
            "_view_count": null,
            "_view_module": "@jupyter-widgets/base",
            "_view_module_version": "1.2.0",
            "_view_name": "LayoutView",
            "align_content": null,
            "align_items": null,
            "align_self": null,
            "border": null,
            "bottom": null,
            "display": null,
            "flex": null,
            "flex_flow": null,
            "grid_area": null,
            "grid_auto_columns": null,
            "grid_auto_flow": null,
            "grid_auto_rows": null,
            "grid_column": null,
            "grid_gap": null,
            "grid_row": null,
            "grid_template_areas": null,
            "grid_template_columns": null,
            "grid_template_rows": null,
            "height": null,
            "justify_content": null,
            "justify_items": null,
            "left": null,
            "margin": null,
            "max_height": null,
            "max_width": null,
            "min_height": null,
            "min_width": null,
            "object_fit": null,
            "object_position": null,
            "order": null,
            "overflow": null,
            "overflow_x": null,
            "overflow_y": null,
            "padding": null,
            "right": null,
            "top": null,
            "visibility": null,
            "width": null
          }
        },
        "dae6b6e0226943adb5928cdf5502bf17": {
          "model_module": "@jupyter-widgets/controls",
          "model_name": "ProgressStyleModel",
          "model_module_version": "1.5.0",
          "state": {
            "_model_module": "@jupyter-widgets/controls",
            "_model_module_version": "1.5.0",
            "_model_name": "ProgressStyleModel",
            "_view_count": null,
            "_view_module": "@jupyter-widgets/base",
            "_view_module_version": "1.2.0",
            "_view_name": "StyleView",
            "bar_color": null,
            "description_width": ""
          }
        },
        "b941fc868c474c1eb1914cb6f4ac787c": {
          "model_module": "@jupyter-widgets/base",
          "model_name": "LayoutModel",
          "model_module_version": "1.2.0",
          "state": {
            "_model_module": "@jupyter-widgets/base",
            "_model_module_version": "1.2.0",
            "_model_name": "LayoutModel",
            "_view_count": null,
            "_view_module": "@jupyter-widgets/base",
            "_view_module_version": "1.2.0",
            "_view_name": "LayoutView",
            "align_content": null,
            "align_items": null,
            "align_self": null,
            "border": null,
            "bottom": null,
            "display": null,
            "flex": null,
            "flex_flow": null,
            "grid_area": null,
            "grid_auto_columns": null,
            "grid_auto_flow": null,
            "grid_auto_rows": null,
            "grid_column": null,
            "grid_gap": null,
            "grid_row": null,
            "grid_template_areas": null,
            "grid_template_columns": null,
            "grid_template_rows": null,
            "height": null,
            "justify_content": null,
            "justify_items": null,
            "left": null,
            "margin": null,
            "max_height": null,
            "max_width": null,
            "min_height": null,
            "min_width": null,
            "object_fit": null,
            "object_position": null,
            "order": null,
            "overflow": null,
            "overflow_x": null,
            "overflow_y": null,
            "padding": null,
            "right": null,
            "top": null,
            "visibility": null,
            "width": null
          }
        },
        "8694d7f9df38458ea74faa80ff801ed4": {
          "model_module": "@jupyter-widgets/controls",
          "model_name": "DescriptionStyleModel",
          "model_module_version": "1.5.0",
          "state": {
            "_model_module": "@jupyter-widgets/controls",
            "_model_module_version": "1.5.0",
            "_model_name": "DescriptionStyleModel",
            "_view_count": null,
            "_view_module": "@jupyter-widgets/base",
            "_view_module_version": "1.2.0",
            "_view_name": "StyleView",
            "description_width": ""
          }
        },
        "7e5f829039fc40e6909a46089844dff4": {
          "model_module": "@jupyter-widgets/controls",
          "model_name": "HBoxModel",
          "model_module_version": "1.5.0",
          "state": {
            "_dom_classes": [],
            "_model_module": "@jupyter-widgets/controls",
            "_model_module_version": "1.5.0",
            "_model_name": "HBoxModel",
            "_view_count": null,
            "_view_module": "@jupyter-widgets/controls",
            "_view_module_version": "1.5.0",
            "_view_name": "HBoxView",
            "box_style": "",
            "children": [
              "IPY_MODEL_88de6494f5a046aaaa65bba0e6ae183f",
              "IPY_MODEL_18d6e3f9702645b4926f202faee53f82",
              "IPY_MODEL_d53abf70b96f480290a879f35e8aeb35"
            ],
            "layout": "IPY_MODEL_4e943514ee83452ba613baf59e7b25f3"
          }
        },
        "88de6494f5a046aaaa65bba0e6ae183f": {
          "model_module": "@jupyter-widgets/controls",
          "model_name": "HTMLModel",
          "model_module_version": "1.5.0",
          "state": {
            "_dom_classes": [],
            "_model_module": "@jupyter-widgets/controls",
            "_model_module_version": "1.5.0",
            "_model_name": "HTMLModel",
            "_view_count": null,
            "_view_module": "@jupyter-widgets/controls",
            "_view_module_version": "1.5.0",
            "_view_name": "HTMLView",
            "description": "",
            "description_tooltip": null,
            "layout": "IPY_MODEL_4eca946721aa4f159a468e41fc666670",
            "placeholder": "​",
            "style": "IPY_MODEL_4a9d63086df146ccad0585f69080a9a4",
            "value": "pytorch_model_2x.pt: 100%"
          }
        },
        "18d6e3f9702645b4926f202faee53f82": {
          "model_module": "@jupyter-widgets/controls",
          "model_name": "FloatProgressModel",
          "model_module_version": "1.5.0",
          "state": {
            "_dom_classes": [],
            "_model_module": "@jupyter-widgets/controls",
            "_model_module_version": "1.5.0",
            "_model_name": "FloatProgressModel",
            "_view_count": null,
            "_view_module": "@jupyter-widgets/controls",
            "_view_module_version": "1.5.0",
            "_view_name": "ProgressView",
            "bar_style": "success",
            "description": "",
            "description_tooltip": null,
            "layout": "IPY_MODEL_5f99611b8758415dacc9926959218771",
            "max": 5506753,
            "min": 0,
            "orientation": "horizontal",
            "style": "IPY_MODEL_819d26cff2004d5c831c785e81ad3d48",
            "value": 5506753
          }
        },
        "d53abf70b96f480290a879f35e8aeb35": {
          "model_module": "@jupyter-widgets/controls",
          "model_name": "HTMLModel",
          "model_module_version": "1.5.0",
          "state": {
            "_dom_classes": [],
            "_model_module": "@jupyter-widgets/controls",
            "_model_module_version": "1.5.0",
            "_model_name": "HTMLModel",
            "_view_count": null,
            "_view_module": "@jupyter-widgets/controls",
            "_view_module_version": "1.5.0",
            "_view_name": "HTMLView",
            "description": "",
            "description_tooltip": null,
            "layout": "IPY_MODEL_98253cdc756946de819ddf3ea4ad9c74",
            "placeholder": "​",
            "style": "IPY_MODEL_3c0f32b462194e0c819e10fafcf3e90e",
            "value": " 5.51M/5.51M [00:00&lt;00:00, 68.5MB/s]"
          }
        },
        "4e943514ee83452ba613baf59e7b25f3": {
          "model_module": "@jupyter-widgets/base",
          "model_name": "LayoutModel",
          "model_module_version": "1.2.0",
          "state": {
            "_model_module": "@jupyter-widgets/base",
            "_model_module_version": "1.2.0",
            "_model_name": "LayoutModel",
            "_view_count": null,
            "_view_module": "@jupyter-widgets/base",
            "_view_module_version": "1.2.0",
            "_view_name": "LayoutView",
            "align_content": null,
            "align_items": null,
            "align_self": null,
            "border": null,
            "bottom": null,
            "display": null,
            "flex": null,
            "flex_flow": null,
            "grid_area": null,
            "grid_auto_columns": null,
            "grid_auto_flow": null,
            "grid_auto_rows": null,
            "grid_column": null,
            "grid_gap": null,
            "grid_row": null,
            "grid_template_areas": null,
            "grid_template_columns": null,
            "grid_template_rows": null,
            "height": null,
            "justify_content": null,
            "justify_items": null,
            "left": null,
            "margin": null,
            "max_height": null,
            "max_width": null,
            "min_height": null,
            "min_width": null,
            "object_fit": null,
            "object_position": null,
            "order": null,
            "overflow": null,
            "overflow_x": null,
            "overflow_y": null,
            "padding": null,
            "right": null,
            "top": null,
            "visibility": null,
            "width": null
          }
        },
        "4eca946721aa4f159a468e41fc666670": {
          "model_module": "@jupyter-widgets/base",
          "model_name": "LayoutModel",
          "model_module_version": "1.2.0",
          "state": {
            "_model_module": "@jupyter-widgets/base",
            "_model_module_version": "1.2.0",
            "_model_name": "LayoutModel",
            "_view_count": null,
            "_view_module": "@jupyter-widgets/base",
            "_view_module_version": "1.2.0",
            "_view_name": "LayoutView",
            "align_content": null,
            "align_items": null,
            "align_self": null,
            "border": null,
            "bottom": null,
            "display": null,
            "flex": null,
            "flex_flow": null,
            "grid_area": null,
            "grid_auto_columns": null,
            "grid_auto_flow": null,
            "grid_auto_rows": null,
            "grid_column": null,
            "grid_gap": null,
            "grid_row": null,
            "grid_template_areas": null,
            "grid_template_columns": null,
            "grid_template_rows": null,
            "height": null,
            "justify_content": null,
            "justify_items": null,
            "left": null,
            "margin": null,
            "max_height": null,
            "max_width": null,
            "min_height": null,
            "min_width": null,
            "object_fit": null,
            "object_position": null,
            "order": null,
            "overflow": null,
            "overflow_x": null,
            "overflow_y": null,
            "padding": null,
            "right": null,
            "top": null,
            "visibility": null,
            "width": null
          }
        },
        "4a9d63086df146ccad0585f69080a9a4": {
          "model_module": "@jupyter-widgets/controls",
          "model_name": "DescriptionStyleModel",
          "model_module_version": "1.5.0",
          "state": {
            "_model_module": "@jupyter-widgets/controls",
            "_model_module_version": "1.5.0",
            "_model_name": "DescriptionStyleModel",
            "_view_count": null,
            "_view_module": "@jupyter-widgets/base",
            "_view_module_version": "1.2.0",
            "_view_name": "StyleView",
            "description_width": ""
          }
        },
        "5f99611b8758415dacc9926959218771": {
          "model_module": "@jupyter-widgets/base",
          "model_name": "LayoutModel",
          "model_module_version": "1.2.0",
          "state": {
            "_model_module": "@jupyter-widgets/base",
            "_model_module_version": "1.2.0",
            "_model_name": "LayoutModel",
            "_view_count": null,
            "_view_module": "@jupyter-widgets/base",
            "_view_module_version": "1.2.0",
            "_view_name": "LayoutView",
            "align_content": null,
            "align_items": null,
            "align_self": null,
            "border": null,
            "bottom": null,
            "display": null,
            "flex": null,
            "flex_flow": null,
            "grid_area": null,
            "grid_auto_columns": null,
            "grid_auto_flow": null,
            "grid_auto_rows": null,
            "grid_column": null,
            "grid_gap": null,
            "grid_row": null,
            "grid_template_areas": null,
            "grid_template_columns": null,
            "grid_template_rows": null,
            "height": null,
            "justify_content": null,
            "justify_items": null,
            "left": null,
            "margin": null,
            "max_height": null,
            "max_width": null,
            "min_height": null,
            "min_width": null,
            "object_fit": null,
            "object_position": null,
            "order": null,
            "overflow": null,
            "overflow_x": null,
            "overflow_y": null,
            "padding": null,
            "right": null,
            "top": null,
            "visibility": null,
            "width": null
          }
        },
        "819d26cff2004d5c831c785e81ad3d48": {
          "model_module": "@jupyter-widgets/controls",
          "model_name": "ProgressStyleModel",
          "model_module_version": "1.5.0",
          "state": {
            "_model_module": "@jupyter-widgets/controls",
            "_model_module_version": "1.5.0",
            "_model_name": "ProgressStyleModel",
            "_view_count": null,
            "_view_module": "@jupyter-widgets/base",
            "_view_module_version": "1.2.0",
            "_view_name": "StyleView",
            "bar_color": null,
            "description_width": ""
          }
        },
        "98253cdc756946de819ddf3ea4ad9c74": {
          "model_module": "@jupyter-widgets/base",
          "model_name": "LayoutModel",
          "model_module_version": "1.2.0",
          "state": {
            "_model_module": "@jupyter-widgets/base",
            "_model_module_version": "1.2.0",
            "_model_name": "LayoutModel",
            "_view_count": null,
            "_view_module": "@jupyter-widgets/base",
            "_view_module_version": "1.2.0",
            "_view_name": "LayoutView",
            "align_content": null,
            "align_items": null,
            "align_self": null,
            "border": null,
            "bottom": null,
            "display": null,
            "flex": null,
            "flex_flow": null,
            "grid_area": null,
            "grid_auto_columns": null,
            "grid_auto_flow": null,
            "grid_auto_rows": null,
            "grid_column": null,
            "grid_gap": null,
            "grid_row": null,
            "grid_template_areas": null,
            "grid_template_columns": null,
            "grid_template_rows": null,
            "height": null,
            "justify_content": null,
            "justify_items": null,
            "left": null,
            "margin": null,
            "max_height": null,
            "max_width": null,
            "min_height": null,
            "min_width": null,
            "object_fit": null,
            "object_position": null,
            "order": null,
            "overflow": null,
            "overflow_x": null,
            "overflow_y": null,
            "padding": null,
            "right": null,
            "top": null,
            "visibility": null,
            "width": null
          }
        },
        "3c0f32b462194e0c819e10fafcf3e90e": {
          "model_module": "@jupyter-widgets/controls",
          "model_name": "DescriptionStyleModel",
          "model_module_version": "1.5.0",
          "state": {
            "_model_module": "@jupyter-widgets/controls",
            "_model_module_version": "1.5.0",
            "_model_name": "DescriptionStyleModel",
            "_view_count": null,
            "_view_module": "@jupyter-widgets/base",
            "_view_module_version": "1.2.0",
            "_view_name": "StyleView",
            "description_width": ""
          }
        },
        "15dcfbe5d21444d794630fdc170fa4df": {
          "model_module": "@jupyter-widgets/controls",
          "model_name": "HBoxModel",
          "model_module_version": "1.5.0",
          "state": {
            "_dom_classes": [],
            "_model_module": "@jupyter-widgets/controls",
            "_model_module_version": "1.5.0",
            "_model_name": "HBoxModel",
            "_view_count": null,
            "_view_module": "@jupyter-widgets/controls",
            "_view_module_version": "1.5.0",
            "_view_name": "HBoxView",
            "box_style": "",
            "children": [
              "IPY_MODEL_111cbd08cdd142b4b093393fa34352a6",
              "IPY_MODEL_c83cb590e44a4a009ab2bd255ae8ab00",
              "IPY_MODEL_08b80d028e8f4ec5a32abdd6004a2247"
            ],
            "layout": "IPY_MODEL_d02f3b5590874f4a9ab3ed0f5aac971b"
          }
        },
        "111cbd08cdd142b4b093393fa34352a6": {
          "model_module": "@jupyter-widgets/controls",
          "model_name": "HTMLModel",
          "model_module_version": "1.5.0",
          "state": {
            "_dom_classes": [],
            "_model_module": "@jupyter-widgets/controls",
            "_model_module_version": "1.5.0",
            "_model_name": "HTMLModel",
            "_view_count": null,
            "_view_module": "@jupyter-widgets/controls",
            "_view_module_version": "1.5.0",
            "_view_name": "HTMLView",
            "description": "",
            "description_tooltip": null,
            "layout": "IPY_MODEL_a22a1910973b4893932b5b05ed0d9664",
            "placeholder": "​",
            "style": "IPY_MODEL_f93f7cfebad74fb5a310f2184ee626b4",
            "value": "Epoch 1/14: 100%"
          }
        },
        "c83cb590e44a4a009ab2bd255ae8ab00": {
          "model_module": "@jupyter-widgets/controls",
          "model_name": "FloatProgressModel",
          "model_module_version": "1.5.0",
          "state": {
            "_dom_classes": [],
            "_model_module": "@jupyter-widgets/controls",
            "_model_module_version": "1.5.0",
            "_model_name": "FloatProgressModel",
            "_view_count": null,
            "_view_module": "@jupyter-widgets/controls",
            "_view_module_version": "1.5.0",
            "_view_name": "ProgressView",
            "bar_style": "success",
            "description": "",
            "description_tooltip": null,
            "layout": "IPY_MODEL_28fb668ce614426885bcb6dd96805007",
            "max": 185,
            "min": 0,
            "orientation": "horizontal",
            "style": "IPY_MODEL_f17d37e02bae48008194f200911deb7f",
            "value": 185
          }
        },
        "08b80d028e8f4ec5a32abdd6004a2247": {
          "model_module": "@jupyter-widgets/controls",
          "model_name": "HTMLModel",
          "model_module_version": "1.5.0",
          "state": {
            "_dom_classes": [],
            "_model_module": "@jupyter-widgets/controls",
            "_model_module_version": "1.5.0",
            "_model_name": "HTMLModel",
            "_view_count": null,
            "_view_module": "@jupyter-widgets/controls",
            "_view_module_version": "1.5.0",
            "_view_name": "HTMLView",
            "description": "",
            "description_tooltip": null,
            "layout": "IPY_MODEL_76017c7a4b884c029d08029b6cb8b7c1",
            "placeholder": "​",
            "style": "IPY_MODEL_624dde6f59d342c7843813b13515a6d7",
            "value": " 185/185 [27:01&lt;00:00,  7.46s/it, loss=0.004511, lr=7.38e-05]"
          }
        },
        "d02f3b5590874f4a9ab3ed0f5aac971b": {
          "model_module": "@jupyter-widgets/base",
          "model_name": "LayoutModel",
          "model_module_version": "1.2.0",
          "state": {
            "_model_module": "@jupyter-widgets/base",
            "_model_module_version": "1.2.0",
            "_model_name": "LayoutModel",
            "_view_count": null,
            "_view_module": "@jupyter-widgets/base",
            "_view_module_version": "1.2.0",
            "_view_name": "LayoutView",
            "align_content": null,
            "align_items": null,
            "align_self": null,
            "border": null,
            "bottom": null,
            "display": null,
            "flex": null,
            "flex_flow": null,
            "grid_area": null,
            "grid_auto_columns": null,
            "grid_auto_flow": null,
            "grid_auto_rows": null,
            "grid_column": null,
            "grid_gap": null,
            "grid_row": null,
            "grid_template_areas": null,
            "grid_template_columns": null,
            "grid_template_rows": null,
            "height": null,
            "justify_content": null,
            "justify_items": null,
            "left": null,
            "margin": null,
            "max_height": null,
            "max_width": null,
            "min_height": null,
            "min_width": null,
            "object_fit": null,
            "object_position": null,
            "order": null,
            "overflow": null,
            "overflow_x": null,
            "overflow_y": null,
            "padding": null,
            "right": null,
            "top": null,
            "visibility": null,
            "width": null
          }
        },
        "a22a1910973b4893932b5b05ed0d9664": {
          "model_module": "@jupyter-widgets/base",
          "model_name": "LayoutModel",
          "model_module_version": "1.2.0",
          "state": {
            "_model_module": "@jupyter-widgets/base",
            "_model_module_version": "1.2.0",
            "_model_name": "LayoutModel",
            "_view_count": null,
            "_view_module": "@jupyter-widgets/base",
            "_view_module_version": "1.2.0",
            "_view_name": "LayoutView",
            "align_content": null,
            "align_items": null,
            "align_self": null,
            "border": null,
            "bottom": null,
            "display": null,
            "flex": null,
            "flex_flow": null,
            "grid_area": null,
            "grid_auto_columns": null,
            "grid_auto_flow": null,
            "grid_auto_rows": null,
            "grid_column": null,
            "grid_gap": null,
            "grid_row": null,
            "grid_template_areas": null,
            "grid_template_columns": null,
            "grid_template_rows": null,
            "height": null,
            "justify_content": null,
            "justify_items": null,
            "left": null,
            "margin": null,
            "max_height": null,
            "max_width": null,
            "min_height": null,
            "min_width": null,
            "object_fit": null,
            "object_position": null,
            "order": null,
            "overflow": null,
            "overflow_x": null,
            "overflow_y": null,
            "padding": null,
            "right": null,
            "top": null,
            "visibility": null,
            "width": null
          }
        },
        "f93f7cfebad74fb5a310f2184ee626b4": {
          "model_module": "@jupyter-widgets/controls",
          "model_name": "DescriptionStyleModel",
          "model_module_version": "1.5.0",
          "state": {
            "_model_module": "@jupyter-widgets/controls",
            "_model_module_version": "1.5.0",
            "_model_name": "DescriptionStyleModel",
            "_view_count": null,
            "_view_module": "@jupyter-widgets/base",
            "_view_module_version": "1.2.0",
            "_view_name": "StyleView",
            "description_width": ""
          }
        },
        "28fb668ce614426885bcb6dd96805007": {
          "model_module": "@jupyter-widgets/base",
          "model_name": "LayoutModel",
          "model_module_version": "1.2.0",
          "state": {
            "_model_module": "@jupyter-widgets/base",
            "_model_module_version": "1.2.0",
            "_model_name": "LayoutModel",
            "_view_count": null,
            "_view_module": "@jupyter-widgets/base",
            "_view_module_version": "1.2.0",
            "_view_name": "LayoutView",
            "align_content": null,
            "align_items": null,
            "align_self": null,
            "border": null,
            "bottom": null,
            "display": null,
            "flex": null,
            "flex_flow": null,
            "grid_area": null,
            "grid_auto_columns": null,
            "grid_auto_flow": null,
            "grid_auto_rows": null,
            "grid_column": null,
            "grid_gap": null,
            "grid_row": null,
            "grid_template_areas": null,
            "grid_template_columns": null,
            "grid_template_rows": null,
            "height": null,
            "justify_content": null,
            "justify_items": null,
            "left": null,
            "margin": null,
            "max_height": null,
            "max_width": null,
            "min_height": null,
            "min_width": null,
            "object_fit": null,
            "object_position": null,
            "order": null,
            "overflow": null,
            "overflow_x": null,
            "overflow_y": null,
            "padding": null,
            "right": null,
            "top": null,
            "visibility": null,
            "width": null
          }
        },
        "f17d37e02bae48008194f200911deb7f": {
          "model_module": "@jupyter-widgets/controls",
          "model_name": "ProgressStyleModel",
          "model_module_version": "1.5.0",
          "state": {
            "_model_module": "@jupyter-widgets/controls",
            "_model_module_version": "1.5.0",
            "_model_name": "ProgressStyleModel",
            "_view_count": null,
            "_view_module": "@jupyter-widgets/base",
            "_view_module_version": "1.2.0",
            "_view_name": "StyleView",
            "bar_color": null,
            "description_width": ""
          }
        },
        "76017c7a4b884c029d08029b6cb8b7c1": {
          "model_module": "@jupyter-widgets/base",
          "model_name": "LayoutModel",
          "model_module_version": "1.2.0",
          "state": {
            "_model_module": "@jupyter-widgets/base",
            "_model_module_version": "1.2.0",
            "_model_name": "LayoutModel",
            "_view_count": null,
            "_view_module": "@jupyter-widgets/base",
            "_view_module_version": "1.2.0",
            "_view_name": "LayoutView",
            "align_content": null,
            "align_items": null,
            "align_self": null,
            "border": null,
            "bottom": null,
            "display": null,
            "flex": null,
            "flex_flow": null,
            "grid_area": null,
            "grid_auto_columns": null,
            "grid_auto_flow": null,
            "grid_auto_rows": null,
            "grid_column": null,
            "grid_gap": null,
            "grid_row": null,
            "grid_template_areas": null,
            "grid_template_columns": null,
            "grid_template_rows": null,
            "height": null,
            "justify_content": null,
            "justify_items": null,
            "left": null,
            "margin": null,
            "max_height": null,
            "max_width": null,
            "min_height": null,
            "min_width": null,
            "object_fit": null,
            "object_position": null,
            "order": null,
            "overflow": null,
            "overflow_x": null,
            "overflow_y": null,
            "padding": null,
            "right": null,
            "top": null,
            "visibility": null,
            "width": null
          }
        },
        "624dde6f59d342c7843813b13515a6d7": {
          "model_module": "@jupyter-widgets/controls",
          "model_name": "DescriptionStyleModel",
          "model_module_version": "1.5.0",
          "state": {
            "_model_module": "@jupyter-widgets/controls",
            "_model_module_version": "1.5.0",
            "_model_name": "DescriptionStyleModel",
            "_view_count": null,
            "_view_module": "@jupyter-widgets/base",
            "_view_module_version": "1.2.0",
            "_view_name": "StyleView",
            "description_width": ""
          }
        },
        "b1fe1733473b483096801dc51a996ed6": {
          "model_module": "@jupyter-widgets/controls",
          "model_name": "HBoxModel",
          "model_module_version": "1.5.0",
          "state": {
            "_dom_classes": [],
            "_model_module": "@jupyter-widgets/controls",
            "_model_module_version": "1.5.0",
            "_model_name": "HBoxModel",
            "_view_count": null,
            "_view_module": "@jupyter-widgets/controls",
            "_view_module_version": "1.5.0",
            "_view_name": "HBoxView",
            "box_style": "",
            "children": [
              "IPY_MODEL_8df830fdbe1b4bb49753380a062c2cd8",
              "IPY_MODEL_5f430ab6b8324bc7adcf730854a06644",
              "IPY_MODEL_4c6681c3be014824af878e6bf299826f"
            ],
            "layout": "IPY_MODEL_4b34a7a982fd43a6b475aac797dde975"
          }
        },
        "8df830fdbe1b4bb49753380a062c2cd8": {
          "model_module": "@jupyter-widgets/controls",
          "model_name": "HTMLModel",
          "model_module_version": "1.5.0",
          "state": {
            "_dom_classes": [],
            "_model_module": "@jupyter-widgets/controls",
            "_model_module_version": "1.5.0",
            "_model_name": "HTMLModel",
            "_view_count": null,
            "_view_module": "@jupyter-widgets/controls",
            "_view_module_version": "1.5.0",
            "_view_name": "HTMLView",
            "description": "",
            "description_tooltip": null,
            "layout": "IPY_MODEL_d4665866e4d94f5c9b72c5ef419c62c3",
            "placeholder": "​",
            "style": "IPY_MODEL_df713506c9c24abb9eeb0f7e5dbdb5ce",
            "value": "Epoch 2/14: 100%"
          }
        },
        "5f430ab6b8324bc7adcf730854a06644": {
          "model_module": "@jupyter-widgets/controls",
          "model_name": "FloatProgressModel",
          "model_module_version": "1.5.0",
          "state": {
            "_dom_classes": [],
            "_model_module": "@jupyter-widgets/controls",
            "_model_module_version": "1.5.0",
            "_model_name": "FloatProgressModel",
            "_view_count": null,
            "_view_module": "@jupyter-widgets/controls",
            "_view_module_version": "1.5.0",
            "_view_name": "ProgressView",
            "bar_style": "success",
            "description": "",
            "description_tooltip": null,
            "layout": "IPY_MODEL_b27f84c38742466f8563ec17096786ff",
            "max": 185,
            "min": 0,
            "orientation": "horizontal",
            "style": "IPY_MODEL_194b929840fe4fc586b9176ddcd30e20",
            "value": 185
          }
        },
        "4c6681c3be014824af878e6bf299826f": {
          "model_module": "@jupyter-widgets/controls",
          "model_name": "HTMLModel",
          "model_module_version": "1.5.0",
          "state": {
            "_dom_classes": [],
            "_model_module": "@jupyter-widgets/controls",
            "_model_module_version": "1.5.0",
            "_model_name": "HTMLModel",
            "_view_count": null,
            "_view_module": "@jupyter-widgets/controls",
            "_view_module_version": "1.5.0",
            "_view_name": "HTMLView",
            "description": "",
            "description_tooltip": null,
            "layout": "IPY_MODEL_be0b103bc7b64919b6d9d9c66b4ee0aa",
            "placeholder": "​",
            "style": "IPY_MODEL_000048b690a94c1ba2fe24fe2b7315c5",
            "value": " 185/185 [26:12&lt;00:00,  6.49s/it, loss=0.004509, lr=1.00e-04]"
          }
        },
        "4b34a7a982fd43a6b475aac797dde975": {
          "model_module": "@jupyter-widgets/base",
          "model_name": "LayoutModel",
          "model_module_version": "1.2.0",
          "state": {
            "_model_module": "@jupyter-widgets/base",
            "_model_module_version": "1.2.0",
            "_model_name": "LayoutModel",
            "_view_count": null,
            "_view_module": "@jupyter-widgets/base",
            "_view_module_version": "1.2.0",
            "_view_name": "LayoutView",
            "align_content": null,
            "align_items": null,
            "align_self": null,
            "border": null,
            "bottom": null,
            "display": null,
            "flex": null,
            "flex_flow": null,
            "grid_area": null,
            "grid_auto_columns": null,
            "grid_auto_flow": null,
            "grid_auto_rows": null,
            "grid_column": null,
            "grid_gap": null,
            "grid_row": null,
            "grid_template_areas": null,
            "grid_template_columns": null,
            "grid_template_rows": null,
            "height": null,
            "justify_content": null,
            "justify_items": null,
            "left": null,
            "margin": null,
            "max_height": null,
            "max_width": null,
            "min_height": null,
            "min_width": null,
            "object_fit": null,
            "object_position": null,
            "order": null,
            "overflow": null,
            "overflow_x": null,
            "overflow_y": null,
            "padding": null,
            "right": null,
            "top": null,
            "visibility": null,
            "width": null
          }
        },
        "d4665866e4d94f5c9b72c5ef419c62c3": {
          "model_module": "@jupyter-widgets/base",
          "model_name": "LayoutModel",
          "model_module_version": "1.2.0",
          "state": {
            "_model_module": "@jupyter-widgets/base",
            "_model_module_version": "1.2.0",
            "_model_name": "LayoutModel",
            "_view_count": null,
            "_view_module": "@jupyter-widgets/base",
            "_view_module_version": "1.2.0",
            "_view_name": "LayoutView",
            "align_content": null,
            "align_items": null,
            "align_self": null,
            "border": null,
            "bottom": null,
            "display": null,
            "flex": null,
            "flex_flow": null,
            "grid_area": null,
            "grid_auto_columns": null,
            "grid_auto_flow": null,
            "grid_auto_rows": null,
            "grid_column": null,
            "grid_gap": null,
            "grid_row": null,
            "grid_template_areas": null,
            "grid_template_columns": null,
            "grid_template_rows": null,
            "height": null,
            "justify_content": null,
            "justify_items": null,
            "left": null,
            "margin": null,
            "max_height": null,
            "max_width": null,
            "min_height": null,
            "min_width": null,
            "object_fit": null,
            "object_position": null,
            "order": null,
            "overflow": null,
            "overflow_x": null,
            "overflow_y": null,
            "padding": null,
            "right": null,
            "top": null,
            "visibility": null,
            "width": null
          }
        },
        "df713506c9c24abb9eeb0f7e5dbdb5ce": {
          "model_module": "@jupyter-widgets/controls",
          "model_name": "DescriptionStyleModel",
          "model_module_version": "1.5.0",
          "state": {
            "_model_module": "@jupyter-widgets/controls",
            "_model_module_version": "1.5.0",
            "_model_name": "DescriptionStyleModel",
            "_view_count": null,
            "_view_module": "@jupyter-widgets/base",
            "_view_module_version": "1.2.0",
            "_view_name": "StyleView",
            "description_width": ""
          }
        },
        "b27f84c38742466f8563ec17096786ff": {
          "model_module": "@jupyter-widgets/base",
          "model_name": "LayoutModel",
          "model_module_version": "1.2.0",
          "state": {
            "_model_module": "@jupyter-widgets/base",
            "_model_module_version": "1.2.0",
            "_model_name": "LayoutModel",
            "_view_count": null,
            "_view_module": "@jupyter-widgets/base",
            "_view_module_version": "1.2.0",
            "_view_name": "LayoutView",
            "align_content": null,
            "align_items": null,
            "align_self": null,
            "border": null,
            "bottom": null,
            "display": null,
            "flex": null,
            "flex_flow": null,
            "grid_area": null,
            "grid_auto_columns": null,
            "grid_auto_flow": null,
            "grid_auto_rows": null,
            "grid_column": null,
            "grid_gap": null,
            "grid_row": null,
            "grid_template_areas": null,
            "grid_template_columns": null,
            "grid_template_rows": null,
            "height": null,
            "justify_content": null,
            "justify_items": null,
            "left": null,
            "margin": null,
            "max_height": null,
            "max_width": null,
            "min_height": null,
            "min_width": null,
            "object_fit": null,
            "object_position": null,
            "order": null,
            "overflow": null,
            "overflow_x": null,
            "overflow_y": null,
            "padding": null,
            "right": null,
            "top": null,
            "visibility": null,
            "width": null
          }
        },
        "194b929840fe4fc586b9176ddcd30e20": {
          "model_module": "@jupyter-widgets/controls",
          "model_name": "ProgressStyleModel",
          "model_module_version": "1.5.0",
          "state": {
            "_model_module": "@jupyter-widgets/controls",
            "_model_module_version": "1.5.0",
            "_model_name": "ProgressStyleModel",
            "_view_count": null,
            "_view_module": "@jupyter-widgets/base",
            "_view_module_version": "1.2.0",
            "_view_name": "StyleView",
            "bar_color": null,
            "description_width": ""
          }
        },
        "be0b103bc7b64919b6d9d9c66b4ee0aa": {
          "model_module": "@jupyter-widgets/base",
          "model_name": "LayoutModel",
          "model_module_version": "1.2.0",
          "state": {
            "_model_module": "@jupyter-widgets/base",
            "_model_module_version": "1.2.0",
            "_model_name": "LayoutModel",
            "_view_count": null,
            "_view_module": "@jupyter-widgets/base",
            "_view_module_version": "1.2.0",
            "_view_name": "LayoutView",
            "align_content": null,
            "align_items": null,
            "align_self": null,
            "border": null,
            "bottom": null,
            "display": null,
            "flex": null,
            "flex_flow": null,
            "grid_area": null,
            "grid_auto_columns": null,
            "grid_auto_flow": null,
            "grid_auto_rows": null,
            "grid_column": null,
            "grid_gap": null,
            "grid_row": null,
            "grid_template_areas": null,
            "grid_template_columns": null,
            "grid_template_rows": null,
            "height": null,
            "justify_content": null,
            "justify_items": null,
            "left": null,
            "margin": null,
            "max_height": null,
            "max_width": null,
            "min_height": null,
            "min_width": null,
            "object_fit": null,
            "object_position": null,
            "order": null,
            "overflow": null,
            "overflow_x": null,
            "overflow_y": null,
            "padding": null,
            "right": null,
            "top": null,
            "visibility": null,
            "width": null
          }
        },
        "000048b690a94c1ba2fe24fe2b7315c5": {
          "model_module": "@jupyter-widgets/controls",
          "model_name": "DescriptionStyleModel",
          "model_module_version": "1.5.0",
          "state": {
            "_model_module": "@jupyter-widgets/controls",
            "_model_module_version": "1.5.0",
            "_model_name": "DescriptionStyleModel",
            "_view_count": null,
            "_view_module": "@jupyter-widgets/base",
            "_view_module_version": "1.2.0",
            "_view_name": "StyleView",
            "description_width": ""
          }
        },
        "46fc86d83425489aaf8ffa8745114dd5": {
          "model_module": "@jupyter-widgets/controls",
          "model_name": "HBoxModel",
          "model_module_version": "1.5.0",
          "state": {
            "_dom_classes": [],
            "_model_module": "@jupyter-widgets/controls",
            "_model_module_version": "1.5.0",
            "_model_name": "HBoxModel",
            "_view_count": null,
            "_view_module": "@jupyter-widgets/controls",
            "_view_module_version": "1.5.0",
            "_view_name": "HBoxView",
            "box_style": "",
            "children": [
              "IPY_MODEL_9ab9a0b6730b4af99b0101df7b0566db",
              "IPY_MODEL_036954af11ab4cf480d82592a88de5a0",
              "IPY_MODEL_57003a63c4e2422a86b0089a29e7203b"
            ],
            "layout": "IPY_MODEL_49eedee55bac4120873a2913b2ffee20"
          }
        },
        "9ab9a0b6730b4af99b0101df7b0566db": {
          "model_module": "@jupyter-widgets/controls",
          "model_name": "HTMLModel",
          "model_module_version": "1.5.0",
          "state": {
            "_dom_classes": [],
            "_model_module": "@jupyter-widgets/controls",
            "_model_module_version": "1.5.0",
            "_model_name": "HTMLModel",
            "_view_count": null,
            "_view_module": "@jupyter-widgets/controls",
            "_view_module_version": "1.5.0",
            "_view_name": "HTMLView",
            "description": "",
            "description_tooltip": null,
            "layout": "IPY_MODEL_8d246f84ba734dc2aeef4be421343098",
            "placeholder": "​",
            "style": "IPY_MODEL_1ad4c976fc2b4abe914deee0f660ae75",
            "value": "Epoch 3/14:  29%"
          }
        },
        "036954af11ab4cf480d82592a88de5a0": {
          "model_module": "@jupyter-widgets/controls",
          "model_name": "FloatProgressModel",
          "model_module_version": "1.5.0",
          "state": {
            "_dom_classes": [],
            "_model_module": "@jupyter-widgets/controls",
            "_model_module_version": "1.5.0",
            "_model_name": "FloatProgressModel",
            "_view_count": null,
            "_view_module": "@jupyter-widgets/controls",
            "_view_module_version": "1.5.0",
            "_view_name": "ProgressView",
            "bar_style": "",
            "description": "",
            "description_tooltip": null,
            "layout": "IPY_MODEL_d1b5c73fdf8c4d3494e7432b847ef8c1",
            "max": 185,
            "min": 0,
            "orientation": "horizontal",
            "style": "IPY_MODEL_15837e4f348d4ec28f2515e221138bdb",
            "value": 53
          }
        },
        "57003a63c4e2422a86b0089a29e7203b": {
          "model_module": "@jupyter-widgets/controls",
          "model_name": "HTMLModel",
          "model_module_version": "1.5.0",
          "state": {
            "_dom_classes": [],
            "_model_module": "@jupyter-widgets/controls",
            "_model_module_version": "1.5.0",
            "_model_name": "HTMLModel",
            "_view_count": null,
            "_view_module": "@jupyter-widgets/controls",
            "_view_module_version": "1.5.0",
            "_view_name": "HTMLView",
            "description": "",
            "description_tooltip": null,
            "layout": "IPY_MODEL_efcdf338c345487dba5654fd98f361a1",
            "placeholder": "​",
            "style": "IPY_MODEL_2a9a8f0d9bbf4ac0b4b9c9c9830a1cde",
            "value": " 53/185 [07:18&lt;17:58,  8.17s/it, loss=0.004407, lr=1.00e-04]"
          }
        },
        "49eedee55bac4120873a2913b2ffee20": {
          "model_module": "@jupyter-widgets/base",
          "model_name": "LayoutModel",
          "model_module_version": "1.2.0",
          "state": {
            "_model_module": "@jupyter-widgets/base",
            "_model_module_version": "1.2.0",
            "_model_name": "LayoutModel",
            "_view_count": null,
            "_view_module": "@jupyter-widgets/base",
            "_view_module_version": "1.2.0",
            "_view_name": "LayoutView",
            "align_content": null,
            "align_items": null,
            "align_self": null,
            "border": null,
            "bottom": null,
            "display": null,
            "flex": null,
            "flex_flow": null,
            "grid_area": null,
            "grid_auto_columns": null,
            "grid_auto_flow": null,
            "grid_auto_rows": null,
            "grid_column": null,
            "grid_gap": null,
            "grid_row": null,
            "grid_template_areas": null,
            "grid_template_columns": null,
            "grid_template_rows": null,
            "height": null,
            "justify_content": null,
            "justify_items": null,
            "left": null,
            "margin": null,
            "max_height": null,
            "max_width": null,
            "min_height": null,
            "min_width": null,
            "object_fit": null,
            "object_position": null,
            "order": null,
            "overflow": null,
            "overflow_x": null,
            "overflow_y": null,
            "padding": null,
            "right": null,
            "top": null,
            "visibility": null,
            "width": null
          }
        },
        "8d246f84ba734dc2aeef4be421343098": {
          "model_module": "@jupyter-widgets/base",
          "model_name": "LayoutModel",
          "model_module_version": "1.2.0",
          "state": {
            "_model_module": "@jupyter-widgets/base",
            "_model_module_version": "1.2.0",
            "_model_name": "LayoutModel",
            "_view_count": null,
            "_view_module": "@jupyter-widgets/base",
            "_view_module_version": "1.2.0",
            "_view_name": "LayoutView",
            "align_content": null,
            "align_items": null,
            "align_self": null,
            "border": null,
            "bottom": null,
            "display": null,
            "flex": null,
            "flex_flow": null,
            "grid_area": null,
            "grid_auto_columns": null,
            "grid_auto_flow": null,
            "grid_auto_rows": null,
            "grid_column": null,
            "grid_gap": null,
            "grid_row": null,
            "grid_template_areas": null,
            "grid_template_columns": null,
            "grid_template_rows": null,
            "height": null,
            "justify_content": null,
            "justify_items": null,
            "left": null,
            "margin": null,
            "max_height": null,
            "max_width": null,
            "min_height": null,
            "min_width": null,
            "object_fit": null,
            "object_position": null,
            "order": null,
            "overflow": null,
            "overflow_x": null,
            "overflow_y": null,
            "padding": null,
            "right": null,
            "top": null,
            "visibility": null,
            "width": null
          }
        },
        "1ad4c976fc2b4abe914deee0f660ae75": {
          "model_module": "@jupyter-widgets/controls",
          "model_name": "DescriptionStyleModel",
          "model_module_version": "1.5.0",
          "state": {
            "_model_module": "@jupyter-widgets/controls",
            "_model_module_version": "1.5.0",
            "_model_name": "DescriptionStyleModel",
            "_view_count": null,
            "_view_module": "@jupyter-widgets/base",
            "_view_module_version": "1.2.0",
            "_view_name": "StyleView",
            "description_width": ""
          }
        },
        "d1b5c73fdf8c4d3494e7432b847ef8c1": {
          "model_module": "@jupyter-widgets/base",
          "model_name": "LayoutModel",
          "model_module_version": "1.2.0",
          "state": {
            "_model_module": "@jupyter-widgets/base",
            "_model_module_version": "1.2.0",
            "_model_name": "LayoutModel",
            "_view_count": null,
            "_view_module": "@jupyter-widgets/base",
            "_view_module_version": "1.2.0",
            "_view_name": "LayoutView",
            "align_content": null,
            "align_items": null,
            "align_self": null,
            "border": null,
            "bottom": null,
            "display": null,
            "flex": null,
            "flex_flow": null,
            "grid_area": null,
            "grid_auto_columns": null,
            "grid_auto_flow": null,
            "grid_auto_rows": null,
            "grid_column": null,
            "grid_gap": null,
            "grid_row": null,
            "grid_template_areas": null,
            "grid_template_columns": null,
            "grid_template_rows": null,
            "height": null,
            "justify_content": null,
            "justify_items": null,
            "left": null,
            "margin": null,
            "max_height": null,
            "max_width": null,
            "min_height": null,
            "min_width": null,
            "object_fit": null,
            "object_position": null,
            "order": null,
            "overflow": null,
            "overflow_x": null,
            "overflow_y": null,
            "padding": null,
            "right": null,
            "top": null,
            "visibility": null,
            "width": null
          }
        },
        "15837e4f348d4ec28f2515e221138bdb": {
          "model_module": "@jupyter-widgets/controls",
          "model_name": "ProgressStyleModel",
          "model_module_version": "1.5.0",
          "state": {
            "_model_module": "@jupyter-widgets/controls",
            "_model_module_version": "1.5.0",
            "_model_name": "ProgressStyleModel",
            "_view_count": null,
            "_view_module": "@jupyter-widgets/base",
            "_view_module_version": "1.2.0",
            "_view_name": "StyleView",
            "bar_color": null,
            "description_width": ""
          }
        },
        "efcdf338c345487dba5654fd98f361a1": {
          "model_module": "@jupyter-widgets/base",
          "model_name": "LayoutModel",
          "model_module_version": "1.2.0",
          "state": {
            "_model_module": "@jupyter-widgets/base",
            "_model_module_version": "1.2.0",
            "_model_name": "LayoutModel",
            "_view_count": null,
            "_view_module": "@jupyter-widgets/base",
            "_view_module_version": "1.2.0",
            "_view_name": "LayoutView",
            "align_content": null,
            "align_items": null,
            "align_self": null,
            "border": null,
            "bottom": null,
            "display": null,
            "flex": null,
            "flex_flow": null,
            "grid_area": null,
            "grid_auto_columns": null,
            "grid_auto_flow": null,
            "grid_auto_rows": null,
            "grid_column": null,
            "grid_gap": null,
            "grid_row": null,
            "grid_template_areas": null,
            "grid_template_columns": null,
            "grid_template_rows": null,
            "height": null,
            "justify_content": null,
            "justify_items": null,
            "left": null,
            "margin": null,
            "max_height": null,
            "max_width": null,
            "min_height": null,
            "min_width": null,
            "object_fit": null,
            "object_position": null,
            "order": null,
            "overflow": null,
            "overflow_x": null,
            "overflow_y": null,
            "padding": null,
            "right": null,
            "top": null,
            "visibility": null,
            "width": null
          }
        },
        "2a9a8f0d9bbf4ac0b4b9c9c9830a1cde": {
          "model_module": "@jupyter-widgets/controls",
          "model_name": "DescriptionStyleModel",
          "model_module_version": "1.5.0",
          "state": {
            "_model_module": "@jupyter-widgets/controls",
            "_model_module_version": "1.5.0",
            "_model_name": "DescriptionStyleModel",
            "_view_count": null,
            "_view_module": "@jupyter-widgets/base",
            "_view_module_version": "1.2.0",
            "_view_name": "StyleView",
            "description_width": ""
          }
        }
      }
    }
  },
  "cells": [
    {
      "cell_type": "markdown",
      "source": [
        "# Preparing the Enviorment\n"
      ],
      "metadata": {
        "id": "_KAzAvjKhwb4"
      }
    },
    {
      "cell_type": "markdown",
      "source": [
        "## Check out Colab Instance Region"
      ],
      "metadata": {
        "id": "CzeI3F9vjb40"
      }
    },
    {
      "cell_type": "code",
      "source": [
        "!curl ipinfo.io"
      ],
      "metadata": {
        "colab": {
          "base_uri": "https://localhost:8080/"
        },
        "id": "o7YxlFf-jXTb",
        "outputId": "b592f4eb-84da-4d84-cfb8-b704b47fbf69"
      },
      "execution_count": 1,
      "outputs": [
        {
          "output_type": "stream",
          "name": "stdout",
          "text": [
            "{\n",
            "  \"ip\": \"34.143.181.73\",\n",
            "  \"hostname\": \"73.181.143.34.bc.googleusercontent.com\",\n",
            "  \"city\": \"Singapore\",\n",
            "  \"region\": \"Singapore\",\n",
            "  \"country\": \"SG\",\n",
            "  \"loc\": \"1.2897,103.8501\",\n",
            "  \"org\": \"AS396982 Google LLC\",\n",
            "  \"postal\": \"018989\",\n",
            "  \"timezone\": \"Asia/Singapore\",\n",
            "  \"readme\": \"https://ipinfo.io/missingauth\"\n",
            "}"
          ]
        }
      ]
    },
    {
      "cell_type": "code",
      "source": [
        "!nvidia-smi"
      ],
      "metadata": {
        "colab": {
          "base_uri": "https://localhost:8080/"
        },
        "id": "SPNJVYlvvEd2",
        "outputId": "1523da08-7681-41e3-f612-ffa88e4a2b0c"
      },
      "execution_count": null,
      "outputs": [
        {
          "output_type": "stream",
          "name": "stdout",
          "text": [
            "Sat Aug  9 18:48:20 2025       \n",
            "+-----------------------------------------------------------------------------------------+\n",
            "| NVIDIA-SMI 550.54.15              Driver Version: 550.54.15      CUDA Version: 12.4     |\n",
            "|-----------------------------------------+------------------------+----------------------+\n",
            "| GPU  Name                 Persistence-M | Bus-Id          Disp.A | Volatile Uncorr. ECC |\n",
            "| Fan  Temp   Perf          Pwr:Usage/Cap |           Memory-Usage | GPU-Util  Compute M. |\n",
            "|                                         |                        |               MIG M. |\n",
            "|=========================================+========================+======================|\n",
            "|   0  Tesla T4                       Off |   00000000:00:04.0 Off |                    0 |\n",
            "| N/A   77C    P0             30W /   70W |    4382MiB /  15360MiB |      0%      Default |\n",
            "|                                         |                        |                  N/A |\n",
            "+-----------------------------------------+------------------------+----------------------+\n",
            "                                                                                         \n",
            "+-----------------------------------------------------------------------------------------+\n",
            "| Processes:                                                                              |\n",
            "|  GPU   GI   CI        PID   Type   Process name                              GPU Memory |\n",
            "|        ID   ID                                                               Usage      |\n",
            "|=========================================================================================|\n",
            "+-----------------------------------------------------------------------------------------+\n"
          ]
        }
      ]
    },
    {
      "cell_type": "markdown",
      "source": [
        "## Intsall Essential Packaeges\n",
        "\n",
        "`super-image` library is built on top of **Hugging Face**'s `transformers` and `datasets`"
      ],
      "metadata": {
        "id": "53oNfTDU4aOj"
      }
    },
    {
      "cell_type": "code",
      "source": [
        "!pip install super-image -q"
      ],
      "metadata": {
        "id": "zFprZGbb4ak8",
        "outputId": "aaeda855-a820-4fa1-e8f3-e91f2115b46c",
        "colab": {
          "base_uri": "https://localhost:8080/"
        }
      },
      "execution_count": 2,
      "outputs": [
        {
          "output_type": "stream",
          "name": "stdout",
          "text": [
            "\u001b[2K   \u001b[90m━━━━━━━━━━━━━━━━━━━━━━━━━━━━━━━━━━━━━━━━\u001b[0m \u001b[32m95.9/95.9 kB\u001b[0m \u001b[31m8.6 MB/s\u001b[0m eta \u001b[36m0:00:00\u001b[0m\n",
            "\u001b[2K   \u001b[90m━━━━━━━━━━━━━━━━━━━━━━━━━━━━━━━━━━━━━━━━\u001b[0m \u001b[32m363.4/363.4 MB\u001b[0m \u001b[31m3.9 MB/s\u001b[0m eta \u001b[36m0:00:00\u001b[0m\n",
            "\u001b[2K   \u001b[90m━━━━━━━━━━━━━━━━━━━━━━━━━━━━━━━━━━━━━━━━\u001b[0m \u001b[32m13.8/13.8 MB\u001b[0m \u001b[31m89.4 MB/s\u001b[0m eta \u001b[36m0:00:00\u001b[0m\n",
            "\u001b[2K   \u001b[90m━━━━━━━━━━━━━━━━━━━━━━━━━━━━━━━━━━━━━━━━\u001b[0m \u001b[32m24.6/24.6 MB\u001b[0m \u001b[31m71.5 MB/s\u001b[0m eta \u001b[36m0:00:00\u001b[0m\n",
            "\u001b[2K   \u001b[90m━━━━━━━━━━━━━━━━━━━━━━━━━━━━━━━━━━━━━━━━\u001b[0m \u001b[32m883.7/883.7 kB\u001b[0m \u001b[31m50.4 MB/s\u001b[0m eta \u001b[36m0:00:00\u001b[0m\n",
            "\u001b[2K   \u001b[90m━━━━━━━━━━━━━━━━━━━━━━━━━━━━━━━━━━━━━━━\u001b[0m \u001b[32m664.8/664.8 MB\u001b[0m \u001b[31m841.7 kB/s\u001b[0m eta \u001b[36m0:00:00\u001b[0m\n",
            "\u001b[2K   \u001b[90m━━━━━━━━━━━━━━━━━━━━━━━━━━━━━━━━━━━━━━━━\u001b[0m \u001b[32m211.5/211.5 MB\u001b[0m \u001b[31m5.8 MB/s\u001b[0m eta \u001b[36m0:00:00\u001b[0m\n",
            "\u001b[2K   \u001b[90m━━━━━━━━━━━━━━━━━━━━━━━━━━━━━━━━━━━━━━━━\u001b[0m \u001b[32m56.3/56.3 MB\u001b[0m \u001b[31m12.8 MB/s\u001b[0m eta \u001b[36m0:00:00\u001b[0m\n",
            "\u001b[2K   \u001b[90m━━━━━━━━━━━━━━━━━━━━━━━━━━━━━━━━━━━━━━━━\u001b[0m \u001b[32m127.9/127.9 MB\u001b[0m \u001b[31m7.1 MB/s\u001b[0m eta \u001b[36m0:00:00\u001b[0m\n",
            "\u001b[2K   \u001b[90m━━━━━━━━━━━━━━━━━━━━━━━━━━━━━━━━━━━━━━━━\u001b[0m \u001b[32m207.5/207.5 MB\u001b[0m \u001b[31m6.2 MB/s\u001b[0m eta \u001b[36m0:00:00\u001b[0m\n",
            "\u001b[2K   \u001b[90m━━━━━━━━━━━━━━━━━━━━━━━━━━━━━━━━━━━━━━━━\u001b[0m \u001b[32m188.7/188.7 MB\u001b[0m \u001b[31m6.3 MB/s\u001b[0m eta \u001b[36m0:00:00\u001b[0m\n",
            "\u001b[2K   \u001b[90m━━━━━━━━━━━━━━━━━━━━━━━━━━━━━━━━━━━━━━━━\u001b[0m \u001b[32m21.1/21.1 MB\u001b[0m \u001b[31m106.4 MB/s\u001b[0m eta \u001b[36m0:00:00\u001b[0m\n",
            "\u001b[?25h"
          ]
        }
      ]
    },
    {
      "cell_type": "markdown",
      "source": [
        "## Imports"
      ],
      "metadata": {
        "id": "XNClEaWBiATD"
      }
    },
    {
      "cell_type": "code",
      "source": [
        "import torch\n",
        "from torch.utils.data import Dataset, DataLoader\n",
        "from torch.optim import Adam, lr_scheduler\n",
        "\n",
        "\n",
        "from super_image import Trainer, PreTrainedModel, TrainingArguments\n",
        "from super_image.models import EdsrModel\n",
        "from super_image.trainer import Trainer, logger\n",
        "from super_image.utils.metrics import AverageMeter"
      ],
      "metadata": {
        "id": "qpjGAr7whwyC"
      },
      "execution_count": 3,
      "outputs": []
    },
    {
      "cell_type": "code",
      "source": [
        "import os\n",
        "from pathlib import Path\n",
        "from typing import List, Union, Dict\n",
        "from dataclasses import dataclass\n",
        "\n",
        "from tqdm.auto import tqdm\n",
        "import numpy as np"
      ],
      "metadata": {
        "id": "4u4KLpJbuw7x"
      },
      "execution_count": 4,
      "outputs": []
    },
    {
      "cell_type": "markdown",
      "source": [
        "## Paths and Directories"
      ],
      "metadata": {
        "id": "y80KYwyIiJdv"
      }
    },
    {
      "cell_type": "code",
      "source": [
        "from google.colab import drive\n",
        "\n",
        "drive.mount('/content/drive')"
      ],
      "metadata": {
        "colab": {
          "base_uri": "https://localhost:8080/"
        },
        "id": "ZFoBo8t5iKS1",
        "outputId": "9801f5d2-e696-41c0-c0cd-809c57566e5e"
      },
      "execution_count": 5,
      "outputs": [
        {
          "output_type": "stream",
          "name": "stdout",
          "text": [
            "Mounted at /content/drive\n"
          ]
        }
      ]
    },
    {
      "cell_type": "code",
      "source": [
        "BASE_DIR = Path('/content/drive/MyDrive/datasets/sen2venus')\n",
        "\n",
        "TACO_RAW_DIR = BASE_DIR / 'TACO_raw_data'\n",
        "os.makedirs(TACO_RAW_DIR, exist_ok=True)\n",
        "print(f\"Data will be saved to: {TACO_RAW_DIR}\")\n",
        "\n",
        "SELECTED_SUBSETS = [\n",
        "    \"SUDOUE-4\",\n",
        "    \"SUDOUE-5\",\n",
        "    \"SUDOUE-6\"\n",
        "]\n",
        "TACO_FILE_PATHS = [TACO_RAW_DIR / f\"{site_name}.taco\" for site_name in SELECTED_SUBSETS]\n",
        "\n",
        "\n",
        "NORMALIZED_SETS_DIR = BASE_DIR / 'normalized_sets'\n",
        "os.makedirs(NORMALIZED_SETS_DIR, exist_ok=True)\n",
        "print(f\"Normalaized sets are retrieved from:\\n\\t {NORMALIZED_SETS_DIR}\")\n",
        "\n",
        "# TRAIN_SAVE_DIR = NORMALIZED_SETS_DIR / 'train'\n",
        "# os.makedirs(TRAIN_SAVE_DIR, exist_ok=True)\n",
        "# print(f\"Train data will be saved to:\\n\\t {TRAIN_SAVE_DIR}\")\n",
        "\n",
        "# VAL_SAVE_DIR = NORMALIZED_SETS_DIR / 'val'\n",
        "# os.makedirs(VAL_SAVE_DIR, exist_ok=True)\n",
        "# print(f\"Validation data will be saved to:\\n\\t {VAL_SAVE_DIR}\")\n",
        "\n",
        "# TEST_SAVE_DIR = NORMALIZED_SETS_DIR / 'test'\n",
        "# os.makedirs(TEST_SAVE_DIR, exist_ok=True)\n",
        "# print(f\"Test data will be saved to:\\n\\t {TEST_SAVE_DIR}\")\n",
        "\n",
        "# essential for resuming training and saving final model.\n",
        "FINETUNR_SAVE_DIR = BASE_DIR / 'edsr_finetune'\n",
        "os.makedirs(FINETUNR_SAVE_DIR, exist_ok=True)\n",
        "print(f\"Finetuning data including checkpoints and logs will be saved to:\\n\\t{FINETUNR_SAVE_DIR}\")"
      ],
      "metadata": {
        "colab": {
          "base_uri": "https://localhost:8080/"
        },
        "id": "o-EoaWOvpdsx",
        "outputId": "d243745e-5738-447c-f438-c9098cc1374b"
      },
      "execution_count": 6,
      "outputs": [
        {
          "output_type": "stream",
          "name": "stdout",
          "text": [
            "Data will be saved to: /content/drive/MyDrive/datasets/sen2venus/TACO_raw_data\n",
            "Normalaized sets are retrieved from:\n",
            "\t /content/drive/MyDrive/datasets/sen2venus/normalized_sets\n",
            "Finetuning data including checkpoints and logs will be saved to:\n",
            "\t/content/drive/MyDrive/datasets/sen2venus/edsr_finetune\n"
          ]
        }
      ]
    },
    {
      "cell_type": "code",
      "source": [
        "VM_DIR = '/content/TACO_Normalized'\n",
        "\n",
        "print(\"--- Starting Data Transfer ---\")\n",
        "# Create the local directory if it doesn't exist\n",
        "if not os.path.exists(VM_DIR):\n",
        "    print(f\"Copying data from {NORMALIZED_SETS_DIR} to {VM_DIR}...\")\n",
        "    # Use the -q flag for a quiet copy to avoid flooding your output\n",
        "    !cp -r \"{NORMALIZED_SETS_DIR}\" \"{VM_DIR}\"\n",
        "    print(\"Data transfer complete.\")\n",
        "else:\n",
        "    print(\"Data already exists locally.\")\n",
        "\n",
        "\n",
        "VM_DIR = Path(VM_DIR)\n",
        "TRAIN_VM_DIR = VM_DIR / 'train'\n",
        "VAL_VM_DIR = VM_DIR / 'val'\n",
        "TEST_VM_DIR = VM_DIR / 'test'"
      ],
      "metadata": {
        "colab": {
          "base_uri": "https://localhost:8080/"
        },
        "id": "Bi2HE0q8xOr6",
        "outputId": "359d68fb-bd00-42ed-e094-2c166b241485"
      },
      "execution_count": 7,
      "outputs": [
        {
          "output_type": "stream",
          "name": "stdout",
          "text": [
            "--- Starting Data Transfer ---\n",
            "Copying data from /content/drive/MyDrive/datasets/sen2venus/normalized_sets to /content/TACO_Normalized...\n",
            "Data transfer complete.\n"
          ]
        }
      ]
    },
    {
      "cell_type": "markdown",
      "source": [
        "# Step 1: Define PyTorch Datasets & Dataloaders"
      ],
      "metadata": {
        "id": "ClVyKPm_peAg"
      }
    },
    {
      "cell_type": "code",
      "execution_count": 8,
      "metadata": {
        "id": "_vV2B_ZtT6oW"
      },
      "outputs": [],
      "source": [
        "class PreNormalizedDataset(Dataset):\n",
        "    \"\"\"\n",
        "    Efficiently reads pre-processed, sharded tensor files from disk.\n",
        "    \"\"\"\n",
        "    def __init__(self, shard_dir: Union[str, Path]):\n",
        "        self.shard_dir = Path(shard_dir)\n",
        "        self.shard_paths: List[Path] = sorted(self.shard_dir.glob(\"*.pt\"))\n",
        "\n",
        "        if not self.shard_paths:\n",
        "            raise ValueError(f\"No shard files ('*.pt') found in {self.shard_dir}\")\n",
        "\n",
        "        # To calculate length, we check the size of the first shard and assume\n",
        "        # all but the last are the same size.\n",
        "        first_shard = torch.load(self.shard_paths[0])\n",
        "        self.shard_size = len(first_shard)\n",
        "        last_shard = torch.load(self.shard_paths[-1])\n",
        "        self.length = (len(self.shard_paths) - 1) * self.shard_size + len(last_shard)\n",
        "\n",
        "        # Simple cache to avoid re-loading the same shard consecutively\n",
        "        self._cache = {}\n",
        "        self._cached_shard_index = -1\n",
        "        print(f\"Initialized dataset from {self.shard_dir} with {self.length} samples across {len(self.shard_paths)} shards.\")\n",
        "\n",
        "\n",
        "    def __len__(self):\n",
        "        return self.length\n",
        "\n",
        "    def __getitem__(self, idx)->Dict[str, np.ndarray]:\n",
        "        shard_index = idx // self.shard_size\n",
        "        index_in_shard = idx % self.shard_size\n",
        "\n",
        "        if shard_index != self._cached_shard_index:\n",
        "            self._cache = torch.load(self.shard_paths[shard_index])\n",
        "            self._cached_shard_index = shard_index\n",
        "\n",
        "        # coupled with TACORGBDataset dataset class\n",
        "        # each item in the shard is a squeezed dictionary with keys lr and hr\n",
        "        squeezed_sample = self._cache[index_in_shard]\n",
        "        return squeezed_sample['lr'], squeezed_sample['hr']\n"
      ]
    },
    {
      "cell_type": "markdown",
      "source": [
        "## Dataloader Instantiation"
      ],
      "metadata": {
        "id": "Iw7l7AuU5IUZ"
      }
    },
    {
      "cell_type": "code",
      "source": [
        "train_dataset = PreNormalizedDataset(TRAIN_VM_DIR)\n",
        "train_loader = DataLoader(train_dataset, batch_size=16, shuffle=True)"
      ],
      "metadata": {
        "colab": {
          "base_uri": "https://localhost:8080/"
        },
        "id": "TINjQ7ZN5MZf",
        "outputId": "a5939b35-4e0e-4635-8832-c514d88bdafe"
      },
      "execution_count": 9,
      "outputs": [
        {
          "output_type": "stream",
          "name": "stdout",
          "text": [
            "Initialized dataset from /content/TACO_Normalized/train with 4436 samples across 5 shards.\n"
          ]
        }
      ]
    },
    {
      "cell_type": "code",
      "source": [
        "print(\"---Verifying  batch shape:\")\n",
        "\n",
        "lr_batch, hr_batch = next(iter(train_loader))\n",
        "\n",
        "print(f\"Verification successful!\")\n",
        "print(f\"LR batch shape: {lr_batch.shape}\")\n",
        "print(f\"HR batch shape: {hr_batch.shape}\")\n",
        "print(f\"LR batch dtype: {lr_batch.dtype}\")\n",
        "print(f\"HR batch dtype: {hr_batch.dtype}\")"
      ],
      "metadata": {
        "id": "PI4v6MuK5mgG",
        "outputId": "db98c11b-e600-4f83-af17-060afa7af788",
        "colab": {
          "base_uri": "https://localhost:8080/"
        }
      },
      "execution_count": null,
      "outputs": [
        {
          "output_type": "stream",
          "name": "stdout",
          "text": [
            "---Verifying  dataset output format:\n",
            "dict_keys(['pixel_values', 'labels'])\n",
            "LR shape: torch.Size([3, 128, 128])\n",
            "HR shape: torch.Size([3, 256, 256])\n",
            "---Verifying  batch shape:\n",
            "Verification successful!\n",
            "LR batch shape: torch.Size([16, 3, 128, 128])\n",
            "HR batch shape: torch.Size([16, 3, 256, 256])\n",
            "LR batch dtype: torch.float32\n",
            "HR batch dtype: torch.float32\n"
          ]
        }
      ]
    },
    {
      "cell_type": "code",
      "source": [
        "val_dataset = PreNormalizedDataset(VAL_VM_DIR)\n",
        "val_loader = DataLoader(val_dataset, batch_size=16, shuffle=False)"
      ],
      "metadata": {
        "id": "2-xBNDU35Tcg",
        "outputId": "f02b380b-7287-4137-9b34-0505df559921",
        "colab": {
          "base_uri": "https://localhost:8080/"
        }
      },
      "execution_count": 10,
      "outputs": [
        {
          "output_type": "stream",
          "name": "stdout",
          "text": [
            "Initialized dataset from /content/TACO_Normalized/val with 554 samples across 1 shards.\n"
          ]
        }
      ]
    },
    {
      "cell_type": "code",
      "source": [
        "test_dataset = PreNormalizedDataset(TEST_SAVE_DIR)\n",
        "test_loader = DataLoader(test_dataset, batch_size=16, shuffle=False)"
      ],
      "metadata": {
        "colab": {
          "base_uri": "https://localhost:8080/"
        },
        "id": "bfwFUqvdvWSQ",
        "outputId": "114f2261-37e8-4d98-d5b6-a8d17033fa29"
      },
      "execution_count": null,
      "outputs": [
        {
          "output_type": "stream",
          "name": "stdout",
          "text": [
            "Initialized dataset from /content/drive/MyDrive/datasets/sen2venus/normalized_sets/test with 556 samples across 1 shards.\n",
            "Loaded 556 test samples.\n"
          ]
        }
      ]
    },
    {
      "cell_type": "markdown",
      "source": [
        "# Step 2: Load the Pre-trained EDSR Model"
      ],
      "metadata": {
        "id": "YUwwsMCp7JIU"
      }
    },
    {
      "cell_type": "markdown",
      "source": [
        "**Objectives**:\n",
        "\n",
        "\n",
        "\n",
        "1.   Loading a well-known, **pre-trained** architecture (edsr-base) specifically configured for **2x super-resolution**.\n",
        "2.   Confirming that the model accepts data batches and produces outputs of the correct shape ([16, 3, 256, 256])."
      ],
      "metadata": {
        "id": "B92rUzqB_F-T"
      }
    },
    {
      "cell_type": "markdown",
      "source": [
        "## 2.1 Instantiate and Inspect the pre-trained EDSR model"
      ],
      "metadata": {
        "id": "DSU_eKfZ8RUH"
      }
    },
    {
      "cell_type": "code",
      "source": [
        "# The 'from_pretrained' method downloads the model configuration and weights.\n",
        "# We must specify our desired scale factor.\n",
        "# (LR: 128x128, HR: 256x256), -> scale is 2.\n",
        "scale = 2\n",
        "model_id = 'eugenesiow/edsr-base'\n",
        "model = EdsrModel.from_pretrained(model_id, scale=scale)\n",
        "\n",
        "# Inspect the model architecture\n",
        "print(\"Model architecture loaded successfully:\")\n",
        "print(model)"
      ],
      "metadata": {
        "colab": {
          "base_uri": "https://localhost:8080/",
          "height": 1000,
          "referenced_widgets": [
            "f457826df95b4a059a5fa3ebf86f3e8f",
            "903e5d9a55ac46ed821b1a2dfcd67877",
            "9c99668ed67042898688e454b1ba257f",
            "9528a8da0edf4c0dbe4ab167f33e41b4",
            "07b46f4dc77c4adeae5ed6c2c824361d",
            "7e1ab5ec708a4ebbaa3dda069c01e4c5",
            "182bc77a1a4f4c28bceef547525eca2e",
            "faecee24a7d3448ea0ad83c677e0ffa8",
            "dae6b6e0226943adb5928cdf5502bf17",
            "b941fc868c474c1eb1914cb6f4ac787c",
            "8694d7f9df38458ea74faa80ff801ed4",
            "7e5f829039fc40e6909a46089844dff4",
            "88de6494f5a046aaaa65bba0e6ae183f",
            "18d6e3f9702645b4926f202faee53f82",
            "d53abf70b96f480290a879f35e8aeb35",
            "4e943514ee83452ba613baf59e7b25f3",
            "4eca946721aa4f159a468e41fc666670",
            "4a9d63086df146ccad0585f69080a9a4",
            "5f99611b8758415dacc9926959218771",
            "819d26cff2004d5c831c785e81ad3d48",
            "98253cdc756946de819ddf3ea4ad9c74",
            "3c0f32b462194e0c819e10fafcf3e90e"
          ]
        },
        "id": "6d8c5mkF7jh0",
        "outputId": "f1b374ea-9170-4a58-8cb9-b5ac25cc9bd6"
      },
      "execution_count": 11,
      "outputs": [
        {
          "output_type": "display_data",
          "data": {
            "text/plain": [
              "config.json:   0%|          | 0.00/188 [00:00<?, ?B/s]"
            ],
            "application/vnd.jupyter.widget-view+json": {
              "version_major": 2,
              "version_minor": 0,
              "model_id": "f457826df95b4a059a5fa3ebf86f3e8f"
            }
          },
          "metadata": {}
        },
        {
          "output_type": "display_data",
          "data": {
            "text/plain": [
              "pytorch_model_2x.pt:   0%|          | 0.00/5.51M [00:00<?, ?B/s]"
            ],
            "application/vnd.jupyter.widget-view+json": {
              "version_major": 2,
              "version_minor": 0,
              "model_id": "7e5f829039fc40e6909a46089844dff4"
            }
          },
          "metadata": {}
        },
        {
          "output_type": "stream",
          "name": "stdout",
          "text": [
            "https://huggingface.co/eugenesiow/edsr-base/resolve/main/pytorch_model_2x.pt\n",
            "Model architecture loaded successfully:\n",
            "DataParallel(\n",
            "  (module): EdsrModel(\n",
            "    (sub_mean): MeanShift(3, 3, kernel_size=(1, 1), stride=(1, 1))\n",
            "    (add_mean): MeanShift(3, 3, kernel_size=(1, 1), stride=(1, 1))\n",
            "    (head): Sequential(\n",
            "      (0): Conv2d(3, 64, kernel_size=(3, 3), stride=(1, 1), padding=(1, 1))\n",
            "    )\n",
            "    (body): Sequential(\n",
            "      (0): ResBlock(\n",
            "        (body): Sequential(\n",
            "          (0): Conv2d(64, 64, kernel_size=(3, 3), stride=(1, 1), padding=(1, 1))\n",
            "          (1): ReLU(inplace=True)\n",
            "          (2): Conv2d(64, 64, kernel_size=(3, 3), stride=(1, 1), padding=(1, 1))\n",
            "        )\n",
            "      )\n",
            "      (1): ResBlock(\n",
            "        (body): Sequential(\n",
            "          (0): Conv2d(64, 64, kernel_size=(3, 3), stride=(1, 1), padding=(1, 1))\n",
            "          (1): ReLU(inplace=True)\n",
            "          (2): Conv2d(64, 64, kernel_size=(3, 3), stride=(1, 1), padding=(1, 1))\n",
            "        )\n",
            "      )\n",
            "      (2): ResBlock(\n",
            "        (body): Sequential(\n",
            "          (0): Conv2d(64, 64, kernel_size=(3, 3), stride=(1, 1), padding=(1, 1))\n",
            "          (1): ReLU(inplace=True)\n",
            "          (2): Conv2d(64, 64, kernel_size=(3, 3), stride=(1, 1), padding=(1, 1))\n",
            "        )\n",
            "      )\n",
            "      (3): ResBlock(\n",
            "        (body): Sequential(\n",
            "          (0): Conv2d(64, 64, kernel_size=(3, 3), stride=(1, 1), padding=(1, 1))\n",
            "          (1): ReLU(inplace=True)\n",
            "          (2): Conv2d(64, 64, kernel_size=(3, 3), stride=(1, 1), padding=(1, 1))\n",
            "        )\n",
            "      )\n",
            "      (4): ResBlock(\n",
            "        (body): Sequential(\n",
            "          (0): Conv2d(64, 64, kernel_size=(3, 3), stride=(1, 1), padding=(1, 1))\n",
            "          (1): ReLU(inplace=True)\n",
            "          (2): Conv2d(64, 64, kernel_size=(3, 3), stride=(1, 1), padding=(1, 1))\n",
            "        )\n",
            "      )\n",
            "      (5): ResBlock(\n",
            "        (body): Sequential(\n",
            "          (0): Conv2d(64, 64, kernel_size=(3, 3), stride=(1, 1), padding=(1, 1))\n",
            "          (1): ReLU(inplace=True)\n",
            "          (2): Conv2d(64, 64, kernel_size=(3, 3), stride=(1, 1), padding=(1, 1))\n",
            "        )\n",
            "      )\n",
            "      (6): ResBlock(\n",
            "        (body): Sequential(\n",
            "          (0): Conv2d(64, 64, kernel_size=(3, 3), stride=(1, 1), padding=(1, 1))\n",
            "          (1): ReLU(inplace=True)\n",
            "          (2): Conv2d(64, 64, kernel_size=(3, 3), stride=(1, 1), padding=(1, 1))\n",
            "        )\n",
            "      )\n",
            "      (7): ResBlock(\n",
            "        (body): Sequential(\n",
            "          (0): Conv2d(64, 64, kernel_size=(3, 3), stride=(1, 1), padding=(1, 1))\n",
            "          (1): ReLU(inplace=True)\n",
            "          (2): Conv2d(64, 64, kernel_size=(3, 3), stride=(1, 1), padding=(1, 1))\n",
            "        )\n",
            "      )\n",
            "      (8): ResBlock(\n",
            "        (body): Sequential(\n",
            "          (0): Conv2d(64, 64, kernel_size=(3, 3), stride=(1, 1), padding=(1, 1))\n",
            "          (1): ReLU(inplace=True)\n",
            "          (2): Conv2d(64, 64, kernel_size=(3, 3), stride=(1, 1), padding=(1, 1))\n",
            "        )\n",
            "      )\n",
            "      (9): ResBlock(\n",
            "        (body): Sequential(\n",
            "          (0): Conv2d(64, 64, kernel_size=(3, 3), stride=(1, 1), padding=(1, 1))\n",
            "          (1): ReLU(inplace=True)\n",
            "          (2): Conv2d(64, 64, kernel_size=(3, 3), stride=(1, 1), padding=(1, 1))\n",
            "        )\n",
            "      )\n",
            "      (10): ResBlock(\n",
            "        (body): Sequential(\n",
            "          (0): Conv2d(64, 64, kernel_size=(3, 3), stride=(1, 1), padding=(1, 1))\n",
            "          (1): ReLU(inplace=True)\n",
            "          (2): Conv2d(64, 64, kernel_size=(3, 3), stride=(1, 1), padding=(1, 1))\n",
            "        )\n",
            "      )\n",
            "      (11): ResBlock(\n",
            "        (body): Sequential(\n",
            "          (0): Conv2d(64, 64, kernel_size=(3, 3), stride=(1, 1), padding=(1, 1))\n",
            "          (1): ReLU(inplace=True)\n",
            "          (2): Conv2d(64, 64, kernel_size=(3, 3), stride=(1, 1), padding=(1, 1))\n",
            "        )\n",
            "      )\n",
            "      (12): ResBlock(\n",
            "        (body): Sequential(\n",
            "          (0): Conv2d(64, 64, kernel_size=(3, 3), stride=(1, 1), padding=(1, 1))\n",
            "          (1): ReLU(inplace=True)\n",
            "          (2): Conv2d(64, 64, kernel_size=(3, 3), stride=(1, 1), padding=(1, 1))\n",
            "        )\n",
            "      )\n",
            "      (13): ResBlock(\n",
            "        (body): Sequential(\n",
            "          (0): Conv2d(64, 64, kernel_size=(3, 3), stride=(1, 1), padding=(1, 1))\n",
            "          (1): ReLU(inplace=True)\n",
            "          (2): Conv2d(64, 64, kernel_size=(3, 3), stride=(1, 1), padding=(1, 1))\n",
            "        )\n",
            "      )\n",
            "      (14): ResBlock(\n",
            "        (body): Sequential(\n",
            "          (0): Conv2d(64, 64, kernel_size=(3, 3), stride=(1, 1), padding=(1, 1))\n",
            "          (1): ReLU(inplace=True)\n",
            "          (2): Conv2d(64, 64, kernel_size=(3, 3), stride=(1, 1), padding=(1, 1))\n",
            "        )\n",
            "      )\n",
            "      (15): ResBlock(\n",
            "        (body): Sequential(\n",
            "          (0): Conv2d(64, 64, kernel_size=(3, 3), stride=(1, 1), padding=(1, 1))\n",
            "          (1): ReLU(inplace=True)\n",
            "          (2): Conv2d(64, 64, kernel_size=(3, 3), stride=(1, 1), padding=(1, 1))\n",
            "        )\n",
            "      )\n",
            "      (16): Conv2d(64, 64, kernel_size=(3, 3), stride=(1, 1), padding=(1, 1))\n",
            "    )\n",
            "    (tail): Sequential(\n",
            "      (0): Upsampler(\n",
            "        (0): Conv2d(64, 256, kernel_size=(3, 3), stride=(1, 1), padding=(1, 1))\n",
            "        (1): PixelShuffle(upscale_factor=2)\n",
            "      )\n",
            "      (1): Conv2d(64, 3, kernel_size=(3, 3), stride=(1, 1), padding=(1, 1))\n",
            "    )\n",
            "  )\n",
            ")\n"
          ]
        }
      ]
    },
    {
      "cell_type": "markdown",
      "source": [
        "## 2.2 Sanity Check: Pass one batch of data through the model"
      ],
      "metadata": {
        "id": "z-QbcXpS8ae2"
      }
    },
    {
      "cell_type": "code",
      "source": [
        "# a crucial test to ensure the input/output dimensions are compatible.\n",
        "print(\"\\nPerforming a forward pass sanity check...\")\n",
        "device = torch.device(\"cuda\" if torch.cuda.is_available() else \"cpu\")\n",
        "model.to(device)\n",
        "model.eval()  # Set to evaluation mode for this check\n",
        "\n",
        "with torch.no_grad():\n",
        "    # Get a single batch from our dataloader\n",
        "    lr_batch, hr_batch = next(iter(train_loader))\n",
        "\n",
        "    # Move the batch to the same device as the model\n",
        "    lr_batch = lr_batch.to(device)\n",
        "\n",
        "    # Perform a forward pass\n",
        "    predictions = model(lr_batch)\n",
        "\n",
        "    print(f\"Sanity check successful!\")\n",
        "    print(f\"Running on device: {device}\")\n",
        "    print(f\"Model Input Shape (LR): {lr_batch.shape}\")\n",
        "    print(f\"Model Output Shape (Predictions): {predictions.shape}\")\n",
        "    print(f\"Target Shape (HR): {hr_batch.shape}\")\n",
        "\n",
        "# Compare output shape with the target High-Resolution shape\n",
        "assert predictions.shape == hr_batch.shape, \"Model output shape does not match target HR shape!\"\n",
        "print(\"Output shape matches target shape. Ready for training.\")"
      ],
      "metadata": {
        "colab": {
          "base_uri": "https://localhost:8080/"
        },
        "id": "CgnXeFZE8QJQ",
        "outputId": "72fe37cd-983a-4c4a-9e2a-54c3147077c4"
      },
      "execution_count": null,
      "outputs": [
        {
          "output_type": "stream",
          "name": "stdout",
          "text": [
            "\n",
            "Performing a forward pass sanity check...\n",
            "Sanity check successful!\n",
            "Running on device: cuda\n",
            "Model Input Shape (LR): torch.Size([16, 3, 128, 128])\n",
            "Model Output Shape (Predictions): torch.Size([16, 3, 256, 256])\n",
            "Target Shape (HR): torch.Size([16, 3, 256, 256])\n",
            "Output shape matches target shape. Ready for training.\n"
          ]
        }
      ]
    },
    {
      "cell_type": "markdown",
      "source": [
        "# Step 3: Configure and Launch the Trainer"
      ],
      "metadata": {
        "id": "csIBPYQpNALf"
      }
    },
    {
      "cell_type": "markdown",
      "source": [
        "## Custum Trainer with Checkpoints"
      ],
      "metadata": {
        "id": "8NRbqBcmcRXC"
      }
    },
    {
      "cell_type": "code",
      "source": [
        "import copy\n",
        "from super_image.file_utils import WEIGHTS_NAME, WEIGHTS_NAME_SCALE\n",
        "\n",
        "\n",
        "class CustomResumableTrainer(Trainer):\n",
        "    def __init__(self, *args, **kwargs):\n",
        "        super().__init__(*args, **kwargs)\n",
        "        self.optimizer = None\n",
        "        self.scheduler = None\n",
        "\n",
        "    def save_checkpoint(self, epoch, global_step, is_best=False):\n",
        "        output_dir = self.args.output_dir\n",
        "        os.makedirs(output_dir, exist_ok=True)\n",
        "        filename = 'best_model_checkpoint.pt' if is_best else 'latest_step_checkpoint.pt'\n",
        "        checkpoint_path = os.path.join(output_dir, filename)\n",
        "        state = {\n",
        "            'epoch': epoch, 'global_step': global_step, 'best_metric': self.best_metric,\n",
        "            'model_state_dict': self.model.state_dict(),\n",
        "            'optimizer_state_dict': self.optimizer.state_dict(),\n",
        "            'scheduler_state_dict': self.scheduler.state_dict(),\n",
        "        }\n",
        "        torch.save(state, checkpoint_path)\n",
        "        logger.info(f\"Saved checkpoint to {checkpoint_path} (step {global_step})\")\n",
        "\n",
        "    def load_checkpoint(self):\n",
        "        output_dir = self.args.output_dir\n",
        "        checkpoint_path = os.path.join(output_dir, 'latest_step_checkpoint.pt')\n",
        "        start_epoch, global_step = 0, 0\n",
        "        if not os.path.exists(checkpoint_path):\n",
        "            logger.warning(\"No checkpoint found. Starting from scratch.\")\n",
        "            return start_epoch, global_step\n",
        "        try:\n",
        "            state = torch.load(checkpoint_path, map_location=self.args.device)\n",
        "            self.model.load_state_dict(state['model_state_dict'])\n",
        "            if self.optimizer is None: self._create_optimizer_and_scheduler()\n",
        "            self.optimizer.load_state_dict(state['optimizer_state_dict'])\n",
        "            self.scheduler.load_state_dict(state['scheduler_state_dict'])\n",
        "            self.best_metric = state.get('best_metric', 0.0)\n",
        "            start_epoch = state['epoch']\n",
        "            global_step = state['global_step']\n",
        "            logger.info(f\"Successfully loaded checkpoint. Resuming from epoch {start_epoch}, step {global_step}.\")\n",
        "        except Exception as e:\n",
        "            logger.error(f\"Failed to load checkpoint: {e}. Starting from scratch.\")\n",
        "            start_epoch, global_step = 0, 0\n",
        "        return start_epoch, global_step\n",
        "\n",
        "    def save_model(self, output_dir: str = None):\n",
        "      \"\"\"\n",
        "      Overrides the faulty base save_model method to correctly handle\n",
        "      models wrapped in nn.DataParallel.\n",
        "      \"\"\"\n",
        "      output_dir = output_dir if output_dir is not None else self.args.output_dir\n",
        "      os.makedirs(output_dir, exist_ok=True)\n",
        "\n",
        "      # Determine if the model is the raw model or a wrapped one\n",
        "      model_to_save = self.model.module if isinstance(self.model, torch.nn.DataParallel) else self.model\n",
        "\n",
        "      # Now, we can safely call save_pretrained on the actual model\n",
        "      if isinstance(model_to_save, PreTrainedModel):\n",
        "          model_to_save.save_pretrained(output_dir)\n",
        "      else:\n",
        "          # Fallback for non-PreTrainedModel, though EDSR is one.\n",
        "          # This part is for full compatibility with the original's logic.\n",
        "          logger.warning(\"Saving a model that is not a PreTrainedModel.\")\n",
        "          scale = model_to_save.config.scale\n",
        "          if scale is not None:\n",
        "              weights_name = WEIGHTS_NAME_SCALE.format(scale=scale)\n",
        "          else:\n",
        "              weights_name = WEIGHTS_NAME\n",
        "          weights = copy.deepcopy(model_to_save.state_dict())\n",
        "          torch.save(weights, os.path.join(output_dir, weights_name))\n",
        "\n",
        "    def load_checkpoint(self):\n",
        "        \"\"\"Loads the most recent checkpoint available.\"\"\"\n",
        "        output_dir = self.args.output_dir\n",
        "        step_checkpoint_path = os.path.join(output_dir, 'latest_step_checkpoint.pt')\n",
        "        best_checkpoint_path = os.path.join(output_dir, 'best_model_checkpoint.pt')\n",
        "        start_epoch = 0\n",
        "\n",
        "        # Prioritize the very latest step-based checkpoint for resumption\n",
        "        checkpoint_path = None\n",
        "        if os.path.exists(step_checkpoint_path):\n",
        "            checkpoint_path = step_checkpoint_path\n",
        "        elif os.path.exists(best_checkpoint_path):\n",
        "            checkpoint_path = best_checkpoint_path\n",
        "\n",
        "        if checkpoint_path is None:\n",
        "            logger.warning(\"No checkpoint found. Starting from scratch.\")\n",
        "            return start_epoch\n",
        "\n",
        "        try:\n",
        "            state = torch.load(checkpoint_path, map_location=self.args.device)\n",
        "            self.model.load_state_dict(state['model_state_dict'])\n",
        "            if self.optimizer is None: self._create_optimizer_and_scheduler()\n",
        "            self.optimizer.load_state_dict(state['optimizer_state_dict'])\n",
        "            self.scheduler.load_state_dict(state['scheduler_state_dict'])\n",
        "            self.best_metric = state.get('best_metric', 0.0)\n",
        "            start_epoch = state['epoch'] # Resume from the same epoch\n",
        "            logger.info(f\"Successfully loaded checkpoint '{os.path.basename(checkpoint_path)}'. Resuming from epoch {start_epoch}.\")\n",
        "        except Exception as e:\n",
        "            logger.error(f\"Failed to load checkpoint: {e}. Starting from scratch.\")\n",
        "            start_epoch = 0\n",
        "        return start_epoch\n",
        "\n",
        "    def _create_optimizer_and_scheduler(self):\n",
        "        self.optimizer = Adam(self.model.parameters(), lr=self.args.learning_rate)\n",
        "        self.scheduler = lr_scheduler.StepLR(self.optimizer, step_size=999999, gamma=1.0) # Dummy scheduler, we control LR manually\n",
        "\n",
        "    def train(self, **kwargs):\n",
        "        \"\"\"Complete, resumable training loop with warm-up and step-based saving.\"\"\"\n",
        "        self._create_optimizer_and_scheduler()\n",
        "        start_epoch = self.load_checkpoint()\n",
        "        train_dataloader = self.get_train_dataloader()\n",
        "\n",
        "        # Correctly initialize global_step based on the loaded epoch\n",
        "        global_step = start_epoch * len(train_dataloader)\n",
        "\n",
        "        for epoch in range(start_epoch, self.args.num_train_epochs):\n",
        "            self.model.train()\n",
        "            epoch_losses = AverageMeter()\n",
        "            # Reset the tqdm progress bar for each epoch\n",
        "            with tqdm(total=len(train_dataloader), desc=f'Epoch {epoch}/{self.args.num_train_epochs - 1}') as t:\n",
        "                for data in train_dataloader:\n",
        "                    # --- Learning Rate Scheduling (Warm-up + Decay) ---\n",
        "                    if global_step < self.args.warmup_steps:\n",
        "                        # Warm-up phase\n",
        "                        lr_scale = float(global_step) / float(self.args.warmup_steps) if self.args.warmup_steps > 0 else 1.0\n",
        "                        new_lr = self.args.learning_rate * lr_scale\n",
        "                    else:\n",
        "                        # Post-warm-up decay phase\n",
        "                        # --- THIS IS THE CORRECTED LINE ---\n",
        "                        divisor = max(1, int(self.args.num_train_epochs * 0.8))\n",
        "                        new_lr = self.args.learning_rate * (0.1 ** (epoch // divisor))\n",
        "\n",
        "                    for param_group in self.optimizer.param_groups:\n",
        "                        param_group['lr'] = new_lr\n",
        "\n",
        "                    inputs, labels = data\n",
        "                    inputs, labels = inputs.to(self.args.device), labels.to(self.args.device)\n",
        "                    preds = self.model(inputs)\n",
        "                    loss = torch.nn.L1Loss()(preds, labels)\n",
        "                    epoch_losses.update(loss.item(), len(inputs))\n",
        "                    self.optimizer.zero_grad()\n",
        "                    loss.backward()\n",
        "                    self.optimizer.step()\n",
        "\n",
        "                    global_step += 1\n",
        "                    t.set_postfix(loss=f'{epoch_losses.avg:.6f}', lr=f'{new_lr:.2e}')\n",
        "                    t.update(1)\n",
        "\n",
        "                    # --- Step-Based Checkpointing ---\n",
        "                    if global_step > 0 and global_step % self.args.save_steps == 0:\n",
        "                        self.save_checkpoint(epoch, is_best=False)\n",
        "\n",
        "            # --- Epoch-Based Evaluation and Best Model Saving ---\n",
        "            self.eval(epoch)\n"
      ],
      "metadata": {
        "id": "qDbYjaEhKhW7"
      },
      "execution_count": 12,
      "outputs": []
    },
    {
      "cell_type": "markdown",
      "source": [
        "## Trainer Config"
      ],
      "metadata": {
        "id": "5d8uiyuW4UWJ"
      }
    },
    {
      "cell_type": "code",
      "source": [
        "@dataclass\n",
        "class CustomTrainingArguments(TrainingArguments):\n",
        "    warmup_steps: int = 0\n",
        "    save_steps: int = 100 # Default to saving every 100 steps\n"
      ],
      "metadata": {
        "id": "qVJ9sh50Lpbc"
      },
      "execution_count": 13,
      "outputs": []
    },
    {
      "cell_type": "markdown",
      "source": [
        "## Dry Run Test"
      ],
      "metadata": {
        "id": "gN34B1SB7a-Y"
      }
    },
    {
      "cell_type": "markdown",
      "source": [
        "**What this accomplishes:**\n",
        "\n",
        "*   The training loop will run on only 32 images.\n",
        "*   The `save_checkpoint` method will be called multiple times (for `is_best=False`).\n",
        "*   The `eval` loop will run after the tiny epoch.\n",
        "*   The overridden `save_model` will be called.\n",
        "*   The entire process should take **less than a minute**, giving you immediate feedback on whether your fix worked."
      ],
      "metadata": {
        "id": "4AYYpBc97ksz"
      }
    },
    {
      "cell_type": "code",
      "source": [
        "from torch.utils.data import Subset\n",
        "\n",
        "print(\"--- Performing a quick Dry Run to verify the fix ---\")\n",
        "\n",
        "# 1. Create a tiny subset of your training and validation data\n",
        "#    This will only use the first 32 samples.\n",
        "dry_run_train_dataset = Subset(train_dataset, range(32))\n",
        "dry_run_val_dataset = Subset(val_dataset, range(32))\n",
        "\n",
        "# 2. Create special \"dry run\" training arguments\n",
        "dry_run_args = CustomTrainingArguments(\n",
        "    output_dir=BASE_DIR /'edsr_dry_run_test', # Use a separate test directory\n",
        "    learning_rate=1e-4,\n",
        "    num_train_epochs=1,          # We only need one epoch to test the save logic\n",
        "    per_device_train_batch_size=8, # Use a small batch size\n",
        "    save_steps=2,                # Save a checkpoint every 2 steps to test this logic\n",
        "    warmup_steps=1               # Test the warm-up logic\n",
        ")\n",
        "\n",
        "# 3. Instantiate your trainer with the dry run data and args\n",
        "dry_run_trainer = CustomResumableTrainer(\n",
        "    model=model,  # Use the same model\n",
        "    args=dry_run_args,\n",
        "    train_dataset=dry_run_train_dataset,\n",
        "    eval_dataset=dry_run_val_dataset\n",
        ")\n",
        "\n",
        "# 4. Run the training. This should be very fast!\n",
        "try:\n",
        "    dry_run_trainer.train()\n",
        "    print(\"\\n✅ Dry Run Successful! Proceed with full training.\")\n",
        "except Exception as e:\n",
        "    print(f\"\\n❌ Dry Run Failed: {e}\")\n",
        "\n",
        "# --- END OF DRY RUN ---```\n"
      ],
      "metadata": {
        "id": "Jp1Xgffr7dPU",
        "outputId": "a8393661-91a8-4689-d27e-b653268db93a",
        "colab": {
          "base_uri": "https://localhost:8080/",
          "height": 137,
          "referenced_widgets": [
            "9240c7e9a1b5461bafd661bbcca9b6d3",
            "a79918ddcdea4d98a569d15d7cf4be2f",
            "25b18216e28947f2b618ea40048ab467",
            "65e008a4b89747ef8122fc74feabf42d",
            "9dd82c0701c245119598bd58967aa826",
            "cf04f54fbdde4c66b526366182ebff8c",
            "c213c9b0ee344396abbfc41c117b7f7d",
            "9b25fb9673704c6198ba25f0f3c4c39c",
            "0527ac7eabf34dde828facdc50e30837",
            "54dacbf19b6c4c798bc4dded39a25a59",
            "fe04033dac0b40869222c81ab03b90a5"
          ]
        }
      },
      "execution_count": null,
      "outputs": [
        {
          "output_type": "stream",
          "name": "stdout",
          "text": [
            "--- Performing a quick Dry Run to verify the fix ---\n"
          ]
        },
        {
          "output_type": "display_data",
          "data": {
            "text/plain": [
              "Epoch 0/0:   0%|          | 0/4 [00:00<?, ?it/s]"
            ],
            "application/vnd.jupyter.widget-view+json": {
              "version_major": 2,
              "version_minor": 0,
              "model_id": "9240c7e9a1b5461bafd661bbcca9b6d3"
            }
          },
          "metadata": {}
        },
        {
          "output_type": "stream",
          "name": "stdout",
          "text": [
            "scale:2      eval psnr: 44.31     ssim: 0.9851\n",
            "best epoch: 0, psnr: 44.310272, ssim: 0.985123\n",
            "\n",
            "✅ Dry Run Successful! Proceed with full training.\n"
          ]
        }
      ]
    },
    {
      "cell_type": "markdown",
      "source": [
        "## Start Training"
      ],
      "metadata": {
        "id": "NDzl-_Nz4g5X"
      }
    },
    {
      "cell_type": "code",
      "source": [
        "training_args = CustomTrainingArguments(\n",
        "    output_dir=FINETUNR_SAVE_DIR,\n",
        "\n",
        "    # --- Core parameters that are fully functional ---\n",
        "    num_train_epochs=15,          # Controls training length and the hardcoded LR decay\n",
        "    learning_rate=1e-4,           # Sets the initial learning rate\n",
        "    per_device_train_batch_size=24, # Controls training batch size\n",
        "\n",
        "    # --- Technical parameters that are functional ---\n",
        "    seed=42,                      # For reproducibility\n",
        "    fp16=torch.cuda.is_available(),\n",
        "    dataloader_num_workers=2,\n",
        "    save_steps=100,      # Save a recovery checkpoint every 100 steps\n",
        "    warmup_steps=500     # Use a 500-step learning rate warm-up\n",
        ")"
      ],
      "metadata": {
        "id": "L3mw9OL7iOxs"
      },
      "execution_count": 14,
      "outputs": []
    },
    {
      "cell_type": "code",
      "source": [
        "trainer = CustomResumableTrainer(\n",
        "    model=model,\n",
        "    args=training_args,\n",
        "    train_dataset=train_dataset,\n",
        "    eval_dataset=val_dataset,\n",
        ")"
      ],
      "metadata": {
        "id": "Du4n51ivdOjU"
      },
      "execution_count": 15,
      "outputs": []
    },
    {
      "cell_type": "code",
      "source": [
        "# Start Training with full confidence in the underlying process.\n",
        "print(\"Starting model fine-tuning \")\n",
        "trainer.train()\n",
        "\n",
        "print(f\"\\nTraining complete. The best model was found at epoch {trainer.best_epoch} \"\n",
        "      f\"with a PSNR of {trainer.best_metric:.2f}.\")\n",
        "print(f\"The best model has been saved in: {FINETUNR_SAVE_DIR}\")"
      ],
      "metadata": {
        "id": "fKxQxP2f4Nsr",
        "colab": {
          "base_uri": "https://localhost:8080/",
          "height": 184,
          "referenced_widgets": [
            "15dcfbe5d21444d794630fdc170fa4df",
            "111cbd08cdd142b4b093393fa34352a6",
            "c83cb590e44a4a009ab2bd255ae8ab00",
            "08b80d028e8f4ec5a32abdd6004a2247",
            "d02f3b5590874f4a9ab3ed0f5aac971b",
            "a22a1910973b4893932b5b05ed0d9664",
            "f93f7cfebad74fb5a310f2184ee626b4",
            "28fb668ce614426885bcb6dd96805007",
            "f17d37e02bae48008194f200911deb7f",
            "76017c7a4b884c029d08029b6cb8b7c1",
            "624dde6f59d342c7843813b13515a6d7",
            "b1fe1733473b483096801dc51a996ed6",
            "8df830fdbe1b4bb49753380a062c2cd8",
            "5f430ab6b8324bc7adcf730854a06644",
            "4c6681c3be014824af878e6bf299826f",
            "4b34a7a982fd43a6b475aac797dde975",
            "d4665866e4d94f5c9b72c5ef419c62c3",
            "df713506c9c24abb9eeb0f7e5dbdb5ce",
            "b27f84c38742466f8563ec17096786ff",
            "194b929840fe4fc586b9176ddcd30e20",
            "be0b103bc7b64919b6d9d9c66b4ee0aa",
            "000048b690a94c1ba2fe24fe2b7315c5",
            "46fc86d83425489aaf8ffa8745114dd5",
            "9ab9a0b6730b4af99b0101df7b0566db",
            "036954af11ab4cf480d82592a88de5a0",
            "57003a63c4e2422a86b0089a29e7203b",
            "49eedee55bac4120873a2913b2ffee20",
            "8d246f84ba734dc2aeef4be421343098",
            "1ad4c976fc2b4abe914deee0f660ae75",
            "d1b5c73fdf8c4d3494e7432b847ef8c1",
            "15837e4f348d4ec28f2515e221138bdb",
            "efcdf338c345487dba5654fd98f361a1",
            "2a9a8f0d9bbf4ac0b4b9c9c9830a1cde"
          ]
        },
        "outputId": "36c6e20d-e0bc-4469-e89c-6639256fd962"
      },
      "execution_count": null,
      "outputs": [
        {
          "output_type": "stream",
          "name": "stdout",
          "text": [
            "Starting model fine-tuning \n"
          ]
        },
        {
          "output_type": "display_data",
          "data": {
            "text/plain": [
              "Epoch 1/14:   0%|          | 0/185 [00:00<?, ?it/s]"
            ],
            "application/vnd.jupyter.widget-view+json": {
              "version_major": 2,
              "version_minor": 0,
              "model_id": "15dcfbe5d21444d794630fdc170fa4df"
            }
          },
          "metadata": {}
        },
        {
          "output_type": "stream",
          "name": "stdout",
          "text": [
            "scale:2      eval psnr: 46.36     ssim: 0.9892\n",
            "best epoch: 1, psnr: 46.361565, ssim: 0.989188\n"
          ]
        },
        {
          "output_type": "display_data",
          "data": {
            "text/plain": [
              "Epoch 2/14:   0%|          | 0/185 [00:00<?, ?it/s]"
            ],
            "application/vnd.jupyter.widget-view+json": {
              "version_major": 2,
              "version_minor": 0,
              "model_id": "b1fe1733473b483096801dc51a996ed6"
            }
          },
          "metadata": {}
        },
        {
          "output_type": "stream",
          "name": "stdout",
          "text": [
            "scale:2      eval psnr: 46.31     ssim: 0.9892\n"
          ]
        },
        {
          "output_type": "display_data",
          "data": {
            "text/plain": [
              "Epoch 3/14:   0%|          | 0/185 [00:00<?, ?it/s]"
            ],
            "application/vnd.jupyter.widget-view+json": {
              "version_major": 2,
              "version_minor": 0,
              "model_id": "46fc86d83425489aaf8ffa8745114dd5"
            }
          },
          "metadata": {}
        }
      ]
    }
  ]
}